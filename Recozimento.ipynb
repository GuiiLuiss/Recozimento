{
  "nbformat": 4,
  "nbformat_minor": 0,
  "metadata": {
    "colab": {
      "name": "Recozimento.ipynb",
      "provenance": [],
      "collapsed_sections": []
    },
    "kernelspec": {
      "name": "python3",
      "display_name": "Python 3"
    },
    "language_info": {
      "name": "python"
    }
  },
  "cells": [
    {
      "cell_type": "markdown",
      "metadata": {
        "id": "-BsBeSR8Y-YN"
      },
      "source": [
        "# **Recozimento - Data Science Project**\n"
      ]
    },
    {
      "cell_type": "markdown",
      "metadata": {
        "id": "BhAKrWorZzY_"
      },
      "source": [
        "Será que a largura da peça afetou diretamente no resultado final do recozimento? Qual foi a proporção dos resultados em Agosto/2020? Iremos responder essas e outras perguntas utilizando uma base de dados fornecida pela ICTS Protiviti."
      ]
    },
    {
      "cell_type": "markdown",
      "metadata": {
        "id": "kX2ylMQ1Zzqn"
      },
      "source": [
        "O recozimento é um tratamento térmico que tem por finalidade eliminar a dureza de \n",
        "uma peça temperada ou normalizar materiais com tensões internas resultantes do \n",
        "forjamento, da laminação e da trefilação. De acordo com o novo nível de dureza do \n",
        "material tratado, o resultado do processo de recozimento pode ser classificado como: \n",
        "ideal, mediano ou ruim. "
      ]
    },
    {
      "cell_type": "code",
      "metadata": {
        "colab": {
          "base_uri": "https://localhost:8080/",
          "height": 291
        },
        "id": "EMwkYzSpYzfv",
        "outputId": "d8462e07-badc-44bf-8ec6-a167942b10f4"
      },
      "source": [
        "from IPython.display import Image\n",
        "Image(url='https://media.giphy.com/media/dQpUkK59l5Imxsh8jN/giphy.gif')"
      ],
      "execution_count": 1,
      "outputs": [
        {
          "output_type": "execute_result",
          "data": {
            "text/html": [
              "<img src=\"https://media.giphy.com/media/dQpUkK59l5Imxsh8jN/giphy.gif\"/>"
            ],
            "text/plain": [
              "<IPython.core.display.Image object>"
            ]
          },
          "metadata": {
            "tags": []
          },
          "execution_count": 1
        }
      ]
    },
    {
      "cell_type": "markdown",
      "metadata": {
        "id": "TM4r8ZOcbXAP"
      },
      "source": [
        "**Sobre os dados**\n",
        "\n",
        "Esse estudo estará utilizando dados fornecidos pela equipe da ICTS Protiviti, na qual disponibilizou o dataset de treinamento, teste e data dos experimentos.\n",
        "\n",
        "Com base nas informações dispostas nesses datasets, realizarei insights acerca dos processos de recozimento e por fim treinar um modelo de machine learning para predizer o resultado de novos processos de recozimento.\n",
        "\n",
        "Importante ressaltar que para tal conjunto de dados, somente experimentos realizados em agosto de 2020 serão considerados.\n"
      ]
    },
    {
      "cell_type": "markdown",
      "metadata": {
        "id": "NZD2prvEG1kg"
      },
      "source": [
        "**Perguntas a serem respondidas**\n",
        "\n",
        "Dentre alguns dos questionamentos que podem ser gerados com estes dados, tenho interesse em saber a resposta para as seguintes perguntas:\n",
        "- Qual foi o resultado dos processos de recozimento em Agosto/2020?\n",
        "- Existe relação da força da peça com a forma?\n",
        "- Será que o tipo de aço com mais largura tem um recozimento melhor?\n",
        "\n"
      ]
    },
    {
      "cell_type": "code",
      "metadata": {
        "id": "OhtdKyWHTm2F"
      },
      "source": [
        "#Importando os dados\n",
        "import pandas as pd\n",
        "\n",
        "data_experimentos = pd.read_csv(\"data_experimentos.csv\")\n",
        "test = pd.read_csv(\"test.csv\")\n",
        "train = pd.read_csv(\"train.csv\")"
      ],
      "execution_count": 2,
      "outputs": []
    },
    {
      "cell_type": "code",
      "metadata": {
        "id": "Vgi38VXFJHdQ"
      },
      "source": [
        "#Importando numpy e bibliotecas de visualização \n",
        "\n",
        "import numpy as np #algebra\n",
        "import seaborn as sns #gráficos\n",
        "import matplotlib.pyplot as plt #plotagem\n",
        "%matplotlib inline"
      ],
      "execution_count": 3,
      "outputs": []
    },
    {
      "cell_type": "code",
      "metadata": {
        "colab": {
          "base_uri": "https://localhost:8080/"
        },
        "id": "54KddOnXJJtU",
        "outputId": "23a92324-e574-4934-bd39-c98c82817d0a"
      },
      "source": [
        "print(\"O dataset com a data dos experimentos possui %s linhas e %s colunas\" %(data_experimentos.shape[0], data_experimentos.shape[1]))\n",
        "print(\"O dataset de treinamento possui %s linhas e %s colunas\" %(train.shape[0], train.shape[1]))\n",
        "print(\"O dataset de teste possui %s linhas e %s colunas\" %(test.shape[0], test.shape[1]))"
      ],
      "execution_count": 4,
      "outputs": [
        {
          "output_type": "stream",
          "text": [
            "O dataset com a data dos experimentos possui 2424 linhas e 3 colunas\n",
            "O dataset de treinamento possui 2424 linhas e 40 colunas\n",
            "O dataset de teste possui 90 linhas e 39 colunas\n"
          ],
          "name": "stdout"
        }
      ]
    },
    {
      "cell_type": "code",
      "metadata": {
        "colab": {
          "base_uri": "https://localhost:8080/",
          "height": 204
        },
        "id": "sl2to3l3B0PO",
        "outputId": "92e9a0d2-1e73-4785-b42a-7d00cf7e5838"
      },
      "source": [
        "data_experimentos.head(5)"
      ],
      "execution_count": 5,
      "outputs": [
        {
          "output_type": "execute_result",
          "data": {
            "text/html": [
              "<div>\n",
              "<style scoped>\n",
              "    .dataframe tbody tr th:only-of-type {\n",
              "        vertical-align: middle;\n",
              "    }\n",
              "\n",
              "    .dataframe tbody tr th {\n",
              "        vertical-align: top;\n",
              "    }\n",
              "\n",
              "    .dataframe thead th {\n",
              "        text-align: right;\n",
              "    }\n",
              "</style>\n",
              "<table border=\"1\" class=\"dataframe\">\n",
              "  <thead>\n",
              "    <tr style=\"text-align: right;\">\n",
              "      <th></th>\n",
              "      <th>exp_id</th>\n",
              "      <th>ano</th>\n",
              "      <th>mes</th>\n",
              "    </tr>\n",
              "  </thead>\n",
              "  <tbody>\n",
              "    <tr>\n",
              "      <th>0</th>\n",
              "      <td>2</td>\n",
              "      <td>2020</td>\n",
              "      <td>8</td>\n",
              "    </tr>\n",
              "    <tr>\n",
              "      <th>1</th>\n",
              "      <td>1368</td>\n",
              "      <td>2020</td>\n",
              "      <td>8</td>\n",
              "    </tr>\n",
              "    <tr>\n",
              "      <th>2</th>\n",
              "      <td>1130</td>\n",
              "      <td>2020</td>\n",
              "      <td>8</td>\n",
              "    </tr>\n",
              "    <tr>\n",
              "      <th>3</th>\n",
              "      <td>402</td>\n",
              "      <td>2020</td>\n",
              "      <td>8</td>\n",
              "    </tr>\n",
              "    <tr>\n",
              "      <th>4</th>\n",
              "      <td>407</td>\n",
              "      <td>2020</td>\n",
              "      <td>8</td>\n",
              "    </tr>\n",
              "  </tbody>\n",
              "</table>\n",
              "</div>"
            ],
            "text/plain": [
              "   exp_id   ano  mes\n",
              "0       2  2020    8\n",
              "1    1368  2020    8\n",
              "2    1130  2020    8\n",
              "3     402  2020    8\n",
              "4     407  2020    8"
            ]
          },
          "metadata": {
            "tags": []
          },
          "execution_count": 5
        }
      ]
    },
    {
      "cell_type": "code",
      "metadata": {
        "colab": {
          "base_uri": "https://localhost:8080/",
          "height": 241
        },
        "id": "kW_NexfxNc73",
        "outputId": "a7561033-97a4-4aa6-ed27-49128b910ddf"
      },
      "source": [
        "train.head(5)"
      ],
      "execution_count": 6,
      "outputs": [
        {
          "output_type": "execute_result",
          "data": {
            "text/html": [
              "<div>\n",
              "<style scoped>\n",
              "    .dataframe tbody tr th:only-of-type {\n",
              "        vertical-align: middle;\n",
              "    }\n",
              "\n",
              "    .dataframe tbody tr th {\n",
              "        vertical-align: top;\n",
              "    }\n",
              "\n",
              "    .dataframe thead th {\n",
              "        text-align: right;\n",
              "    }\n",
              "</style>\n",
              "<table border=\"1\" class=\"dataframe\">\n",
              "  <thead>\n",
              "    <tr style=\"text-align: right;\">\n",
              "      <th></th>\n",
              "      <th>family</th>\n",
              "      <th>product-type</th>\n",
              "      <th>steel</th>\n",
              "      <th>carbon</th>\n",
              "      <th>hardness</th>\n",
              "      <th>temper_rolling</th>\n",
              "      <th>condition</th>\n",
              "      <th>formability</th>\n",
              "      <th>strength</th>\n",
              "      <th>non-ageing</th>\n",
              "      <th>surface-finish</th>\n",
              "      <th>surface-quality</th>\n",
              "      <th>enamelability</th>\n",
              "      <th>bc</th>\n",
              "      <th>bf</th>\n",
              "      <th>bt</th>\n",
              "      <th>bw/me</th>\n",
              "      <th>bl</th>\n",
              "      <th>m</th>\n",
              "      <th>chrom</th>\n",
              "      <th>phos</th>\n",
              "      <th>cbond</th>\n",
              "      <th>marvi</th>\n",
              "      <th>exptl</th>\n",
              "      <th>ferro</th>\n",
              "      <th>corr</th>\n",
              "      <th>blue/bright/varn/clean</th>\n",
              "      <th>lustre</th>\n",
              "      <th>jurofm</th>\n",
              "      <th>s</th>\n",
              "      <th>p</th>\n",
              "      <th>shape</th>\n",
              "      <th>thick</th>\n",
              "      <th>width</th>\n",
              "      <th>len</th>\n",
              "      <th>oil</th>\n",
              "      <th>bore</th>\n",
              "      <th>packing</th>\n",
              "      <th>recozimento</th>\n",
              "      <th>experimento</th>\n",
              "    </tr>\n",
              "  </thead>\n",
              "  <tbody>\n",
              "    <tr>\n",
              "      <th>0</th>\n",
              "      <td>?</td>\n",
              "      <td>C</td>\n",
              "      <td>A</td>\n",
              "      <td>8</td>\n",
              "      <td>0</td>\n",
              "      <td>?</td>\n",
              "      <td>S</td>\n",
              "      <td>?</td>\n",
              "      <td>0</td>\n",
              "      <td>?</td>\n",
              "      <td>?</td>\n",
              "      <td>G</td>\n",
              "      <td>?</td>\n",
              "      <td>?</td>\n",
              "      <td>?</td>\n",
              "      <td>?</td>\n",
              "      <td>?</td>\n",
              "      <td>?</td>\n",
              "      <td>?</td>\n",
              "      <td>?</td>\n",
              "      <td>?</td>\n",
              "      <td>?</td>\n",
              "      <td>?</td>\n",
              "      <td>?</td>\n",
              "      <td>?</td>\n",
              "      <td>?</td>\n",
              "      <td>?</td>\n",
              "      <td>?</td>\n",
              "      <td>?</td>\n",
              "      <td>?</td>\n",
              "      <td>?</td>\n",
              "      <td>COIL</td>\n",
              "      <td>_0.7_</td>\n",
              "      <td>_610.0_</td>\n",
              "      <td>_0_</td>\n",
              "      <td>?</td>\n",
              "      <td>0</td>\n",
              "      <td>?</td>\n",
              "      <td>ruim</td>\n",
              "      <td>exp_2</td>\n",
              "    </tr>\n",
              "    <tr>\n",
              "      <th>1</th>\n",
              "      <td>?</td>\n",
              "      <td>C</td>\n",
              "      <td>R</td>\n",
              "      <td>0</td>\n",
              "      <td>0</td>\n",
              "      <td>?</td>\n",
              "      <td>S</td>\n",
              "      <td>2.0</td>\n",
              "      <td>0</td>\n",
              "      <td>?</td>\n",
              "      <td>?</td>\n",
              "      <td>E</td>\n",
              "      <td>?</td>\n",
              "      <td>?</td>\n",
              "      <td>Y</td>\n",
              "      <td>?</td>\n",
              "      <td>B</td>\n",
              "      <td>?</td>\n",
              "      <td>?</td>\n",
              "      <td>?</td>\n",
              "      <td>?</td>\n",
              "      <td>?</td>\n",
              "      <td>?</td>\n",
              "      <td>?</td>\n",
              "      <td>?</td>\n",
              "      <td>?</td>\n",
              "      <td>?</td>\n",
              "      <td>?</td>\n",
              "      <td>?</td>\n",
              "      <td>?</td>\n",
              "      <td>?</td>\n",
              "      <td>SHEET</td>\n",
              "      <td>_0.7_</td>\n",
              "      <td>_1300.0_</td>\n",
              "      <td>_762_</td>\n",
              "      <td>?</td>\n",
              "      <td>0</td>\n",
              "      <td>?</td>\n",
              "      <td>ruim</td>\n",
              "      <td>exp_1368</td>\n",
              "    </tr>\n",
              "    <tr>\n",
              "      <th>2</th>\n",
              "      <td>?</td>\n",
              "      <td>C</td>\n",
              "      <td>A</td>\n",
              "      <td>0</td>\n",
              "      <td>60</td>\n",
              "      <td>T</td>\n",
              "      <td>?</td>\n",
              "      <td>?</td>\n",
              "      <td>0</td>\n",
              "      <td>?</td>\n",
              "      <td>?</td>\n",
              "      <td>G</td>\n",
              "      <td>?</td>\n",
              "      <td>?</td>\n",
              "      <td>?</td>\n",
              "      <td>?</td>\n",
              "      <td>M</td>\n",
              "      <td>?</td>\n",
              "      <td>?</td>\n",
              "      <td>?</td>\n",
              "      <td>?</td>\n",
              "      <td>?</td>\n",
              "      <td>?</td>\n",
              "      <td>?</td>\n",
              "      <td>?</td>\n",
              "      <td>?</td>\n",
              "      <td>?</td>\n",
              "      <td>?</td>\n",
              "      <td>?</td>\n",
              "      <td>?</td>\n",
              "      <td>?</td>\n",
              "      <td>COIL</td>\n",
              "      <td>_2.801_</td>\n",
              "      <td>_385.1_</td>\n",
              "      <td>_0_</td>\n",
              "      <td>?</td>\n",
              "      <td>0</td>\n",
              "      <td>?</td>\n",
              "      <td>ideal</td>\n",
              "      <td>exp_1130</td>\n",
              "    </tr>\n",
              "    <tr>\n",
              "      <th>3</th>\n",
              "      <td>?</td>\n",
              "      <td>C</td>\n",
              "      <td>A</td>\n",
              "      <td>0</td>\n",
              "      <td>60</td>\n",
              "      <td>T</td>\n",
              "      <td>?</td>\n",
              "      <td>?</td>\n",
              "      <td>0</td>\n",
              "      <td>?</td>\n",
              "      <td>?</td>\n",
              "      <td>G</td>\n",
              "      <td>?</td>\n",
              "      <td>?</td>\n",
              "      <td>?</td>\n",
              "      <td>?</td>\n",
              "      <td>B</td>\n",
              "      <td>Y</td>\n",
              "      <td>?</td>\n",
              "      <td>?</td>\n",
              "      <td>?</td>\n",
              "      <td>Y</td>\n",
              "      <td>?</td>\n",
              "      <td>?</td>\n",
              "      <td>?</td>\n",
              "      <td>?</td>\n",
              "      <td>?</td>\n",
              "      <td>?</td>\n",
              "      <td>?</td>\n",
              "      <td>?</td>\n",
              "      <td>?</td>\n",
              "      <td>SHEET</td>\n",
              "      <td>_0.801_</td>\n",
              "      <td>_255.0_</td>\n",
              "      <td>_269_</td>\n",
              "      <td>?</td>\n",
              "      <td>0</td>\n",
              "      <td>?</td>\n",
              "      <td>ideal</td>\n",
              "      <td>exp_402</td>\n",
              "    </tr>\n",
              "    <tr>\n",
              "      <th>4</th>\n",
              "      <td>?</td>\n",
              "      <td>C</td>\n",
              "      <td>A</td>\n",
              "      <td>0</td>\n",
              "      <td>45</td>\n",
              "      <td>?</td>\n",
              "      <td>S</td>\n",
              "      <td>?</td>\n",
              "      <td>0</td>\n",
              "      <td>?</td>\n",
              "      <td>?</td>\n",
              "      <td>D</td>\n",
              "      <td>?</td>\n",
              "      <td>?</td>\n",
              "      <td>?</td>\n",
              "      <td>?</td>\n",
              "      <td>?</td>\n",
              "      <td>?</td>\n",
              "      <td>?</td>\n",
              "      <td>?</td>\n",
              "      <td>?</td>\n",
              "      <td>?</td>\n",
              "      <td>?</td>\n",
              "      <td>?</td>\n",
              "      <td>?</td>\n",
              "      <td>?</td>\n",
              "      <td>?</td>\n",
              "      <td>?</td>\n",
              "      <td>?</td>\n",
              "      <td>?</td>\n",
              "      <td>?</td>\n",
              "      <td>COIL</td>\n",
              "      <td>_1.6_</td>\n",
              "      <td>_610.0_</td>\n",
              "      <td>_0_</td>\n",
              "      <td>?</td>\n",
              "      <td>0</td>\n",
              "      <td>?</td>\n",
              "      <td>mediano</td>\n",
              "      <td>exp_407</td>\n",
              "    </tr>\n",
              "  </tbody>\n",
              "</table>\n",
              "</div>"
            ],
            "text/plain": [
              "  family product-type steel  carbon  ...  bore packing recozimento experimento\n",
              "0      ?            C     A       8  ...     0       ?        ruim       exp_2\n",
              "1      ?            C     R       0  ...     0       ?        ruim    exp_1368\n",
              "2      ?            C     A       0  ...     0       ?       ideal    exp_1130\n",
              "3      ?            C     A       0  ...     0       ?       ideal     exp_402\n",
              "4      ?            C     A       0  ...     0       ?     mediano     exp_407\n",
              "\n",
              "[5 rows x 40 columns]"
            ]
          },
          "metadata": {
            "tags": []
          },
          "execution_count": 6
        }
      ]
    },
    {
      "cell_type": "markdown",
      "metadata": {
        "id": "Zzs60n7FNxr9"
      },
      "source": [
        "Acima temos as primeiras linhas do nosso dataset de treino e data dos experimentos.\n",
        "\n",
        "Conforme comentado, somente experimentos realizados em agosto de 2020 serão considerados, então, vamos unir o conjunto de dados principal (train.csv) à tabela acessória (data_experimentos.csv) através da chave experimento/exp_id, que é um relacionamento 1x1. "
      ]
    },
    {
      "cell_type": "code",
      "metadata": {
        "id": "O2UTmnT98mdC"
      },
      "source": [
        "#Primento, vamos transformar os dados da coluna \"exp_id\" em string no dataset \"data_experimentos\"\n",
        "data_experimentos['exp_id'] = data_experimentos['exp_id'].astype(str)\n",
        "\n",
        "#Segundo, vamos remover o pedaço \"exp_\" dos dados da coluna \"experimento\" no dataset de \"treino\"\n",
        "train['experimento'] = train['experimento'].apply(lambda x: x.replace('exp_', ''))\n",
        "\n",
        "#Por último, vamos fazer um join entre as tabelas e filtrar somente os dados de Agosto/2020\n",
        "train = train.join(data_experimentos.set_index('exp_id'), on='experimento')\n",
        "train = train.query('ano==2020 & mes==8')"
      ],
      "execution_count": 7,
      "outputs": []
    },
    {
      "cell_type": "code",
      "metadata": {
        "colab": {
          "base_uri": "https://localhost:8080/"
        },
        "id": "0VsxapnfRnaF",
        "outputId": "7978bc96-e769-494d-df50-0583404bf9a7"
      },
      "source": [
        "print(\"A união entre o dataset de treino com o de data dos experimentos possui %s linhas e %s colunas\" %(train.shape[0], train.shape[1]))"
      ],
      "execution_count": 8,
      "outputs": [
        {
          "output_type": "stream",
          "text": [
            "A união entre o dataset de treino com o de data dos experimentos possui 808 linhas e 42 colunas\n"
          ],
          "name": "stdout"
        }
      ]
    },
    {
      "cell_type": "markdown",
      "metadata": {
        "id": "8QSGnbUchRSY"
      },
      "source": [
        "**Dicionário de dados**\n",
        "\n",
        "Para facilitar o entendimento a qualquer leitor, irei colocar o significado de algumas variáveis:\n",
        "\n",
        "**carbon** - carbono (Variável contínua)\n",
        "\n",
        "**hardness** - dureza da peça (Variável contínua)\n",
        "\n",
        "**strength** - força (Variável contínua)\n",
        "\n",
        "**len** - comprimento da peça (Variável contínua)\n",
        "\n",
        "**width** - largura da peça (Variável contínua)\n",
        "\n",
        "**thick** - espessura da peça (Variável contínua)\n",
        "\n",
        "**shape** - formato (Variável categórica)\n",
        "\n",
        "**bore** - diâmetro (Variável categórica)"
      ]
    },
    {
      "cell_type": "markdown",
      "metadata": {
        "id": "wWmaXW2CEmQa"
      },
      "source": [
        "**Dados de treino**"
      ]
    },
    {
      "cell_type": "code",
      "metadata": {
        "colab": {
          "base_uri": "https://localhost:8080/",
          "height": 241
        },
        "id": "QW_zIAM3TChH",
        "outputId": "72efc3ad-ea2f-4069-b096-778d57bfe67b"
      },
      "source": [
        "train.head(5)"
      ],
      "execution_count": 9,
      "outputs": [
        {
          "output_type": "execute_result",
          "data": {
            "text/html": [
              "<div>\n",
              "<style scoped>\n",
              "    .dataframe tbody tr th:only-of-type {\n",
              "        vertical-align: middle;\n",
              "    }\n",
              "\n",
              "    .dataframe tbody tr th {\n",
              "        vertical-align: top;\n",
              "    }\n",
              "\n",
              "    .dataframe thead th {\n",
              "        text-align: right;\n",
              "    }\n",
              "</style>\n",
              "<table border=\"1\" class=\"dataframe\">\n",
              "  <thead>\n",
              "    <tr style=\"text-align: right;\">\n",
              "      <th></th>\n",
              "      <th>family</th>\n",
              "      <th>product-type</th>\n",
              "      <th>steel</th>\n",
              "      <th>carbon</th>\n",
              "      <th>hardness</th>\n",
              "      <th>temper_rolling</th>\n",
              "      <th>condition</th>\n",
              "      <th>formability</th>\n",
              "      <th>strength</th>\n",
              "      <th>non-ageing</th>\n",
              "      <th>surface-finish</th>\n",
              "      <th>surface-quality</th>\n",
              "      <th>enamelability</th>\n",
              "      <th>bc</th>\n",
              "      <th>bf</th>\n",
              "      <th>bt</th>\n",
              "      <th>bw/me</th>\n",
              "      <th>bl</th>\n",
              "      <th>m</th>\n",
              "      <th>chrom</th>\n",
              "      <th>phos</th>\n",
              "      <th>cbond</th>\n",
              "      <th>marvi</th>\n",
              "      <th>exptl</th>\n",
              "      <th>ferro</th>\n",
              "      <th>corr</th>\n",
              "      <th>blue/bright/varn/clean</th>\n",
              "      <th>lustre</th>\n",
              "      <th>jurofm</th>\n",
              "      <th>s</th>\n",
              "      <th>p</th>\n",
              "      <th>shape</th>\n",
              "      <th>thick</th>\n",
              "      <th>width</th>\n",
              "      <th>len</th>\n",
              "      <th>oil</th>\n",
              "      <th>bore</th>\n",
              "      <th>packing</th>\n",
              "      <th>recozimento</th>\n",
              "      <th>experimento</th>\n",
              "      <th>ano</th>\n",
              "      <th>mes</th>\n",
              "    </tr>\n",
              "  </thead>\n",
              "  <tbody>\n",
              "    <tr>\n",
              "      <th>0</th>\n",
              "      <td>?</td>\n",
              "      <td>C</td>\n",
              "      <td>A</td>\n",
              "      <td>8</td>\n",
              "      <td>0</td>\n",
              "      <td>?</td>\n",
              "      <td>S</td>\n",
              "      <td>?</td>\n",
              "      <td>0</td>\n",
              "      <td>?</td>\n",
              "      <td>?</td>\n",
              "      <td>G</td>\n",
              "      <td>?</td>\n",
              "      <td>?</td>\n",
              "      <td>?</td>\n",
              "      <td>?</td>\n",
              "      <td>?</td>\n",
              "      <td>?</td>\n",
              "      <td>?</td>\n",
              "      <td>?</td>\n",
              "      <td>?</td>\n",
              "      <td>?</td>\n",
              "      <td>?</td>\n",
              "      <td>?</td>\n",
              "      <td>?</td>\n",
              "      <td>?</td>\n",
              "      <td>?</td>\n",
              "      <td>?</td>\n",
              "      <td>?</td>\n",
              "      <td>?</td>\n",
              "      <td>?</td>\n",
              "      <td>COIL</td>\n",
              "      <td>_0.7_</td>\n",
              "      <td>_610.0_</td>\n",
              "      <td>_0_</td>\n",
              "      <td>?</td>\n",
              "      <td>0</td>\n",
              "      <td>?</td>\n",
              "      <td>ruim</td>\n",
              "      <td>2</td>\n",
              "      <td>2020</td>\n",
              "      <td>8</td>\n",
              "    </tr>\n",
              "    <tr>\n",
              "      <th>1</th>\n",
              "      <td>?</td>\n",
              "      <td>C</td>\n",
              "      <td>R</td>\n",
              "      <td>0</td>\n",
              "      <td>0</td>\n",
              "      <td>?</td>\n",
              "      <td>S</td>\n",
              "      <td>2.0</td>\n",
              "      <td>0</td>\n",
              "      <td>?</td>\n",
              "      <td>?</td>\n",
              "      <td>E</td>\n",
              "      <td>?</td>\n",
              "      <td>?</td>\n",
              "      <td>Y</td>\n",
              "      <td>?</td>\n",
              "      <td>B</td>\n",
              "      <td>?</td>\n",
              "      <td>?</td>\n",
              "      <td>?</td>\n",
              "      <td>?</td>\n",
              "      <td>?</td>\n",
              "      <td>?</td>\n",
              "      <td>?</td>\n",
              "      <td>?</td>\n",
              "      <td>?</td>\n",
              "      <td>?</td>\n",
              "      <td>?</td>\n",
              "      <td>?</td>\n",
              "      <td>?</td>\n",
              "      <td>?</td>\n",
              "      <td>SHEET</td>\n",
              "      <td>_0.7_</td>\n",
              "      <td>_1300.0_</td>\n",
              "      <td>_762_</td>\n",
              "      <td>?</td>\n",
              "      <td>0</td>\n",
              "      <td>?</td>\n",
              "      <td>ruim</td>\n",
              "      <td>1368</td>\n",
              "      <td>2020</td>\n",
              "      <td>8</td>\n",
              "    </tr>\n",
              "    <tr>\n",
              "      <th>2</th>\n",
              "      <td>?</td>\n",
              "      <td>C</td>\n",
              "      <td>A</td>\n",
              "      <td>0</td>\n",
              "      <td>60</td>\n",
              "      <td>T</td>\n",
              "      <td>?</td>\n",
              "      <td>?</td>\n",
              "      <td>0</td>\n",
              "      <td>?</td>\n",
              "      <td>?</td>\n",
              "      <td>G</td>\n",
              "      <td>?</td>\n",
              "      <td>?</td>\n",
              "      <td>?</td>\n",
              "      <td>?</td>\n",
              "      <td>M</td>\n",
              "      <td>?</td>\n",
              "      <td>?</td>\n",
              "      <td>?</td>\n",
              "      <td>?</td>\n",
              "      <td>?</td>\n",
              "      <td>?</td>\n",
              "      <td>?</td>\n",
              "      <td>?</td>\n",
              "      <td>?</td>\n",
              "      <td>?</td>\n",
              "      <td>?</td>\n",
              "      <td>?</td>\n",
              "      <td>?</td>\n",
              "      <td>?</td>\n",
              "      <td>COIL</td>\n",
              "      <td>_2.801_</td>\n",
              "      <td>_385.1_</td>\n",
              "      <td>_0_</td>\n",
              "      <td>?</td>\n",
              "      <td>0</td>\n",
              "      <td>?</td>\n",
              "      <td>ideal</td>\n",
              "      <td>1130</td>\n",
              "      <td>2020</td>\n",
              "      <td>8</td>\n",
              "    </tr>\n",
              "    <tr>\n",
              "      <th>3</th>\n",
              "      <td>?</td>\n",
              "      <td>C</td>\n",
              "      <td>A</td>\n",
              "      <td>0</td>\n",
              "      <td>60</td>\n",
              "      <td>T</td>\n",
              "      <td>?</td>\n",
              "      <td>?</td>\n",
              "      <td>0</td>\n",
              "      <td>?</td>\n",
              "      <td>?</td>\n",
              "      <td>G</td>\n",
              "      <td>?</td>\n",
              "      <td>?</td>\n",
              "      <td>?</td>\n",
              "      <td>?</td>\n",
              "      <td>B</td>\n",
              "      <td>Y</td>\n",
              "      <td>?</td>\n",
              "      <td>?</td>\n",
              "      <td>?</td>\n",
              "      <td>Y</td>\n",
              "      <td>?</td>\n",
              "      <td>?</td>\n",
              "      <td>?</td>\n",
              "      <td>?</td>\n",
              "      <td>?</td>\n",
              "      <td>?</td>\n",
              "      <td>?</td>\n",
              "      <td>?</td>\n",
              "      <td>?</td>\n",
              "      <td>SHEET</td>\n",
              "      <td>_0.801_</td>\n",
              "      <td>_255.0_</td>\n",
              "      <td>_269_</td>\n",
              "      <td>?</td>\n",
              "      <td>0</td>\n",
              "      <td>?</td>\n",
              "      <td>ideal</td>\n",
              "      <td>402</td>\n",
              "      <td>2020</td>\n",
              "      <td>8</td>\n",
              "    </tr>\n",
              "    <tr>\n",
              "      <th>4</th>\n",
              "      <td>?</td>\n",
              "      <td>C</td>\n",
              "      <td>A</td>\n",
              "      <td>0</td>\n",
              "      <td>45</td>\n",
              "      <td>?</td>\n",
              "      <td>S</td>\n",
              "      <td>?</td>\n",
              "      <td>0</td>\n",
              "      <td>?</td>\n",
              "      <td>?</td>\n",
              "      <td>D</td>\n",
              "      <td>?</td>\n",
              "      <td>?</td>\n",
              "      <td>?</td>\n",
              "      <td>?</td>\n",
              "      <td>?</td>\n",
              "      <td>?</td>\n",
              "      <td>?</td>\n",
              "      <td>?</td>\n",
              "      <td>?</td>\n",
              "      <td>?</td>\n",
              "      <td>?</td>\n",
              "      <td>?</td>\n",
              "      <td>?</td>\n",
              "      <td>?</td>\n",
              "      <td>?</td>\n",
              "      <td>?</td>\n",
              "      <td>?</td>\n",
              "      <td>?</td>\n",
              "      <td>?</td>\n",
              "      <td>COIL</td>\n",
              "      <td>_1.6_</td>\n",
              "      <td>_610.0_</td>\n",
              "      <td>_0_</td>\n",
              "      <td>?</td>\n",
              "      <td>0</td>\n",
              "      <td>?</td>\n",
              "      <td>mediano</td>\n",
              "      <td>407</td>\n",
              "      <td>2020</td>\n",
              "      <td>8</td>\n",
              "    </tr>\n",
              "  </tbody>\n",
              "</table>\n",
              "</div>"
            ],
            "text/plain": [
              "  family product-type steel  carbon  ...  recozimento experimento   ano mes\n",
              "0      ?            C     A       8  ...         ruim           2  2020   8\n",
              "1      ?            C     R       0  ...         ruim        1368  2020   8\n",
              "2      ?            C     A       0  ...        ideal        1130  2020   8\n",
              "3      ?            C     A       0  ...        ideal         402  2020   8\n",
              "4      ?            C     A       0  ...      mediano         407  2020   8\n",
              "\n",
              "[5 rows x 42 columns]"
            ]
          },
          "metadata": {
            "tags": []
          },
          "execution_count": 9
        }
      ]
    },
    {
      "cell_type": "markdown",
      "metadata": {
        "id": "l9FEDWw6eq-S"
      },
      "source": [
        "Alguns valores estão representados por \"?\" e não conseguimos ter a visualização da quantidade de nulos, então vamos transformar esses dados"
      ]
    },
    {
      "cell_type": "code",
      "metadata": {
        "id": "Q6jOU-gtjj_N"
      },
      "source": [
        "#Transformando dados para visualização de valores missing\n",
        "train = train.apply(lambda x: x.replace('?', np.nan))"
      ],
      "execution_count": 10,
      "outputs": []
    },
    {
      "cell_type": "code",
      "metadata": {
        "colab": {
          "base_uri": "https://localhost:8080/"
        },
        "id": "dFiaipmDVcjZ",
        "outputId": "190d286b-e75e-45cc-f6a8-1de7fe4fc0ab"
      },
      "source": [
        "#Verificando as informações do dataset\n",
        "train.info()"
      ],
      "execution_count": 11,
      "outputs": [
        {
          "output_type": "stream",
          "text": [
            "<class 'pandas.core.frame.DataFrame'>\n",
            "Int64Index: 808 entries, 0 to 807\n",
            "Data columns (total 42 columns):\n",
            " #   Column                  Non-Null Count  Dtype  \n",
            "---  ------                  --------------  -----  \n",
            " 0   family                  117 non-null    object \n",
            " 1   product-type            808 non-null    object \n",
            " 2   steel                   731 non-null    object \n",
            " 3   carbon                  808 non-null    int64  \n",
            " 4   hardness                808 non-null    int64  \n",
            " 5   temper_rolling          127 non-null    object \n",
            " 6   condition               534 non-null    object \n",
            " 7   formability             517 non-null    object \n",
            " 8   strength                808 non-null    int64  \n",
            " 9   non-ageing              95 non-null     object \n",
            " 10  surface-finish          8 non-null      object \n",
            " 11  surface-quality         593 non-null    object \n",
            " 12  enamelability           13 non-null     object \n",
            " 13  bc                      1 non-null      object \n",
            " 14  bf                      118 non-null    object \n",
            " 15  bt                      68 non-null     object \n",
            " 16  bw/me                   191 non-null    object \n",
            " 17  bl                      135 non-null    object \n",
            " 18  m                       0 non-null      float64\n",
            " 19  chrom                   24 non-null     object \n",
            " 20  phos                    6 non-null      object \n",
            " 21  cbond                   67 non-null     object \n",
            " 22  marvi                   0 non-null      float64\n",
            " 23  exptl                   2 non-null      object \n",
            " 24  ferro                   27 non-null     object \n",
            " 25  corr                    0 non-null      float64\n",
            " 26  blue/bright/varn/clean  5 non-null      object \n",
            " 27  lustre                  46 non-null     object \n",
            " 28  jurofm                  0 non-null      float64\n",
            " 29  s                       0 non-null      float64\n",
            " 30  p                       0 non-null      float64\n",
            " 31  shape                   808 non-null    object \n",
            " 32  thick                   808 non-null    object \n",
            " 33  width                   808 non-null    object \n",
            " 34  len                     808 non-null    object \n",
            " 35  oil                     58 non-null     object \n",
            " 36  bore                    808 non-null    int64  \n",
            " 37  packing                 9 non-null      object \n",
            " 38  recozimento             808 non-null    object \n",
            " 39  experimento             808 non-null    object \n",
            " 40  ano                     808 non-null    int64  \n",
            " 41  mes                     808 non-null    int64  \n",
            "dtypes: float64(6), int64(6), object(30)\n",
            "memory usage: 271.4+ KB\n"
          ],
          "name": "stdout"
        }
      ]
    },
    {
      "cell_type": "code",
      "metadata": {
        "colab": {
          "base_uri": "https://localhost:8080/",
          "height": 297
        },
        "id": "BaMan7GFGtzX",
        "outputId": "ce6c0532-26d6-46d8-a52b-4f1824489b69"
      },
      "source": [
        "#Resumo estatístico do dataset de treino\n",
        "train.describe()"
      ],
      "execution_count": 11,
      "outputs": [
        {
          "output_type": "execute_result",
          "data": {
            "text/html": [
              "<div>\n",
              "<style scoped>\n",
              "    .dataframe tbody tr th:only-of-type {\n",
              "        vertical-align: middle;\n",
              "    }\n",
              "\n",
              "    .dataframe tbody tr th {\n",
              "        vertical-align: top;\n",
              "    }\n",
              "\n",
              "    .dataframe thead th {\n",
              "        text-align: right;\n",
              "    }\n",
              "</style>\n",
              "<table border=\"1\" class=\"dataframe\">\n",
              "  <thead>\n",
              "    <tr style=\"text-align: right;\">\n",
              "      <th></th>\n",
              "      <th>carbon</th>\n",
              "      <th>hardness</th>\n",
              "      <th>strength</th>\n",
              "      <th>m</th>\n",
              "      <th>marvi</th>\n",
              "      <th>corr</th>\n",
              "      <th>jurofm</th>\n",
              "      <th>s</th>\n",
              "      <th>p</th>\n",
              "      <th>bore</th>\n",
              "      <th>ano</th>\n",
              "      <th>mes</th>\n",
              "    </tr>\n",
              "  </thead>\n",
              "  <tbody>\n",
              "    <tr>\n",
              "      <th>count</th>\n",
              "      <td>808.000000</td>\n",
              "      <td>808.000000</td>\n",
              "      <td>808.000000</td>\n",
              "      <td>0.0</td>\n",
              "      <td>0.0</td>\n",
              "      <td>0.0</td>\n",
              "      <td>0.0</td>\n",
              "      <td>0.0</td>\n",
              "      <td>0.0</td>\n",
              "      <td>808.000000</td>\n",
              "      <td>808.0</td>\n",
              "      <td>808.0</td>\n",
              "    </tr>\n",
              "    <tr>\n",
              "      <th>mean</th>\n",
              "      <td>3.492574</td>\n",
              "      <td>12.357673</td>\n",
              "      <td>30.829208</td>\n",
              "      <td>NaN</td>\n",
              "      <td>NaN</td>\n",
              "      <td>NaN</td>\n",
              "      <td>NaN</td>\n",
              "      <td>NaN</td>\n",
              "      <td>NaN</td>\n",
              "      <td>28.465347</td>\n",
              "      <td>2020.0</td>\n",
              "      <td>8.0</td>\n",
              "    </tr>\n",
              "    <tr>\n",
              "      <th>std</th>\n",
              "      <td>13.542716</td>\n",
              "      <td>25.134918</td>\n",
              "      <td>116.203601</td>\n",
              "      <td>NaN</td>\n",
              "      <td>NaN</td>\n",
              "      <td>NaN</td>\n",
              "      <td>NaN</td>\n",
              "      <td>NaN</td>\n",
              "      <td>NaN</td>\n",
              "      <td>125.177926</td>\n",
              "      <td>0.0</td>\n",
              "      <td>0.0</td>\n",
              "    </tr>\n",
              "    <tr>\n",
              "      <th>min</th>\n",
              "      <td>0.000000</td>\n",
              "      <td>0.000000</td>\n",
              "      <td>0.000000</td>\n",
              "      <td>NaN</td>\n",
              "      <td>NaN</td>\n",
              "      <td>NaN</td>\n",
              "      <td>NaN</td>\n",
              "      <td>NaN</td>\n",
              "      <td>NaN</td>\n",
              "      <td>0.000000</td>\n",
              "      <td>2020.0</td>\n",
              "      <td>8.0</td>\n",
              "    </tr>\n",
              "    <tr>\n",
              "      <th>25%</th>\n",
              "      <td>0.000000</td>\n",
              "      <td>0.000000</td>\n",
              "      <td>0.000000</td>\n",
              "      <td>NaN</td>\n",
              "      <td>NaN</td>\n",
              "      <td>NaN</td>\n",
              "      <td>NaN</td>\n",
              "      <td>NaN</td>\n",
              "      <td>NaN</td>\n",
              "      <td>0.000000</td>\n",
              "      <td>2020.0</td>\n",
              "      <td>8.0</td>\n",
              "    </tr>\n",
              "    <tr>\n",
              "      <th>50%</th>\n",
              "      <td>0.000000</td>\n",
              "      <td>0.000000</td>\n",
              "      <td>0.000000</td>\n",
              "      <td>NaN</td>\n",
              "      <td>NaN</td>\n",
              "      <td>NaN</td>\n",
              "      <td>NaN</td>\n",
              "      <td>NaN</td>\n",
              "      <td>NaN</td>\n",
              "      <td>0.000000</td>\n",
              "      <td>2020.0</td>\n",
              "      <td>8.0</td>\n",
              "    </tr>\n",
              "    <tr>\n",
              "      <th>75%</th>\n",
              "      <td>0.000000</td>\n",
              "      <td>0.000000</td>\n",
              "      <td>0.000000</td>\n",
              "      <td>NaN</td>\n",
              "      <td>NaN</td>\n",
              "      <td>NaN</td>\n",
              "      <td>NaN</td>\n",
              "      <td>NaN</td>\n",
              "      <td>NaN</td>\n",
              "      <td>0.000000</td>\n",
              "      <td>2020.0</td>\n",
              "      <td>8.0</td>\n",
              "    </tr>\n",
              "    <tr>\n",
              "      <th>max</th>\n",
              "      <td>70.000000</td>\n",
              "      <td>85.000000</td>\n",
              "      <td>700.000000</td>\n",
              "      <td>NaN</td>\n",
              "      <td>NaN</td>\n",
              "      <td>NaN</td>\n",
              "      <td>NaN</td>\n",
              "      <td>NaN</td>\n",
              "      <td>NaN</td>\n",
              "      <td>600.000000</td>\n",
              "      <td>2020.0</td>\n",
              "      <td>8.0</td>\n",
              "    </tr>\n",
              "  </tbody>\n",
              "</table>\n",
              "</div>"
            ],
            "text/plain": [
              "           carbon    hardness    strength    m  ...    p        bore     ano    mes\n",
              "count  808.000000  808.000000  808.000000  0.0  ...  0.0  808.000000   808.0  808.0\n",
              "mean     3.492574   12.357673   30.829208  NaN  ...  NaN   28.465347  2020.0    8.0\n",
              "std     13.542716   25.134918  116.203601  NaN  ...  NaN  125.177926     0.0    0.0\n",
              "min      0.000000    0.000000    0.000000  NaN  ...  NaN    0.000000  2020.0    8.0\n",
              "25%      0.000000    0.000000    0.000000  NaN  ...  NaN    0.000000  2020.0    8.0\n",
              "50%      0.000000    0.000000    0.000000  NaN  ...  NaN    0.000000  2020.0    8.0\n",
              "75%      0.000000    0.000000    0.000000  NaN  ...  NaN    0.000000  2020.0    8.0\n",
              "max     70.000000   85.000000  700.000000  NaN  ...  NaN  600.000000  2020.0    8.0\n",
              "\n",
              "[8 rows x 12 columns]"
            ]
          },
          "metadata": {
            "tags": []
          },
          "execution_count": 11
        }
      ]
    },
    {
      "cell_type": "markdown",
      "metadata": {
        "id": "v8E2GD8JGvzq"
      },
      "source": [
        "A função describe permite saber rapidamente um resumo estatístico do DataFrame, como média, desvio padrão, nº máximo, nº mínimo, moda, media e quartis."
      ]
    },
    {
      "cell_type": "code",
      "metadata": {
        "colab": {
          "base_uri": "https://localhost:8080/"
        },
        "id": "MH2OMPuvne7-",
        "outputId": "89c77811-bd7a-4c64-9251-cab3ab3dbeb5"
      },
      "source": [
        "#Visualizando quantidade de valores nulos nas colunas\n",
        "train.isnull().sum().sort_values(ascending=False)"
      ],
      "execution_count": 12,
      "outputs": [
        {
          "output_type": "execute_result",
          "data": {
            "text/plain": [
              "marvi                     808\n",
              "m                         808\n",
              "corr                      808\n",
              "jurofm                    808\n",
              "s                         808\n",
              "p                         808\n",
              "bc                        807\n",
              "exptl                     806\n",
              "blue/bright/varn/clean    803\n",
              "phos                      802\n",
              "surface-finish            800\n",
              "packing                   799\n",
              "enamelability             795\n",
              "chrom                     784\n",
              "ferro                     781\n",
              "lustre                    762\n",
              "oil                       750\n",
              "cbond                     741\n",
              "bt                        740\n",
              "non-ageing                713\n",
              "family                    691\n",
              "bf                        690\n",
              "temper_rolling            681\n",
              "bl                        673\n",
              "bw/me                     617\n",
              "formability               291\n",
              "condition                 274\n",
              "surface-quality           215\n",
              "steel                      77\n",
              "ano                         0\n",
              "product-type                0\n",
              "carbon                      0\n",
              "hardness                    0\n",
              "recozimento                 0\n",
              "strength                    0\n",
              "experimento                 0\n",
              "shape                       0\n",
              "bore                        0\n",
              "len                         0\n",
              "width                       0\n",
              "thick                       0\n",
              "mes                         0\n",
              "dtype: int64"
            ]
          },
          "metadata": {
            "tags": []
          },
          "execution_count": 12
        }
      ]
    },
    {
      "cell_type": "code",
      "metadata": {
        "colab": {
          "base_uri": "https://localhost:8080/",
          "height": 483
        },
        "id": "YBUoFg7VnlBP",
        "outputId": "fc4155d9-1a4b-41dc-dc64-95c254770959"
      },
      "source": [
        "# Plotagem dos valores missing (nulos)\n",
        "plt.subplots(figsize=(25,7))\n",
        "sns.heatmap(train.isnull(),yticklabels=False,cbar=False,cmap='viridis');\n",
        "plt.title(\"Valores missing (Em amarelo)\");"
      ],
      "execution_count": 13,
      "outputs": [
        {
          "output_type": "display_data",
          "data": {
            "image/png": "[encoded data removed]",
            "text/plain": [
              "<Figure size 1800x504 with 1 Axes>"
            ]
          },
          "metadata": {
            "tags": [],
            "needs_background": "light"
          }
        }
      ]
    },
    {
      "cell_type": "markdown",
      "metadata": {
        "id": "hg8CIdHTEZsL"
      },
      "source": [
        "**Dados de teste**"
      ]
    },
    {
      "cell_type": "code",
      "metadata": {
        "colab": {
          "base_uri": "https://localhost:8080/",
          "height": 241
        },
        "id": "_exghY4CE40i",
        "outputId": "5072c5a7-3be6-4dc2-a9b5-0c64e3809945"
      },
      "source": [
        "test.head(5)"
      ],
      "execution_count": 14,
      "outputs": [
        {
          "output_type": "execute_result",
          "data": {
            "text/html": [
              "<div>\n",
              "<style scoped>\n",
              "    .dataframe tbody tr th:only-of-type {\n",
              "        vertical-align: middle;\n",
              "    }\n",
              "\n",
              "    .dataframe tbody tr th {\n",
              "        vertical-align: top;\n",
              "    }\n",
              "\n",
              "    .dataframe thead th {\n",
              "        text-align: right;\n",
              "    }\n",
              "</style>\n",
              "<table border=\"1\" class=\"dataframe\">\n",
              "  <thead>\n",
              "    <tr style=\"text-align: right;\">\n",
              "      <th></th>\n",
              "      <th>family</th>\n",
              "      <th>product-type</th>\n",
              "      <th>steel</th>\n",
              "      <th>carbon</th>\n",
              "      <th>hardness</th>\n",
              "      <th>temper_rolling</th>\n",
              "      <th>condition</th>\n",
              "      <th>formability</th>\n",
              "      <th>strength</th>\n",
              "      <th>non-ageing</th>\n",
              "      <th>surface-finish</th>\n",
              "      <th>surface-quality</th>\n",
              "      <th>enamelability</th>\n",
              "      <th>bc</th>\n",
              "      <th>bf</th>\n",
              "      <th>bt</th>\n",
              "      <th>bw/me</th>\n",
              "      <th>bl</th>\n",
              "      <th>m</th>\n",
              "      <th>chrom</th>\n",
              "      <th>phos</th>\n",
              "      <th>cbond</th>\n",
              "      <th>marvi</th>\n",
              "      <th>exptl</th>\n",
              "      <th>ferro</th>\n",
              "      <th>corr</th>\n",
              "      <th>blue/bright/varn/clean</th>\n",
              "      <th>lustre</th>\n",
              "      <th>jurofm</th>\n",
              "      <th>s</th>\n",
              "      <th>p</th>\n",
              "      <th>shape</th>\n",
              "      <th>thick</th>\n",
              "      <th>width</th>\n",
              "      <th>len</th>\n",
              "      <th>oil</th>\n",
              "      <th>bore</th>\n",
              "      <th>packing</th>\n",
              "      <th>id</th>\n",
              "    </tr>\n",
              "  </thead>\n",
              "  <tbody>\n",
              "    <tr>\n",
              "      <th>0</th>\n",
              "      <td>?</td>\n",
              "      <td>C</td>\n",
              "      <td>K</td>\n",
              "      <td>55</td>\n",
              "      <td>0</td>\n",
              "      <td>?</td>\n",
              "      <td>?</td>\n",
              "      <td>?</td>\n",
              "      <td>0</td>\n",
              "      <td>?</td>\n",
              "      <td>?</td>\n",
              "      <td>?</td>\n",
              "      <td>?</td>\n",
              "      <td>?</td>\n",
              "      <td>?</td>\n",
              "      <td>?</td>\n",
              "      <td>M</td>\n",
              "      <td>?</td>\n",
              "      <td>?</td>\n",
              "      <td>?</td>\n",
              "      <td>?</td>\n",
              "      <td>?</td>\n",
              "      <td>?</td>\n",
              "      <td>?</td>\n",
              "      <td>?</td>\n",
              "      <td>?</td>\n",
              "      <td>?</td>\n",
              "      <td>?</td>\n",
              "      <td>?</td>\n",
              "      <td>?</td>\n",
              "      <td>?</td>\n",
              "      <td>COIL</td>\n",
              "      <td>2.200</td>\n",
              "      <td>900.0</td>\n",
              "      <td>0</td>\n",
              "      <td>?</td>\n",
              "      <td>0</td>\n",
              "      <td>?</td>\n",
              "      <td>1</td>\n",
              "    </tr>\n",
              "    <tr>\n",
              "      <th>1</th>\n",
              "      <td>?</td>\n",
              "      <td>C</td>\n",
              "      <td>K</td>\n",
              "      <td>45</td>\n",
              "      <td>0</td>\n",
              "      <td>?</td>\n",
              "      <td>?</td>\n",
              "      <td>?</td>\n",
              "      <td>0</td>\n",
              "      <td>?</td>\n",
              "      <td>?</td>\n",
              "      <td>?</td>\n",
              "      <td>?</td>\n",
              "      <td>?</td>\n",
              "      <td>?</td>\n",
              "      <td>?</td>\n",
              "      <td>?</td>\n",
              "      <td>?</td>\n",
              "      <td>?</td>\n",
              "      <td>?</td>\n",
              "      <td>?</td>\n",
              "      <td>?</td>\n",
              "      <td>?</td>\n",
              "      <td>?</td>\n",
              "      <td>?</td>\n",
              "      <td>?</td>\n",
              "      <td>?</td>\n",
              "      <td>?</td>\n",
              "      <td>?</td>\n",
              "      <td>?</td>\n",
              "      <td>?</td>\n",
              "      <td>COIL</td>\n",
              "      <td>1.090</td>\n",
              "      <td>610.0</td>\n",
              "      <td>0</td>\n",
              "      <td>?</td>\n",
              "      <td>0</td>\n",
              "      <td>?</td>\n",
              "      <td>2</td>\n",
              "    </tr>\n",
              "    <tr>\n",
              "      <th>2</th>\n",
              "      <td>?</td>\n",
              "      <td>C</td>\n",
              "      <td>R</td>\n",
              "      <td>0</td>\n",
              "      <td>0</td>\n",
              "      <td>?</td>\n",
              "      <td>S</td>\n",
              "      <td>3.0</td>\n",
              "      <td>0</td>\n",
              "      <td>?</td>\n",
              "      <td>?</td>\n",
              "      <td>?</td>\n",
              "      <td>?</td>\n",
              "      <td>?</td>\n",
              "      <td>?</td>\n",
              "      <td>?</td>\n",
              "      <td>?</td>\n",
              "      <td>?</td>\n",
              "      <td>?</td>\n",
              "      <td>?</td>\n",
              "      <td>?</td>\n",
              "      <td>?</td>\n",
              "      <td>?</td>\n",
              "      <td>?</td>\n",
              "      <td>?</td>\n",
              "      <td>?</td>\n",
              "      <td>?</td>\n",
              "      <td>?</td>\n",
              "      <td>?</td>\n",
              "      <td>?</td>\n",
              "      <td>?</td>\n",
              "      <td>SHEET</td>\n",
              "      <td>1.599</td>\n",
              "      <td>150.0</td>\n",
              "      <td>762</td>\n",
              "      <td>?</td>\n",
              "      <td>0</td>\n",
              "      <td>?</td>\n",
              "      <td>3</td>\n",
              "    </tr>\n",
              "    <tr>\n",
              "      <th>3</th>\n",
              "      <td>?</td>\n",
              "      <td>C</td>\n",
              "      <td>A</td>\n",
              "      <td>0</td>\n",
              "      <td>0</td>\n",
              "      <td>?</td>\n",
              "      <td>S</td>\n",
              "      <td>2.0</td>\n",
              "      <td>0</td>\n",
              "      <td>?</td>\n",
              "      <td>?</td>\n",
              "      <td>G</td>\n",
              "      <td>?</td>\n",
              "      <td>?</td>\n",
              "      <td>?</td>\n",
              "      <td>?</td>\n",
              "      <td>?</td>\n",
              "      <td>?</td>\n",
              "      <td>?</td>\n",
              "      <td>?</td>\n",
              "      <td>?</td>\n",
              "      <td>?</td>\n",
              "      <td>?</td>\n",
              "      <td>?</td>\n",
              "      <td>?</td>\n",
              "      <td>?</td>\n",
              "      <td>?</td>\n",
              "      <td>?</td>\n",
              "      <td>?</td>\n",
              "      <td>?</td>\n",
              "      <td>?</td>\n",
              "      <td>COIL</td>\n",
              "      <td>0.400</td>\n",
              "      <td>20.0</td>\n",
              "      <td>0</td>\n",
              "      <td>?</td>\n",
              "      <td>0</td>\n",
              "      <td>?</td>\n",
              "      <td>4</td>\n",
              "    </tr>\n",
              "    <tr>\n",
              "      <th>4</th>\n",
              "      <td>?</td>\n",
              "      <td>C</td>\n",
              "      <td>R</td>\n",
              "      <td>0</td>\n",
              "      <td>0</td>\n",
              "      <td>?</td>\n",
              "      <td>S</td>\n",
              "      <td>2.0</td>\n",
              "      <td>0</td>\n",
              "      <td>?</td>\n",
              "      <td>?</td>\n",
              "      <td>E</td>\n",
              "      <td>?</td>\n",
              "      <td>?</td>\n",
              "      <td>?</td>\n",
              "      <td>Y</td>\n",
              "      <td>?</td>\n",
              "      <td>?</td>\n",
              "      <td>?</td>\n",
              "      <td>?</td>\n",
              "      <td>?</td>\n",
              "      <td>?</td>\n",
              "      <td>?</td>\n",
              "      <td>?</td>\n",
              "      <td>?</td>\n",
              "      <td>?</td>\n",
              "      <td>?</td>\n",
              "      <td>?</td>\n",
              "      <td>?</td>\n",
              "      <td>?</td>\n",
              "      <td>?</td>\n",
              "      <td>COIL</td>\n",
              "      <td>0.699</td>\n",
              "      <td>1320.0</td>\n",
              "      <td>0</td>\n",
              "      <td>?</td>\n",
              "      <td>0</td>\n",
              "      <td>?</td>\n",
              "      <td>5</td>\n",
              "    </tr>\n",
              "  </tbody>\n",
              "</table>\n",
              "</div>"
            ],
            "text/plain": [
              "  family product-type steel  carbon  hardness  ...  len oil bore  packing id\n",
              "0      ?            C     K      55         0  ...    0   ?    0        ?  1\n",
              "1      ?            C     K      45         0  ...    0   ?    0        ?  2\n",
              "2      ?            C     R       0         0  ...  762   ?    0        ?  3\n",
              "3      ?            C     A       0         0  ...    0   ?    0        ?  4\n",
              "4      ?            C     R       0         0  ...    0   ?    0        ?  5\n",
              "\n",
              "[5 rows x 39 columns]"
            ]
          },
          "metadata": {
            "tags": []
          },
          "execution_count": 14
        }
      ]
    },
    {
      "cell_type": "code",
      "metadata": {
        "id": "gk7x4PlQ_XZR"
      },
      "source": [
        "'''Alguns valores estão representados por \"?\" e não conseguimos ter a visualização da \n",
        "quantidade de nulos, então também vamos transformar esses dados'''\n",
        "\n",
        "test = test.apply(lambda x: x.replace('?', np.nan))"
      ],
      "execution_count": 15,
      "outputs": []
    },
    {
      "cell_type": "code",
      "metadata": {
        "colab": {
          "base_uri": "https://localhost:8080/"
        },
        "id": "VDfFgqeLHHsK",
        "outputId": "e6d8455c-72df-4fda-c616-141f9d616ccc"
      },
      "source": [
        "#Verificando as informações do dataset de teste\n",
        "test.info()"
      ],
      "execution_count": 16,
      "outputs": [
        {
          "output_type": "stream",
          "text": [
            "<class 'pandas.core.frame.DataFrame'>\n",
            "RangeIndex: 90 entries, 0 to 89\n",
            "Data columns (total 39 columns):\n",
            " #   Column                  Non-Null Count  Dtype  \n",
            "---  ------                  --------------  -----  \n",
            " 0   family                  9 non-null      object \n",
            " 1   product-type            90 non-null     object \n",
            " 2   steel                   81 non-null     object \n",
            " 3   carbon                  90 non-null     int64  \n",
            " 4   hardness                90 non-null     int64  \n",
            " 5   temper_rolling          10 non-null     object \n",
            " 6   condition               61 non-null     object \n",
            " 7   formability             63 non-null     object \n",
            " 8   strength                90 non-null     int64  \n",
            " 9   non-ageing              10 non-null     object \n",
            " 10  surface-finish          1 non-null      object \n",
            " 11  surface-quality         61 non-null     object \n",
            " 12  enamelability           3 non-null      object \n",
            " 13  bc                      0 non-null      float64\n",
            " 14  bf                      11 non-null     object \n",
            " 15  bt                      6 non-null      object \n",
            " 16  bw/me                   20 non-null     object \n",
            " 17  bl                      14 non-null     object \n",
            " 18  m                       0 non-null      float64\n",
            " 19  chrom                   2 non-null      object \n",
            " 20  phos                    1 non-null      object \n",
            " 21  cbond                   7 non-null      object \n",
            " 22  marvi                   0 non-null      float64\n",
            " 23  exptl                   0 non-null      float64\n",
            " 24  ferro                   3 non-null      object \n",
            " 25  corr                    0 non-null      float64\n",
            " 26  blue/bright/varn/clean  1 non-null      object \n",
            " 27  lustre                  5 non-null      object \n",
            " 28  jurofm                  0 non-null      float64\n",
            " 29  s                       0 non-null      float64\n",
            " 30  p                       0 non-null      float64\n",
            " 31  shape                   90 non-null     object \n",
            " 32  thick                   90 non-null     float64\n",
            " 33  width                   90 non-null     float64\n",
            " 34  len                     90 non-null     int64  \n",
            " 35  oil                     6 non-null      object \n",
            " 36  bore                    90 non-null     int64  \n",
            " 37  packing                 0 non-null      float64\n",
            " 38  id                      90 non-null     int64  \n",
            "dtypes: float64(11), int64(6), object(22)\n",
            "memory usage: 27.5+ KB\n"
          ],
          "name": "stdout"
        }
      ]
    },
    {
      "cell_type": "code",
      "metadata": {
        "colab": {
          "base_uri": "https://localhost:8080/",
          "height": 297
        },
        "id": "ripyV7DqHN0l",
        "outputId": "c41411f0-83f1-4c11-b793-8bc125cf615c"
      },
      "source": [
        "#Resumo estatístico do dataset de teste\n",
        "test.describe()"
      ],
      "execution_count": 17,
      "outputs": [
        {
          "output_type": "execute_result",
          "data": {
            "text/html": [
              "<div>\n",
              "<style scoped>\n",
              "    .dataframe tbody tr th:only-of-type {\n",
              "        vertical-align: middle;\n",
              "    }\n",
              "\n",
              "    .dataframe tbody tr th {\n",
              "        vertical-align: top;\n",
              "    }\n",
              "\n",
              "    .dataframe thead th {\n",
              "        text-align: right;\n",
              "    }\n",
              "</style>\n",
              "<table border=\"1\" class=\"dataframe\">\n",
              "  <thead>\n",
              "    <tr style=\"text-align: right;\">\n",
              "      <th></th>\n",
              "      <th>carbon</th>\n",
              "      <th>hardness</th>\n",
              "      <th>strength</th>\n",
              "      <th>bc</th>\n",
              "      <th>m</th>\n",
              "      <th>marvi</th>\n",
              "      <th>exptl</th>\n",
              "      <th>corr</th>\n",
              "      <th>jurofm</th>\n",
              "      <th>s</th>\n",
              "      <th>p</th>\n",
              "      <th>thick</th>\n",
              "      <th>width</th>\n",
              "      <th>len</th>\n",
              "      <th>bore</th>\n",
              "      <th>packing</th>\n",
              "      <th>id</th>\n",
              "    </tr>\n",
              "  </thead>\n",
              "  <tbody>\n",
              "    <tr>\n",
              "      <th>count</th>\n",
              "      <td>90.000000</td>\n",
              "      <td>90.000000</td>\n",
              "      <td>90.000000</td>\n",
              "      <td>0.0</td>\n",
              "      <td>0.0</td>\n",
              "      <td>0.0</td>\n",
              "      <td>0.0</td>\n",
              "      <td>0.0</td>\n",
              "      <td>0.0</td>\n",
              "      <td>0.0</td>\n",
              "      <td>0.0</td>\n",
              "      <td>90.000000</td>\n",
              "      <td>90.000000</td>\n",
              "      <td>90.000000</td>\n",
              "      <td>90.000000</td>\n",
              "      <td>0.0</td>\n",
              "      <td>90.000000</td>\n",
              "    </tr>\n",
              "    <tr>\n",
              "      <th>mean</th>\n",
              "      <td>4.911111</td>\n",
              "      <td>6.555556</td>\n",
              "      <td>29.222222</td>\n",
              "      <td>NaN</td>\n",
              "      <td>NaN</td>\n",
              "      <td>NaN</td>\n",
              "      <td>NaN</td>\n",
              "      <td>NaN</td>\n",
              "      <td>NaN</td>\n",
              "      <td>NaN</td>\n",
              "      <td>NaN</td>\n",
              "      <td>1.230889</td>\n",
              "      <td>769.914444</td>\n",
              "      <td>1539.488889</td>\n",
              "      <td>25.555556</td>\n",
              "      <td>NaN</td>\n",
              "      <td>45.500000</td>\n",
              "    </tr>\n",
              "    <tr>\n",
              "      <th>std</th>\n",
              "      <td>15.214308</td>\n",
              "      <td>20.370783</td>\n",
              "      <td>103.665709</td>\n",
              "      <td>NaN</td>\n",
              "      <td>NaN</td>\n",
              "      <td>NaN</td>\n",
              "      <td>NaN</td>\n",
              "      <td>NaN</td>\n",
              "      <td>NaN</td>\n",
              "      <td>NaN</td>\n",
              "      <td>NaN</td>\n",
              "      <td>0.806629</td>\n",
              "      <td>416.968197</td>\n",
              "      <td>2003.159708</td>\n",
              "      <td>119.513161</td>\n",
              "      <td>NaN</td>\n",
              "      <td>26.124701</td>\n",
              "    </tr>\n",
              "    <tr>\n",
              "      <th>min</th>\n",
              "      <td>0.000000</td>\n",
              "      <td>0.000000</td>\n",
              "      <td>0.000000</td>\n",
              "      <td>NaN</td>\n",
              "      <td>NaN</td>\n",
              "      <td>NaN</td>\n",
              "      <td>NaN</td>\n",
              "      <td>NaN</td>\n",
              "      <td>NaN</td>\n",
              "      <td>NaN</td>\n",
              "      <td>NaN</td>\n",
              "      <td>0.300000</td>\n",
              "      <td>20.000000</td>\n",
              "      <td>0.000000</td>\n",
              "      <td>0.000000</td>\n",
              "      <td>NaN</td>\n",
              "      <td>1.000000</td>\n",
              "    </tr>\n",
              "    <tr>\n",
              "      <th>25%</th>\n",
              "      <td>0.000000</td>\n",
              "      <td>0.000000</td>\n",
              "      <td>0.000000</td>\n",
              "      <td>NaN</td>\n",
              "      <td>NaN</td>\n",
              "      <td>NaN</td>\n",
              "      <td>NaN</td>\n",
              "      <td>NaN</td>\n",
              "      <td>NaN</td>\n",
              "      <td>NaN</td>\n",
              "      <td>NaN</td>\n",
              "      <td>0.699000</td>\n",
              "      <td>609.900000</td>\n",
              "      <td>0.000000</td>\n",
              "      <td>0.000000</td>\n",
              "      <td>NaN</td>\n",
              "      <td>23.250000</td>\n",
              "    </tr>\n",
              "    <tr>\n",
              "      <th>50%</th>\n",
              "      <td>0.000000</td>\n",
              "      <td>0.000000</td>\n",
              "      <td>0.000000</td>\n",
              "      <td>NaN</td>\n",
              "      <td>NaN</td>\n",
              "      <td>NaN</td>\n",
              "      <td>NaN</td>\n",
              "      <td>NaN</td>\n",
              "      <td>NaN</td>\n",
              "      <td>NaN</td>\n",
              "      <td>NaN</td>\n",
              "      <td>0.800500</td>\n",
              "      <td>610.000000</td>\n",
              "      <td>762.000000</td>\n",
              "      <td>0.000000</td>\n",
              "      <td>NaN</td>\n",
              "      <td>45.500000</td>\n",
              "    </tr>\n",
              "    <tr>\n",
              "      <th>75%</th>\n",
              "      <td>0.000000</td>\n",
              "      <td>0.000000</td>\n",
              "      <td>0.000000</td>\n",
              "      <td>NaN</td>\n",
              "      <td>NaN</td>\n",
              "      <td>NaN</td>\n",
              "      <td>NaN</td>\n",
              "      <td>NaN</td>\n",
              "      <td>NaN</td>\n",
              "      <td>NaN</td>\n",
              "      <td>NaN</td>\n",
              "      <td>1.600000</td>\n",
              "      <td>1242.500000</td>\n",
              "      <td>4170.000000</td>\n",
              "      <td>0.000000</td>\n",
              "      <td>NaN</td>\n",
              "      <td>67.750000</td>\n",
              "    </tr>\n",
              "    <tr>\n",
              "      <th>max</th>\n",
              "      <td>65.000000</td>\n",
              "      <td>85.000000</td>\n",
              "      <td>500.000000</td>\n",
              "      <td>NaN</td>\n",
              "      <td>NaN</td>\n",
              "      <td>NaN</td>\n",
              "      <td>NaN</td>\n",
              "      <td>NaN</td>\n",
              "      <td>NaN</td>\n",
              "      <td>NaN</td>\n",
              "      <td>NaN</td>\n",
              "      <td>3.201000</td>\n",
              "      <td>1500.000000</td>\n",
              "      <td>4880.000000</td>\n",
              "      <td>600.000000</td>\n",
              "      <td>NaN</td>\n",
              "      <td>90.000000</td>\n",
              "    </tr>\n",
              "  </tbody>\n",
              "</table>\n",
              "</div>"
            ],
            "text/plain": [
              "          carbon   hardness    strength  ...        bore  packing         id\n",
              "count  90.000000  90.000000   90.000000  ...   90.000000      0.0  90.000000\n",
              "mean    4.911111   6.555556   29.222222  ...   25.555556      NaN  45.500000\n",
              "std    15.214308  20.370783  103.665709  ...  119.513161      NaN  26.124701\n",
              "min     0.000000   0.000000    0.000000  ...    0.000000      NaN   1.000000\n",
              "25%     0.000000   0.000000    0.000000  ...    0.000000      NaN  23.250000\n",
              "50%     0.000000   0.000000    0.000000  ...    0.000000      NaN  45.500000\n",
              "75%     0.000000   0.000000    0.000000  ...    0.000000      NaN  67.750000\n",
              "max    65.000000  85.000000  500.000000  ...  600.000000      NaN  90.000000\n",
              "\n",
              "[8 rows x 17 columns]"
            ]
          },
          "metadata": {
            "tags": []
          },
          "execution_count": 17
        }
      ]
    },
    {
      "cell_type": "code",
      "metadata": {
        "colab": {
          "base_uri": "https://localhost:8080/"
        },
        "id": "dMqVxXg8_SFT",
        "outputId": "1c251688-3c81-4c30-c6e4-a230bc03c1bb"
      },
      "source": [
        "#Visualizando quantidade de valores nulos nas colunas\n",
        "test.isnull().sum().sort_values(ascending=False)"
      ],
      "execution_count": 18,
      "outputs": [
        {
          "output_type": "execute_result",
          "data": {
            "text/plain": [
              "s                         90\n",
              "jurofm                    90\n",
              "marvi                     90\n",
              "exptl                     90\n",
              "corr                      90\n",
              "bc                        90\n",
              "m                         90\n",
              "p                         90\n",
              "packing                   90\n",
              "blue/bright/varn/clean    89\n",
              "phos                      89\n",
              "surface-finish            89\n",
              "chrom                     88\n",
              "enamelability             87\n",
              "ferro                     87\n",
              "lustre                    85\n",
              "bt                        84\n",
              "oil                       84\n",
              "cbond                     83\n",
              "family                    81\n",
              "non-ageing                80\n",
              "temper_rolling            80\n",
              "bf                        79\n",
              "bl                        76\n",
              "bw/me                     70\n",
              "condition                 29\n",
              "surface-quality           29\n",
              "formability               27\n",
              "steel                      9\n",
              "product-type               0\n",
              "carbon                     0\n",
              "hardness                   0\n",
              "shape                      0\n",
              "strength                   0\n",
              "bore                       0\n",
              "len                        0\n",
              "width                      0\n",
              "thick                      0\n",
              "id                         0\n",
              "dtype: int64"
            ]
          },
          "metadata": {
            "tags": []
          },
          "execution_count": 18
        }
      ]
    },
    {
      "cell_type": "code",
      "metadata": {
        "colab": {
          "base_uri": "https://localhost:8080/",
          "height": 502
        },
        "id": "u_3WprCaFRQ7",
        "outputId": "1cf0f41e-a84e-403d-aa30-f5910659b304"
      },
      "source": [
        "# Plotagem dos valores missing (nulos)\n",
        "plt.subplots(figsize=(24,7))\n",
        "sns.heatmap(test.isnull(),yticklabels=False,cbar=False,cmap='plasma');\n",
        "plt.title(\"Valores missing (Em amarelo)\");"
      ],
      "execution_count": 19,
      "outputs": [
        {
          "output_type": "display_data",
          "data": {
            "image/png": "[encoded data removed]",
            "text/plain": [
              "<Figure size 1728x504 with 1 Axes>"
            ]
          },
          "metadata": {
            "tags": [],
            "needs_background": "light"
          }
        }
      ]
    },
    {
      "cell_type": "markdown",
      "metadata": {
        "id": "0vVn01qXAa-5"
      },
      "source": [
        "A princípio as informações podem parecer nebulosas, então, vamos esclarecer alguns pontos sobre isso começando pelas colunas que não usaremos por apresentarem mais de 88,5% dos dados nulos como por exemplo a “marvi”, “m” e “corr”. Também não usaremos a coluna de \"ano\" e \"mes\", pois todos os dados contém informações sobre agosto/2020. \n",
        "\n",
        "Acredito que informações deste tipo não são relevantes ao estudo que faremos e sua permanência poderia causar perda de foco, sem contar a quantidade considerável de valores nulos."
      ]
    },
    {
      "cell_type": "code",
      "metadata": {
        "colab": {
          "base_uri": "https://localhost:8080/",
          "height": 321
        },
        "id": "4mK45qZTf92Q",
        "outputId": "dc099ae5-82af-4ea2-ec3a-105daefd1f25"
      },
      "source": [
        "from IPython.display import Image\n",
        "Image(url='https://media.giphy.com/media/13GIgrGdslD9oQ/giphy.gif')"
      ],
      "execution_count": 20,
      "outputs": [
        {
          "output_type": "execute_result",
          "data": {
            "text/html": [
              "<img src=\"https://media.giphy.com/media/13GIgrGdslD9oQ/giphy.gif\"/>"
            ],
            "text/plain": [
              "<IPython.core.display.Image object>"
            ]
          },
          "metadata": {
            "tags": []
          },
          "execution_count": 20
        }
      ]
    },
    {
      "cell_type": "markdown",
      "metadata": {
        "id": "3LyvJMrAaKdL"
      },
      "source": [
        "**Tratando dados para visualização**\n",
        "\n",
        "Provavelmente você já teve ter percebido que os valores das colunas 'len', 'thick' e 'width' estão entre um '_'.\n",
        "\n",
        "Vamos prosseguir com a tratativa dos dados, removendo esses '_' e transformando as colunas em type 'int' e 'float', assim conseguimos realizar mais análises"
      ]
    },
    {
      "cell_type": "code",
      "metadata": {
        "id": "ExcvbXU8aJy1"
      },
      "source": [
        "#Transformando os dados em string para realizar o replace\n",
        "train['thick'] = train['thick'].astype(str)\n",
        "train['len'] = train['len'].astype(str)\n",
        "train['width'] = train['width'].astype(str)"
      ],
      "execution_count": 21,
      "outputs": []
    },
    {
      "cell_type": "code",
      "metadata": {
        "id": "cZ-3Nz7bnQd0"
      },
      "source": [
        "#Removendo os '_'\n",
        "train['thick'] = train['thick'].apply(lambda x: x.replace('_', ''))\n",
        "train['len'] = train['len'].apply(lambda x: x.replace('_', ''))\n",
        "train['width'] = train['width'].apply(lambda x: x.replace('_', ''))"
      ],
      "execution_count": 22,
      "outputs": []
    },
    {
      "cell_type": "code",
      "metadata": {
        "id": "5JK_jaNDofjO"
      },
      "source": [
        "#Transformando os dados para 'int' e 'float'\n",
        "train['thick'] = train['thick'].astype(float)\n",
        "train['len'] = train['len'].astype(int)\n",
        "train['width'] = train['width'].astype(float)"
      ],
      "execution_count": 23,
      "outputs": []
    },
    {
      "cell_type": "markdown",
      "metadata": {
        "id": "UMWYi5GuZYKz"
      },
      "source": [
        "**Visualização de dados**\n",
        "\n",
        "Vamos ao nosso primeiro questionamento:\n",
        "\n",
        "*Qual foi o resultado dos processos de recozimento em Agosto/2020?*"
      ]
    },
    {
      "cell_type": "code",
      "metadata": {
        "colab": {
          "base_uri": "https://localhost:8080/",
          "height": 350
        },
        "id": "0e1RaEnyKqAT",
        "outputId": "6f2cd9b5-f645-4d6e-fbf1-eff28efe5bc9"
      },
      "source": [
        "#Resultados dos processos de recozimento\n",
        "plt.figure(figsize=(10,5))\n",
        "sns.set_style('whitegrid')\n",
        "sns.countplot(x='recozimento',data=train,palette='mako');\n",
        "plt.title(\"Resultado dos processos de recozimento - Agosto/2020\");\n",
        "plt.xlabel(\"Recozimento\");\n",
        "plt.ylabel(\"Quantidade de processos\");"
      ],
      "execution_count": 24,
      "outputs": [
        {
          "output_type": "display_data",
          "data": {
            "image/png": "[encoded data removed]",
            "text/plain": [
              "<Figure size 720x360 with 1 Axes>"
            ]
          },
          "metadata": {
            "tags": [],
            "needs_background": "light"
          }
        }
      ]
    },
    {
      "cell_type": "code",
      "metadata": {
        "colab": {
          "base_uri": "https://localhost:8080/"
        },
        "id": "Iiy0P-heO5Wx",
        "outputId": "37181b53-272e-450c-d2ab-78af0aa7ad70"
      },
      "source": [
        "#Contagem de processos de recozimento\n",
        "train['recozimento'].value_counts()"
      ],
      "execution_count": 25,
      "outputs": [
        {
          "output_type": "execute_result",
          "data": {
            "text/plain": [
              "ruim       450\n",
              "mediano    186\n",
              "ideal      172\n",
              "Name: recozimento, dtype: int64"
            ]
          },
          "metadata": {
            "tags": []
          },
          "execution_count": 25
        }
      ]
    },
    {
      "cell_type": "markdown",
      "metadata": {
        "id": "jGcoBthmsdmK"
      },
      "source": [
        "Acima temos os resultados dos processos de recozimento em agosto/2020 e vale lembrar que estamos falando de 808 processos.\n",
        "\n",
        "De acordo com a amostra o número de recozimentos 'ruim' foi superior aos de 'ideal' e 'mediano', a tabela fica assim:\n",
        "- Recozimentos '**ruim**': 450 processos, representando aproximadamente 55,70% dos nossos dados. \n",
        "- Recozimentos '**medianos**': 186 processos, representando aproximadamente 23% dos nossos dados.\n",
        "- Recozimentos '**ideal**': 172 processos, representando aproximadamente 21,30% dos nossos dados.\n"
      ]
    },
    {
      "cell_type": "markdown",
      "metadata": {
        "id": "8Irp5dSl17Rm"
      },
      "source": [
        "Conforme já comentado o recozimento tem por finalidade eliminar a dureza de uma peça...Isso me deixou curioso: existe uma relação entre a dureza da peça e o resultado final de seu recozimento?"
      ]
    },
    {
      "cell_type": "code",
      "metadata": {
        "colab": {
          "base_uri": "https://localhost:8080/",
          "height": 404
        },
        "id": "0uZa5gX-Kqd5",
        "outputId": "64f45210-b93e-496c-d75b-957646070b5c"
      },
      "source": [
        "#Countplot de dureza da peça x resultado do recozimento\n",
        "plt.figure(figsize=(15,6))\n",
        "sns.set_style('whitegrid')\n",
        "sns.countplot(x='hardness',hue='recozimento',data=train,palette='magma');\n",
        "plt.title(\"Resultado de recozimento x dureza da peça\");\n",
        "plt.ylabel(\"Quantidade de processos\");\n",
        "plt.xlabel(\"Dureza da peça\");"
      ],
      "execution_count": 26,
      "outputs": [
        {
          "output_type": "display_data",
          "data": {
            "image/png": "[encoded data removed]",
            "text/plain": [
              "<Figure size 1080x432 with 1 Axes>"
            ]
          },
          "metadata": {
            "tags": []
          }
        }
      ]
    },
    {
      "cell_type": "markdown",
      "metadata": {
        "id": "Ra45trTtHUAe"
      },
      "source": [
        "Através do gráfico acima, podemos ver que existe sim uma relação entre a dureza das peças e o resultado final do recozimento. Apesar de termos muitos processos com peças de dureza '0', conseguimos notar que essas obtém um maior número de recozimento ruim. E mais, apesar de poucos processos em peças com dureza '50' em diante, o resultado de recozimentos fica somente entre mediano e ideal."
      ]
    },
    {
      "cell_type": "markdown",
      "metadata": {
        "id": "9ikdB2dkkWwW"
      },
      "source": [
        "**Foco, força e shape?**"
      ]
    },
    {
      "cell_type": "markdown",
      "metadata": {
        "id": "2JAiKit6kco8"
      },
      "source": [
        "Após descobrirmos os resultados dos processos de recozimento e entendermos que o tipo de dureza pode afetar em seu desempenho, vamos analisar a relação da força com seu formato. Será que isso afeta no recozimento?\n",
        "\n",
        "Para responder a isso, vamos inicialmente olhar a distribuição da varíavel 'strength' em nossos dados."
      ]
    },
    {
      "cell_type": "code",
      "metadata": {
        "colab": {
          "base_uri": "https://localhost:8080/",
          "height": 350
        },
        "id": "1vVZ2qVYtYTy",
        "outputId": "199a2757-65c7-4ea2-f545-2294ffa56d78"
      },
      "source": [
        "#Distplot variável strength\n",
        "plt.figure(figsize=(12,5))\n",
        "sns.set_style('whitegrid')\n",
        "sns.histplot(train['strength'],kde=False,bins=15);\n",
        "plt.title(\"Distribuição de força da peça\");\n",
        "plt.ylabel(\"Quantidade de processos\");\n",
        "plt.xlabel(\"Força da peça\");"
      ],
      "execution_count": 27,
      "outputs": [
        {
          "output_type": "display_data",
          "data": {
            "image/png": "[encoded data removed]",
            "text/plain": [
              "<Figure size 864x360 with 1 Axes>"
            ]
          },
          "metadata": {
            "tags": []
          }
        }
      ]
    },
    {
      "cell_type": "markdown",
      "metadata": {
        "id": "BBP3ovLgwP1X"
      },
      "source": [
        "Apesar de conseguirmos saber a distribuição olhando o gráfico de histograma, nós também conseguimos chegar neste mesmo resultado através da seguinte consulta:"
      ]
    },
    {
      "cell_type": "code",
      "metadata": {
        "colab": {
          "base_uri": "https://localhost:8080/"
        },
        "id": "5P3encuYGgMK",
        "outputId": "f805fa30-50e8-4bbe-f0a0-448795087e79"
      },
      "source": [
        "train['strength'].value_counts().sort_index()"
      ],
      "execution_count": 28,
      "outputs": [
        {
          "output_type": "execute_result",
          "data": {
            "text/plain": [
              "0      751\n",
              "300      2\n",
              "310     16\n",
              "350      7\n",
              "400      4\n",
              "500     16\n",
              "600     11\n",
              "700      1\n",
              "Name: strength, dtype: int64"
            ]
          },
          "metadata": {
            "tags": []
          },
          "execution_count": 28
        }
      ]
    },
    {
      "cell_type": "markdown",
      "metadata": {
        "id": "l9E6xZ-6xGJ7"
      },
      "source": [
        "Confesso que para minha surpresa, olhando o histograma acima vimos que boa parte dos dados está concentrado em força '0' (Aproximadamente 93%).\n",
        "\n",
        "O que nos resta saber é se esses dados também estão concentrados em um 'shape' específico, vamos analisar:\n"
      ]
    },
    {
      "cell_type": "code",
      "metadata": {
        "colab": {
          "base_uri": "https://localhost:8080/",
          "height": 404
        },
        "id": "ZwNs4D9tGgQ-",
        "outputId": "a2613c93-4413-4826-c40f-6650a4df4109"
      },
      "source": [
        "#Countplot de força x formato\n",
        "plt.figure(figsize=(15,6))\n",
        "sns.set_style('whitegrid')\n",
        "sns.countplot(x='strength',hue='shape',data=train,palette='crest');\n",
        "plt.title(\"Strength x Shape\");\n",
        "plt.ylabel(\"Quantidade de processos\");\n",
        "plt.xlabel(\"Strength\");"
      ],
      "execution_count": 29,
      "outputs": [
        {
          "output_type": "display_data",
          "data": {
            "image/png": "[encoded data removed]",
            "text/plain": [
              "<Figure size 1080x432 with 1 Axes>"
            ]
          },
          "metadata": {
            "tags": []
          }
        }
      ]
    },
    {
      "cell_type": "code",
      "metadata": {
        "colab": {
          "base_uri": "https://localhost:8080/",
          "height": 295
        },
        "id": "VshjXUINGgT8",
        "outputId": "f143428c-07ed-41ea-920e-17bad9f15a58"
      },
      "source": [
        "#Barplot de força x formato\n",
        "sns.set_style('whitegrid')\n",
        "sns.barplot(x='shape',y='strength',data=train,estimator=np.mean);\n",
        "plt.title(\"Média de força por formato\");\n",
        "plt.ylabel(\"Força\");\n",
        "plt.xlabel(\"Shape\");"
      ],
      "execution_count": 30,
      "outputs": [
        {
          "output_type": "display_data",
          "data": {
            "image/png": "[encoded data removed]",
            "text/plain": [
              "<Figure size 432x288 with 1 Axes>"
            ]
          },
          "metadata": {
            "tags": []
          }
        }
      ]
    },
    {
      "cell_type": "markdown",
      "metadata": {
        "id": "jR16wl6tzrvf"
      },
      "source": [
        "Aqui temos uma surpresa, se analisarmos o gráfico de countplot 'Strength x Shape' conseguimos ver que nitidamente temos mais processos com o formato \"SHEET\", porém quando olhamos o gráfico de barplot acima, a média de força do formato 'COIL' é maior."
      ]
    },
    {
      "cell_type": "code",
      "metadata": {
        "colab": {
          "base_uri": "https://localhost:8080/",
          "height": 458
        },
        "id": "Ec-eijYpGgWE",
        "outputId": "ce8818a0-2aa8-406a-a7bd-6445967d5c33"
      },
      "source": [
        "#Countplot de força x recozimento\n",
        "plt.figure(figsize=(20,7))\n",
        "sns.set_style('whitegrid')\n",
        "sns.countplot(x='strength',data=train,hue='recozimento',palette='viridis',);\n",
        "plt.title(\"Strength x Recozimento\");\n",
        "plt.ylabel(\"Quantidade de processos\");\n",
        "plt.xlabel(\"Strength\");"
      ],
      "execution_count": 31,
      "outputs": [
        {
          "output_type": "display_data",
          "data": {
            "image/png": "[encoded data removed]",
            "text/plain": [
              "<Figure size 1440x504 with 1 Axes>"
            ]
          },
          "metadata": {
            "tags": []
          }
        }
      ]
    },
    {
      "cell_type": "markdown",
      "metadata": {
        "id": "SM8_sfdO20Ne"
      },
      "source": [
        "Com o gráfico acima conseguimos chegar a conclusão de que a força da peça x formato tem uma relação no resultado final do recozimento. Embora o conjunto de dados tenha mais o formato 'SHEET', vimos que sua força média é menor que do formato 'COIL' e no Countplot acima podemos notar que quanto menor a força, mais chances do recozimento ser 'ruim'.\n"
      ]
    },
    {
      "cell_type": "code",
      "metadata": {
        "colab": {
          "base_uri": "https://localhost:8080/",
          "height": 367
        },
        "id": "kEypSaFUMQ7b",
        "outputId": "22bd6dd1-9de9-425d-ba99-740a3aa5bb04"
      },
      "source": [
        "from IPython.display import Image\n",
        "Image(url='https://media.giphy.com/media/3avUsGhmckIYE/giphy.gif')"
      ],
      "execution_count": 32,
      "outputs": [
        {
          "output_type": "execute_result",
          "data": {
            "text/html": [
              "<img src=\"https://media.giphy.com/media/3avUsGhmckIYE/giphy.gif\"/>"
            ],
            "text/plain": [
              "<IPython.core.display.Image object>"
            ]
          },
          "metadata": {
            "tags": []
          },
          "execution_count": 32
        }
      ]
    },
    {
      "cell_type": "markdown",
      "metadata": {
        "id": "W8rIbiHN47D9"
      },
      "source": [
        "**Tipos de aço: Isso não é um 'S'. Em meu planeta significa Science**"
      ]
    },
    {
      "cell_type": "markdown",
      "metadata": {
        "id": "D7PXerU78bJU"
      },
      "source": [
        "Nosso último questionamento gira em torno dos tipos de aço e a sua largura.\n",
        "\n",
        "Vamos começar olhando pra variável largura. Será que quanto mais largura melhor o recozimento?"
      ]
    },
    {
      "cell_type": "code",
      "metadata": {
        "colab": {
          "base_uri": "https://localhost:8080/",
          "height": 404
        },
        "id": "koXetdYG6Vsn",
        "outputId": "adf23f13-fad1-4376-f31a-87b2eb017479"
      },
      "source": [
        "#boxplot de Largura x Recozimento\n",
        "plt.figure(figsize=(15,6))\n",
        "sns.set_style('whitegrid')\n",
        "sns.boxplot(x=\"recozimento\", y=\"width\",data=train, palette=\"coolwarm\");\n",
        "plt.title(\"Recozimento x Width\");\n",
        "plt.ylabel(\"Largura\");\n",
        "plt.xlabel(\"Recozimento\");"
      ],
      "execution_count": 33,
      "outputs": [
        {
          "output_type": "display_data",
          "data": {
            "image/png": "[encoded data removed]",
            "text/plain": [
              "<Figure size 1080x432 with 1 Axes>"
            ]
          },
          "metadata": {
            "tags": []
          }
        }
      ]
    },
    {
      "cell_type": "markdown",
      "metadata": {
        "id": "fqN15suLCeG6"
      },
      "source": [
        "Olhando o boxplot acima, conseguimos perceber que conforme a largura vai passando de '1200' nosso processo de recozimento ligeiramente tem mais chances de ser 'ruim'.\n",
        "\n",
        "Já os recozimentos 'ideal' e 'mediano' ficam na média de '600' quando falamos da variável largura'."
      ]
    },
    {
      "cell_type": "code",
      "metadata": {
        "colab": {
          "base_uri": "https://localhost:8080/",
          "height": 404
        },
        "id": "YW3NUNtJMQ9t",
        "outputId": "d707fe75-b19f-437d-a412-e25799e5e04d"
      },
      "source": [
        "#boxplot de Steel x Width\n",
        "plt.figure(figsize=(15,6))\n",
        "sns.set_style('whitegrid')\n",
        "sns.boxplot(x=\"steel\", y=\"width\", data=train,palette='rainbow',order=['R','V','W','A','M','K','S']);\n",
        "plt.title(\"Steel x Width\");\n",
        "plt.ylabel(\"Largura\");\n",
        "plt.xlabel(\"Aço\");"
      ],
      "execution_count": 34,
      "outputs": [
        {
          "output_type": "display_data",
          "data": {
            "image/png": "[encoded data removed]",
            "text/plain": [
              "<Figure size 1080x432 with 1 Axes>"
            ]
          },
          "metadata": {
            "tags": []
          }
        }
      ]
    },
    {
      "cell_type": "markdown",
      "metadata": {
        "id": "yC6Kym2REIgo"
      },
      "source": [
        "Conseguimos observar no gráfico acima os tipos de aço, representados respectivamente pelas letras: R, V, W, A, M, K e S.\n",
        "\n",
        "Já descobrimos que quanto maior a largura pode ser que exista mais chances de um recozimento ruim, então vale o destaque para os tipos de aço 'R' e 'V' para analisarmos se de fato isso ocorre. Também podemos olhar para 'K' e 'S', pois apresentam uma largura menor, será que vão ter um bom recozimento?"
      ]
    },
    {
      "cell_type": "code",
      "metadata": {
        "colab": {
          "base_uri": "https://localhost:8080/",
          "height": 404
        },
        "id": "SNuD5YkwGgYE",
        "outputId": "e9c17ef1-d0ff-4895-e4fb-e74c61a2d862"
      },
      "source": [
        "#boxplot steel x width x recozimento\n",
        "plt.figure(figsize=(20,6))\n",
        "sns.set_style('whitegrid')\n",
        "sns.boxplot(x=\"steel\", y=\"width\", hue=\"recozimento\",data=train, palette=\"YlOrBr\",order=['A','R','W','S','M','K','V']);\n",
        "plt.title(\"steel x width x recozimento\");\n",
        "plt.ylabel(\"Largura\");\n",
        "plt.xlabel(\"Aço\");"
      ],
      "execution_count": 35,
      "outputs": [
        {
          "output_type": "display_data",
          "data": {
            "image/png": "[encoded data removed]",
            "text/plain": [
              "<Figure size 1440x432 with 1 Axes>"
            ]
          },
          "metadata": {
            "tags": []
          }
        }
      ]
    },
    {
      "cell_type": "markdown",
      "metadata": {
        "id": "zwNka95PFZ3x"
      },
      "source": [
        "Analisando o boxplot final acima, claro que é válido considerarmos que o maior volume de dados se encontram em aços do tipo 'A' e 'R'. Ainda assim, conforme destacamos 'R' e 'V' apresentaram uma largura maior em comparação com os outros aços, com o gráfico acima podemos comprovar que ambas tiveram um volume considerável de recozimentos 'ruim'.\n",
        "\n",
        "Em contrapartida também destacamos os aços 'K' e 'S' por terem apresentado uma largura menor e com o boxplot acima vimos que todos os processos de recozimento com esses aços deram 'mediano' ou 'ideal'."
      ]
    },
    {
      "cell_type": "markdown",
      "metadata": {
        "id": "jwufk4ilMM99"
      },
      "source": [
        "# **Machine Learning**"
      ]
    },
    {
      "cell_type": "markdown",
      "metadata": {
        "id": "ChM2F0_ZJ1Sk"
      },
      "source": [
        "Feita nossas análises, vamos criar nosso modelo de machine learning."
      ]
    },
    {
      "cell_type": "markdown",
      "metadata": {
        "id": "bSGjrrpi3E6H"
      },
      "source": [
        "Começando pelas variáveis que iremos usar, aquelas que não apresentaram mais que 88,5% dos dados nulos."
      ]
    },
    {
      "cell_type": "code",
      "metadata": {
        "id": "-6qMa1ZMENgS"
      },
      "source": [
        "#Lista das variáveis que iremos usar\n",
        "\n",
        "variaveis_entrada = ['thick','width','len','bore','shape','strength','hardness','carbon','product-type','steel',\n",
        "                     'surface-quality','condition','formability','bw/me','bl',\n",
        "                     'temper_rolling','bf','family','non-ageing']"
      ],
      "execution_count": 36,
      "outputs": []
    },
    {
      "cell_type": "markdown",
      "metadata": {
        "id": "Bl3BLWKK3WEn"
      },
      "source": [
        "Agora que já sabemos as variáveis que vamos usar, vamos validar nossos dados de treinamento e teste, assim conseguimos saber quais dados precisamos tratar."
      ]
    },
    {
      "cell_type": "code",
      "metadata": {
        "colab": {
          "base_uri": "https://localhost:8080/"
        },
        "id": "9wQgofh2LrHM",
        "outputId": "17519a59-73a0-4948-9794-c5758f040948"
      },
      "source": [
        "# Validação dos dados de treinamento\n",
        "print('Quantidade de linhas:', train[variaveis_entrada].shape[0])\n",
        "print('Quantidade de colunas:', train[variaveis_entrada].shape[1])\n",
        "print('-' * 10)\n",
        "\n",
        "print('Registros duplicados:', train[variaveis_entrada].duplicated().any())\n",
        "print('-' * 10)\n",
        "\n",
        "print('Valores faltantes:', train[variaveis_entrada].isnull().values.sum())\n",
        "print('\\n')\n",
        "print('Registros únicos: \\n\\n', train[variaveis_entrada].nunique())\n",
        "print('-' * 10)\n",
        "\n",
        "print('Quantidade de valores faltantes por coluna: \\n')\n",
        "for i in train[variaveis_entrada].columns:\n",
        "    nullNum = train[variaveis_entrada][i].isnull().sum()\n",
        "    nullRate = nullNum / len(train) * 100 \n",
        "    if nullRate > 0:\n",
        "        print(f\"{i} {nullNum} ({nullRate:.2f}%)\")"
      ],
      "execution_count": 37,
      "outputs": [
        {
          "output_type": "stream",
          "text": [
            "Quantidade de linhas: 808\n",
            "Quantidade de colunas: 19\n",
            "----------\n",
            "Registros duplicados: True\n",
            "----------\n",
            "Valores faltantes: 4922\n",
            "\n",
            "\n",
            "Registros únicos: \n",
            "\n",
            " thick              49\n",
            "width              67\n",
            "len                24\n",
            "bore                3\n",
            "shape               2\n",
            "strength            8\n",
            "hardness            7\n",
            "carbon             10\n",
            "product-type        1\n",
            "steel               7\n",
            "surface-quality     4\n",
            "condition           2\n",
            "formability         4\n",
            "bw/me               2\n",
            "bl                  1\n",
            "temper_rolling      1\n",
            "bf                  1\n",
            "family              2\n",
            "non-ageing          1\n",
            "dtype: int64\n",
            "----------\n",
            "Quantidade de valores faltantes por coluna: \n",
            "\n",
            "steel 77 (9.53%)\n",
            "surface-quality 215 (26.61%)\n",
            "condition 274 (33.91%)\n",
            "formability 291 (36.01%)\n",
            "bw/me 617 (76.36%)\n",
            "bl 673 (83.29%)\n",
            "temper_rolling 681 (84.28%)\n",
            "bf 690 (85.40%)\n",
            "family 691 (85.52%)\n",
            "non-ageing 713 (88.24%)\n"
          ],
          "name": "stdout"
        }
      ]
    },
    {
      "cell_type": "code",
      "metadata": {
        "colab": {
          "base_uri": "https://localhost:8080/"
        },
        "id": "R7CSFcvU2ihH",
        "outputId": "3dd5b092-7319-467c-92cf-56c425876ffc"
      },
      "source": [
        "# Validação dos dados de teste\n",
        "print('Quantidade de linhas:', test[variaveis_entrada].shape[0])\n",
        "print('Quantidade de colunas:', test[variaveis_entrada].shape[1])\n",
        "print('-' * 10)\n",
        "\n",
        "print('Registros duplicados:', test[variaveis_entrada].duplicated().any())\n",
        "print('-' * 10)\n",
        "\n",
        "print('Valores faltantes:', test[variaveis_entrada].isnull().values.sum())\n",
        "print('\\n')\n",
        "print('Registros únicos: \\n\\n', test[variaveis_entrada].nunique())\n",
        "print('-' * 10)\n",
        "\n",
        "print('Quantidade de valores faltantes por coluna: \\n')\n",
        "for i in test[variaveis_entrada].columns:\n",
        "    nullNum = test[variaveis_entrada][i].isnull().sum()\n",
        "    nullRate = nullNum / len(train) * 100 \n",
        "    if nullRate > 0:\n",
        "        print(f\"{i} {nullNum} ({nullRate:.2f}%)\")"
      ],
      "execution_count": 38,
      "outputs": [
        {
          "output_type": "stream",
          "text": [
            "Quantidade de linhas: 90\n",
            "Quantidade de colunas: 19\n",
            "----------\n",
            "Registros duplicados: False\n",
            "----------\n",
            "Valores faltantes: 560\n",
            "\n",
            "\n",
            "Registros únicos: \n",
            "\n",
            " thick              26\n",
            "width              27\n",
            "len                10\n",
            "bore                3\n",
            "shape               2\n",
            "strength            4\n",
            "hardness            6\n",
            "carbon              6\n",
            "product-type        1\n",
            "steel               6\n",
            "surface-quality     4\n",
            "condition           2\n",
            "formability         4\n",
            "bw/me               2\n",
            "bl                  1\n",
            "temper_rolling      1\n",
            "bf                  1\n",
            "family              2\n",
            "non-ageing          1\n",
            "dtype: int64\n",
            "----------\n",
            "Quantidade de valores faltantes por coluna: \n",
            "\n",
            "steel 9 (1.11%)\n",
            "surface-quality 29 (3.59%)\n",
            "condition 29 (3.59%)\n",
            "formability 27 (3.34%)\n",
            "bw/me 70 (8.66%)\n",
            "bl 76 (9.41%)\n",
            "temper_rolling 80 (9.90%)\n",
            "bf 79 (9.78%)\n",
            "family 81 (10.02%)\n",
            "non-ageing 80 (9.90%)\n"
          ],
          "name": "stdout"
        }
      ]
    },
    {
      "cell_type": "markdown",
      "metadata": {
        "id": "h2PrFLbdQRnx"
      },
      "source": [
        "**Tratamento dos dados nulos - Substituindo pelo valor que mais se repete**\n"
      ]
    },
    {
      "cell_type": "code",
      "metadata": {
        "id": "aM7lpk7sN49d"
      },
      "source": [
        "#Steel\n",
        "\n",
        "#train['steel'].value_counts().to_frame() - Verificando valor que mais aparece\n",
        "train['steel'] = train['steel'].fillna(train['steel'].mode()[0])\n",
        "test['steel'] = test['steel'].fillna(test['steel'].mode()[0])"
      ],
      "execution_count": 39,
      "outputs": []
    },
    {
      "cell_type": "code",
      "metadata": {
        "id": "EBUw0DbfQeRC"
      },
      "source": [
        "#surface-quality\n",
        "\n",
        "#train['surface-quality'].value_counts().to_frame() - Verificando valor que mais aparece\n",
        "train['surface-quality'] = train['surface-quality'].fillna(train['surface-quality'].mode()[0])\n",
        "test['surface-quality'] = test['surface-quality'].fillna(test['surface-quality'].mode()[0])"
      ],
      "execution_count": 40,
      "outputs": []
    },
    {
      "cell_type": "code",
      "metadata": {
        "id": "dWkNAXTXQebb"
      },
      "source": [
        "#condition\n",
        "\n",
        "#train['condition'].value_counts().to_frame() - Verificando valor que mais aparece\n",
        "train['condition'] = train['condition'].fillna(train['condition'].mode()[0])\n",
        "test['condition'] = test['condition'].fillna(test['condition'].mode()[0])"
      ],
      "execution_count": 41,
      "outputs": []
    },
    {
      "cell_type": "code",
      "metadata": {
        "id": "tv1qMT81N5Cb"
      },
      "source": [
        "#formability\n",
        "\n",
        "#train['formability'].value_counts().to_frame() - Verificando valor que mais aparece\n",
        "train['formability'] = train['formability'].fillna(train['formability'].mode()[0])\n",
        "test['formability'] = test['formability'].fillna(test['formability'].mode()[0])"
      ],
      "execution_count": 42,
      "outputs": []
    },
    {
      "cell_type": "code",
      "metadata": {
        "id": "SBae6LZlRh5P"
      },
      "source": [
        "#bw/me\n",
        "\n",
        "#train['bw/me'].value_counts().to_frame() - Verificando valor que mais aparece\n",
        "train['bw/me'] = train['bw/me'].fillna(train['bw/me'].mode()[0])\n",
        "test['bw/me'] = test['bw/me'].fillna(test['bw/me'].mode()[0])"
      ],
      "execution_count": 43,
      "outputs": []
    },
    {
      "cell_type": "code",
      "metadata": {
        "id": "kTWeTa4ZRqpw"
      },
      "source": [
        "#bl\n",
        "\n",
        "#train['bl'].value_counts().to_frame() - Verificando valor que mais aparece\n",
        "train['bl'] = train['bl'].fillna(train['bl'].mode()[0])\n",
        "test['bl'] = test['bl'].fillna(test['bl'].mode()[0])"
      ],
      "execution_count": 44,
      "outputs": []
    },
    {
      "cell_type": "code",
      "metadata": {
        "id": "JZsThwiPRh74"
      },
      "source": [
        "#temper_rolling\n",
        "\n",
        "#train['temper_rolling'].value_counts().to_frame() - Verificando valor que mais aparece\n",
        "train['temper_rolling'] = train['temper_rolling'].fillna(train['temper_rolling'].mode()[0])\n",
        "test['temper_rolling'] = test['temper_rolling'].fillna(test['temper_rolling'].mode()[0])"
      ],
      "execution_count": 45,
      "outputs": []
    },
    {
      "cell_type": "code",
      "metadata": {
        "id": "nkIR9oRTRiMN"
      },
      "source": [
        "#bf\n",
        "\n",
        "#train['bf'].value_counts().to_frame() - Verificando valor que mais aparece\n",
        "train['bf'] = train['bf'].fillna(train['bf'].mode()[0])\n",
        "test['bf'] = test['bf'].fillna(test['bf'].mode()[0])"
      ],
      "execution_count": 46,
      "outputs": []
    },
    {
      "cell_type": "code",
      "metadata": {
        "id": "MdT5frR4SKua"
      },
      "source": [
        "#family\n",
        "\n",
        "#train['family'].value_counts().to_frame() - Verificando valor que mais aparece\n",
        "train['family'] = train['family'].fillna(train['family'].mode()[0])\n",
        "test['family'] = test['family'].fillna(test['family'].mode()[0])"
      ],
      "execution_count": 47,
      "outputs": []
    },
    {
      "cell_type": "code",
      "metadata": {
        "id": "PEcUKLLdSKxK"
      },
      "source": [
        "#non-ageing\n",
        "\n",
        "#train['non-ageing'].value_counts().to_frame() - Verificando valor que mais aparece\n",
        "train['non-ageing'] = train['non-ageing'].fillna(train['non-ageing'].mode()[0])\n",
        "test['non-ageing'] = test['non-ageing'].fillna(test['non-ageing'].mode()[0])"
      ],
      "execution_count": 48,
      "outputs": []
    },
    {
      "cell_type": "code",
      "metadata": {
        "colab": {
          "base_uri": "https://localhost:8080/",
          "height": 501
        },
        "id": "O_Mqj88Z_Jl_",
        "outputId": "a6685163-fc64-4ce7-b6b8-e14b2f76b262"
      },
      "source": [
        "from IPython.display import Image\n",
        "Image(url='https://media.giphy.com/media/NsBknNwmmWE8WU1q2U/giphy.gif')"
      ],
      "execution_count": 49,
      "outputs": [
        {
          "output_type": "execute_result",
          "data": {
            "text/html": [
              "<img src=\"https://media.giphy.com/media/NsBknNwmmWE8WU1q2U/giphy.gif\"/>"
            ],
            "text/plain": [
              "<IPython.core.display.Image object>"
            ]
          },
          "metadata": {
            "tags": []
          },
          "execution_count": 49
        }
      ]
    },
    {
      "cell_type": "markdown",
      "metadata": {
        "id": "sVAClNCb51u_"
      },
      "source": [
        "**Validando os dados novamente após tratamento de nulos**"
      ]
    },
    {
      "cell_type": "code",
      "metadata": {
        "colab": {
          "base_uri": "https://localhost:8080/"
        },
        "id": "cKpCihRG5_eh",
        "outputId": "193bcda7-bcf8-46dc-d110-1ffb271a796a"
      },
      "source": [
        "# Validação dos dados de treinamento\n",
        "print('Quantidade de linhas:', train[variaveis_entrada].shape[0])\n",
        "print('Quantidade de colunas:', train[variaveis_entrada].shape[1])\n",
        "print('-' * 10)\n",
        "\n",
        "print('Registros duplicados:', train[variaveis_entrada].duplicated().any())\n",
        "print('-' * 10)\n",
        "\n",
        "print('Valores faltantes:', train[variaveis_entrada].isnull().values.sum())\n",
        "print('\\n')\n",
        "print('Registros únicos: \\n\\n', train[variaveis_entrada].nunique())\n",
        "print('-' * 10)\n",
        "\n",
        "print('Quantidade de valores faltantes por coluna: \\n')\n",
        "for i in train[variaveis_entrada].columns:\n",
        "    nullNum = train[variaveis_entrada][i].isnull().sum()\n",
        "    nullRate = nullNum / len(train) * 100 \n",
        "    if nullRate > 0:\n",
        "        print(f\"{i} {nullNum} ({nullRate:.2f}%)\")"
      ],
      "execution_count": 51,
      "outputs": [
        {
          "output_type": "stream",
          "text": [
            "Quantidade de linhas: 808\n",
            "Quantidade de colunas: 19\n",
            "----------\n",
            "Registros duplicados: True\n",
            "----------\n",
            "Valores faltantes: 0\n",
            "\n",
            "\n",
            "Registros únicos: \n",
            "\n",
            " thick              49\n",
            "width              67\n",
            "len                24\n",
            "bore                3\n",
            "shape               2\n",
            "strength            8\n",
            "hardness            7\n",
            "carbon             10\n",
            "product-type        1\n",
            "steel               7\n",
            "surface-quality     4\n",
            "condition           2\n",
            "formability         4\n",
            "bw/me               2\n",
            "bl                  1\n",
            "temper_rolling      1\n",
            "bf                  1\n",
            "family              2\n",
            "non-ageing          1\n",
            "dtype: int64\n",
            "----------\n",
            "Quantidade de valores faltantes por coluna: \n",
            "\n"
          ],
          "name": "stdout"
        }
      ]
    },
    {
      "cell_type": "code",
      "metadata": {
        "colab": {
          "base_uri": "https://localhost:8080/"
        },
        "id": "o9OTI0fT6ALF",
        "outputId": "f41657f7-a712-44ec-a18e-9ed708cba306"
      },
      "source": [
        "# Validação dos dados de teste\n",
        "print('Quantidade de linhas:', test[variaveis_entrada].shape[0])\n",
        "print('Quantidade de colunas:', test[variaveis_entrada].shape[1])\n",
        "print('-' * 10)\n",
        "\n",
        "print('Registros duplicados:', test[variaveis_entrada].duplicated().any())\n",
        "print('-' * 10)\n",
        "\n",
        "print('Valores faltantes:', test[variaveis_entrada].isnull().values.sum())\n",
        "print('\\n')\n",
        "print('Registros únicos: \\n\\n', test[variaveis_entrada].nunique())\n",
        "print('-' * 10)\n",
        "\n",
        "print('Quantidade de valores faltantes por coluna: \\n')\n",
        "for i in test[variaveis_entrada].columns:\n",
        "    nullNum = test[variaveis_entrada][i].isnull().sum()\n",
        "    nullRate = nullNum / len(train) * 100 \n",
        "    if nullRate > 0:\n",
        "        print(f\"{i} {nullNum} ({nullRate:.2f}%)\")"
      ],
      "execution_count": 52,
      "outputs": [
        {
          "output_type": "stream",
          "text": [
            "Quantidade de linhas: 90\n",
            "Quantidade de colunas: 19\n",
            "----------\n",
            "Registros duplicados: False\n",
            "----------\n",
            "Valores faltantes: 0\n",
            "\n",
            "\n",
            "Registros únicos: \n",
            "\n",
            " thick              26\n",
            "width              27\n",
            "len                10\n",
            "bore                3\n",
            "shape               2\n",
            "strength            4\n",
            "hardness            6\n",
            "carbon              6\n",
            "product-type        1\n",
            "steel               6\n",
            "surface-quality     4\n",
            "condition           2\n",
            "formability         4\n",
            "bw/me               2\n",
            "bl                  1\n",
            "temper_rolling      1\n",
            "bf                  1\n",
            "family              2\n",
            "non-ageing          1\n",
            "dtype: int64\n",
            "----------\n",
            "Quantidade de valores faltantes por coluna: \n",
            "\n"
          ],
          "name": "stdout"
        }
      ]
    },
    {
      "cell_type": "markdown",
      "metadata": {
        "id": "tBAE8h-HHiso"
      },
      "source": [
        "**Divisão entre previsores e classe**"
      ]
    },
    {
      "cell_type": "code",
      "metadata": {
        "id": "D7GckuuS9GpC"
      },
      "source": [
        "X = train[variaveis_entrada].values\n",
        "y = train['recozimento'].values"
      ],
      "execution_count": 50,
      "outputs": []
    },
    {
      "cell_type": "markdown",
      "metadata": {
        "id": "HlS9143I6bQM"
      },
      "source": [
        "**Label Encoder**\n",
        "\n",
        "LabelEncoder é uma transformação que fazemos nos dados para converter uma variável categórica em valores númericos."
      ]
    },
    {
      "cell_type": "code",
      "metadata": {
        "id": "PpoS-g3QEQPJ"
      },
      "source": [
        "#Importando biblioteca LabelEncoder\n",
        "from sklearn.preprocessing import LabelEncoder"
      ],
      "execution_count": 51,
      "outputs": []
    },
    {
      "cell_type": "code",
      "metadata": {
        "id": "hELF4IyNET_A"
      },
      "source": [
        "#Instanciando objeto da classe LabelEncoder\n",
        "\n",
        "label_encoder_shape = LabelEncoder()\n",
        "label_encoder_product = LabelEncoder()\n",
        "label_encoder_steel = LabelEncoder()\n",
        "label_encoder_surfacequality = LabelEncoder()\n",
        "label_encoder_condition = LabelEncoder()\n",
        "label_encoder_fomability = LabelEncoder()\n",
        "label_encoder_bw = LabelEncoder()\n",
        "label_encoder_bl = LabelEncoder()\n",
        "label_encoder_temper_rolling = LabelEncoder()\n",
        "label_encoder_bf = LabelEncoder()\n",
        "label_encoder_family = LabelEncoder()\n",
        "label_encoder_nonageing = LabelEncoder()"
      ],
      "execution_count": 52,
      "outputs": []
    },
    {
      "cell_type": "code",
      "metadata": {
        "id": "JzFj3ZaaFkvB"
      },
      "source": [
        "#Convertendo os valores categóricos para númericos\n",
        "\n",
        "X[:,4] = label_encoder_shape.fit_transform(X[:,4])\n",
        "X[:,8] = label_encoder_product.fit_transform(X[:,8])\n",
        "X[:,9] = label_encoder_steel.fit_transform(X[:,9])\n",
        "X[:,10] = label_encoder_surfacequality.fit_transform(X[:,10])\n",
        "X[:,11] = label_encoder_condition.fit_transform(X[:,11])\n",
        "X[:,12] = label_encoder_fomability.fit_transform(X[:,12])\n",
        "X[:,13] = label_encoder_bw.fit_transform(X[:,13])\n",
        "X[:,14] = label_encoder_bl.fit_transform(X[:,14])\n",
        "X[:,15] = label_encoder_temper_rolling.fit_transform(X[:,15])\n",
        "X[:,16] = label_encoder_bf.fit_transform(X[:,16])\n",
        "X[:,17] = label_encoder_family.fit_transform(X[:,17])\n",
        "X[:,18] = label_encoder_nonageing.fit_transform(X[:,18])"
      ],
      "execution_count": 53,
      "outputs": []
    },
    {
      "cell_type": "markdown",
      "metadata": {
        "id": "FzPOpGZQSc6X"
      },
      "source": [
        "**RepeatedKFold**\n",
        "\n",
        "Um dos métodos mais importante para avaliação de modelos de machine learning é a validação-cruzada, que, em resumo, o que ela faz é dividir um dataset em conjuntos de treino e teste usando o conjunto de treino para treinar o modelo e o conjunto de teste para avaliar quão bom o modelo generaliza para dados que ele ainda não viu.\n",
        "\n",
        "K-fold é um dos métodos de validação cruzada mais conhecidos, por isso vamos utilizar deste método para descobrir qual algoritmo vamos usar."
      ]
    },
    {
      "cell_type": "code",
      "metadata": {
        "id": "6eE4_RWsUZDk"
      },
      "source": [
        "#Bibliotecas dos algoritmos\n",
        "\n",
        "from sklearn.naive_bayes import GaussianNB\n",
        "from sklearn.linear_model import LogisticRegression\n",
        "from sklearn.tree import DecisionTreeClassifier\n",
        "from sklearn.ensemble import RandomForestClassifier\n",
        "from lightgbm import LGBMClassifier\n",
        "from xgboost import XGBClassifier\n",
        "import warnings\n",
        "warnings.filterwarnings(\"ignore\")"
      ],
      "execution_count": 54,
      "outputs": []
    },
    {
      "cell_type": "code",
      "metadata": {
        "id": "O5c-SMXRK3uI"
      },
      "source": [
        "#Importando nosso validador cruzado\n",
        "from sklearn.model_selection import RepeatedKFold"
      ],
      "execution_count": 55,
      "outputs": []
    },
    {
      "cell_type": "code",
      "metadata": {
        "colab": {
          "base_uri": "https://localhost:8080/"
        },
        "id": "187Vm3d8Oou0",
        "outputId": "9cc1a0ad-85dc-41ba-c7ff-20a36b39fdd4"
      },
      "source": [
        "# Validação cruzada K-Fold\n",
        "\n",
        "kf = RepeatedKFold (n_splits = 3, n_repeats = 10, random_state=0)\n",
        "resultados = []\n",
        "for linhas_treino, linhas_teste in kf.split(X):\n",
        "    #Divisão treino e teste\n",
        "    X_train, X_test = X[linhas_treino],X[linhas_teste]\n",
        "    y_train, y_test = y[linhas_treino],y[linhas_teste]\n",
        "\n",
        "    #Modelos de machine learning\n",
        "    #Modelo1 = GaussianNB()\n",
        "    #Modelo2 = LogisticRegression()\n",
        "    #Modelo3 = DecisionTreeClassifier(criterion='entropy', random_state=0)\n",
        "    #Modelo4= RandomForestClassifier(n_estimators = 100, random_state=0, criterion='entropy')\n",
        "    Modelo5 = XGBClassifier()\n",
        "    #Modelo6 = LGBMClassifier()\n",
        "\n",
        "    #Previsões\n",
        "    Modelo5.fit(X_train,y_train)\n",
        "    y_pred =  Modelo5.predict(X_test)\n",
        "    acuracia = np.mean(y_test == y_pred)\n",
        "    resultados.append(acuracia)\n",
        "print(\"Sua precisão foi:\", np.mean(resultados))"
      ],
      "execution_count": 56,
      "outputs": [
        {
          "output_type": "stream",
          "text": [
            "Sua precisão foi: 0.8201766946624444\n"
          ],
          "name": "stdout"
        }
      ]
    },
    {
      "cell_type": "markdown",
      "metadata": {
        "id": "Fp_0lhwdRwWE"
      },
      "source": [
        "**Resultados das validação K-Fold**\n",
        "\n",
        "Para cada algoritmo foi rodado uma validação, segue resultados de precisão:\n",
        "\n",
        "*Naive bayes*: 0.759\n",
        "\n",
        "*Regressão logística*: 0.754\n",
        "\n",
        "*Árvore de decisão*: 0.719\n",
        "\n",
        "*Floresta aleatória*: 0.774\n",
        "\n",
        "*XGBOOST*: 0.820\n",
        " \n",
        "*LGBM*: 0.784\n",
        "\n",
        "Conforme a tabela de resultados acima, o algoritmo que obteve maior precisão foi o 'XGBClassifier', portanto irei escolher este algoritmo para aplicação nos dados de teste.\n",
        "\n",
        "Antes, será que conseguimos tunar os parâmetros desse algoritmo e ter um resultado melhor?"
      ]
    },
    {
      "cell_type": "code",
      "metadata": {
        "colab": {
          "base_uri": "https://localhost:8080/",
          "height": 291
        },
        "id": "F5Zc1tLt4u6W",
        "outputId": "cec01b6d-f56a-4faa-e328-3e053111c54a"
      },
      "source": [
        "from IPython.display import Image\n",
        "Image(url='https://media.giphy.com/media/tgTUNVNfyq4uyXYMAE/giphy.gif')"
      ],
      "execution_count": 57,
      "outputs": [
        {
          "output_type": "execute_result",
          "data": {
            "text/html": [
              "<img src=\"https://media.giphy.com/media/tgTUNVNfyq4uyXYMAE/giphy.gif\"/>"
            ],
            "text/plain": [
              "<IPython.core.display.Image object>"
            ]
          },
          "metadata": {
            "tags": []
          },
          "execution_count": 57
        }
      ]
    },
    {
      "cell_type": "markdown",
      "metadata": {
        "id": "b0X30fxAuv-Y"
      },
      "source": [
        "**Divisão treino e teste**\n",
        "\n",
        "Vamos começar dividindo nossos dados entre treino e teste com o método 'train_test_split'"
      ]
    },
    {
      "cell_type": "code",
      "metadata": {
        "id": "4erJVZhnnpEw"
      },
      "source": [
        "#Importando biblioteca train_test_split\n",
        "\n",
        "from sklearn.model_selection import train_test_split\n",
        "X_train, X_test, y_train, y_test = train_test_split(X, y, test_size=0.30, random_state=0)"
      ],
      "execution_count": 150,
      "outputs": []
    },
    {
      "cell_type": "markdown",
      "metadata": {
        "id": "q5ZA753r5DFX"
      },
      "source": [
        "Em seguida vamos usar nosso algoritmo escolhido (XGBClassifier)"
      ]
    },
    {
      "cell_type": "code",
      "metadata": {
        "id": "n0YF-ktNnqCp"
      },
      "source": [
        "#Modelo com algoritmo XGBClassifier\n",
        "\n",
        "xboost = XGBClassifier()\n",
        "xboost.fit(X_train, y_train)\n",
        "prev = xboost.predict_proba(X_test)[:]"
      ],
      "execution_count": 59,
      "outputs": []
    },
    {
      "cell_type": "markdown",
      "metadata": {
        "id": "Sa1MmJtN6idf"
      },
      "source": [
        "É importante já importar a biblioteca de métricas para avaliarmos os resultados de antes e depois da otimização, para tal avaliação estarei olhando pra métrica 'roc_auc_score'."
      ]
    },
    {
      "cell_type": "markdown",
      "metadata": {
        "id": "G4w_m5FJAFEE"
      },
      "source": [
        "- Curva ROC\n",
        "\n",
        "A curva ROC nos mostra o quão bom o modelo criado pode distinguir entre duas coisas. Essas duas coisas podem ser 0 ou 1, ou positivo e negativo. Ela plota a taxa positiva (recall) contra a taxa negativa (especificidade). Também pode ser estendido a problemas de classificação com três ou mais classes usando a abordagem \"um contra todos\".\n",
        "\n",
        "- Curva AUC\n",
        "\n",
        "A curva AUC é uma tentativa de simplificar a análise da curva ROC em um único valor, agregando todos os limiares da ROC, calculando a \"área sob a curva\". O valor da AUC varia de 0 até 1 e o limiar entre a classe é 0,5. Ou seja, acima desse limite, o algoritmo classifica em uma classe e abaixo na outra classe. Quanto mais próximo de 1 a AUC estiver melhor é o nosso modelo!"
      ]
    },
    {
      "cell_type": "code",
      "metadata": {
        "id": "vEOhyPg4ttJU"
      },
      "source": [
        "#Importando biblioteca de métricas\n",
        "from sklearn.metrics import roc_auc_score, classification_report, confusion_matrix, accuracy_score\n",
        "from skopt import dummy_minimize\n",
        "from skopt import gp_minimize"
      ],
      "execution_count": 146,
      "outputs": []
    },
    {
      "cell_type": "code",
      "metadata": {
        "colab": {
          "base_uri": "https://localhost:8080/"
        },
        "id": "cVlkZXA_nqFH",
        "outputId": "fdba75b4-cd6e-4d9f-a778-7a6dd2bac7d3"
      },
      "source": [
        "#Conferindo roc_auc_score antes de tunar\n",
        "#Resultado = 0.8197929627399826\n",
        "\n",
        "roc_auc_score(y_test,prev,multi_class='ovo')"
      ],
      "execution_count": 61,
      "outputs": [
        {
          "output_type": "execute_result",
          "data": {
            "text/plain": [
              "0.8197929627399826"
            ]
          },
          "metadata": {
            "tags": []
          },
          "execution_count": 61
        }
      ]
    },
    {
      "cell_type": "markdown",
      "metadata": {
        "id": "Nu2yu7YU5q-Y"
      },
      "source": [
        "**Random search - busca aleatória**\n",
        "\n",
        "Vamos começar tunando nosso modelo usando a busca aleatória. O intuito aqui é ela nos dar a melhor combinação de parâmetros"
      ]
    },
    {
      "cell_type": "code",
      "metadata": {
        "colab": {
          "base_uri": "https://localhost:8080/"
        },
        "id": "y-E7FPmWuULX",
        "outputId": "331d0a9d-3a1b-447e-fa56-0943e47f8d06"
      },
      "source": [
        "def treinar_modelo(params):\n",
        "    learning_rate = params[0]\n",
        "    n_estimators = params[1]\n",
        "    max_depth = params[2]\n",
        "    subsample = params[3]\n",
        "    colsample_bytree = params[4]\n",
        "    \n",
        "    xgboost = XGBClassifier(learning_rate=learning_rate, n_estimators=n_estimators,max_depth=max_depth,subsample=subsample,colsample_bytree=colsample_bytree)\n",
        "    xgboost.fit(X_train, y_train)\n",
        "    \n",
        "    pip = xgboost.predict_proba(X_test)[:]\n",
        "    \n",
        "    return -roc_auc_score(y_test, pip,multi_class='ovo');\n",
        "\n",
        "space = [(1e-3, 1e-1, 'log-uniform'), #learning rate\n",
        "         (100, 1000), # n_estimators\n",
        "         (1, 5), # max_depth\n",
        "         (0.05, 1.0), # subsample\n",
        "         (0.1, 1.0)] # colsample bytree\n",
        "\n",
        "resultado = dummy_minimize(treinar_modelo, space, random_state=0, verbose=1);"
      ],
      "execution_count": 62,
      "outputs": [
        {
          "output_type": "stream",
          "text": [
            "Iteration No: 1 started. Evaluating function at random point.\n",
            "Iteration No: 1 ended. Evaluation done at random point.\n",
            "Time taken: 0.4130\n",
            "Function value obtained: -0.8146\n",
            "Current minimum: -0.8146\n",
            "Iteration No: 2 started. Evaluating function at random point.\n",
            "Iteration No: 2 ended. Evaluation done at random point.\n",
            "Time taken: 0.5937\n",
            "Function value obtained: -0.7952\n",
            "Current minimum: -0.8146\n",
            "Iteration No: 3 started. Evaluating function at random point.\n",
            "Iteration No: 3 ended. Evaluation done at random point.\n",
            "Time taken: 0.5409\n",
            "Function value obtained: -0.7677\n",
            "Current minimum: -0.8146\n",
            "Iteration No: 4 started. Evaluating function at random point.\n",
            "Iteration No: 4 ended. Evaluation done at random point.\n",
            "Time taken: 0.1300\n",
            "Function value obtained: -0.7510\n",
            "Current minimum: -0.8146\n",
            "Iteration No: 5 started. Evaluating function at random point.\n",
            "Iteration No: 5 ended. Evaluation done at random point.\n",
            "Time taken: 1.1091\n",
            "Function value obtained: -0.8240\n",
            "Current minimum: -0.8240\n",
            "Iteration No: 6 started. Evaluating function at random point.\n",
            "Iteration No: 6 ended. Evaluation done at random point.\n",
            "Time taken: 0.3401\n",
            "Function value obtained: -0.7955\n",
            "Current minimum: -0.8240\n",
            "Iteration No: 7 started. Evaluating function at random point.\n",
            "Iteration No: 7 ended. Evaluation done at random point.\n",
            "Time taken: 0.8634\n",
            "Function value obtained: -0.8255\n",
            "Current minimum: -0.8255\n",
            "Iteration No: 8 started. Evaluating function at random point.\n",
            "Iteration No: 8 ended. Evaluation done at random point.\n",
            "Time taken: 0.1157\n",
            "Function value obtained: -0.7804\n",
            "Current minimum: -0.8255\n",
            "Iteration No: 9 started. Evaluating function at random point.\n",
            "Iteration No: 9 ended. Evaluation done at random point.\n",
            "Time taken: 1.0505\n",
            "Function value obtained: -0.8048\n",
            "Current minimum: -0.8255\n",
            "Iteration No: 10 started. Evaluating function at random point.\n",
            "Iteration No: 10 ended. Evaluation done at random point.\n",
            "Time taken: 0.3086\n",
            "Function value obtained: -0.7520\n",
            "Current minimum: -0.8255\n",
            "Iteration No: 11 started. Evaluating function at random point.\n",
            "Iteration No: 11 ended. Evaluation done at random point.\n",
            "Time taken: 0.7060\n",
            "Function value obtained: -0.8291\n",
            "Current minimum: -0.8291\n",
            "Iteration No: 12 started. Evaluating function at random point.\n",
            "Iteration No: 12 ended. Evaluation done at random point.\n",
            "Time taken: 0.9189\n",
            "Function value obtained: -0.8010\n",
            "Current minimum: -0.8291\n",
            "Iteration No: 13 started. Evaluating function at random point.\n",
            "Iteration No: 13 ended. Evaluation done at random point.\n",
            "Time taken: 0.2244\n",
            "Function value obtained: -0.8108\n",
            "Current minimum: -0.8291\n",
            "Iteration No: 14 started. Evaluating function at random point.\n",
            "Iteration No: 14 ended. Evaluation done at random point.\n",
            "Time taken: 0.2312\n",
            "Function value obtained: -0.7823\n",
            "Current minimum: -0.8291\n",
            "Iteration No: 15 started. Evaluating function at random point.\n",
            "Iteration No: 15 ended. Evaluation done at random point.\n",
            "Time taken: 0.4205\n",
            "Function value obtained: -0.7440\n",
            "Current minimum: -0.8291\n",
            "Iteration No: 16 started. Evaluating function at random point.\n",
            "Iteration No: 16 ended. Evaluation done at random point.\n",
            "Time taken: 0.1798\n",
            "Function value obtained: -0.7470\n",
            "Current minimum: -0.8291\n",
            "Iteration No: 17 started. Evaluating function at random point.\n",
            "Iteration No: 17 ended. Evaluation done at random point.\n",
            "Time taken: 0.3087\n",
            "Function value obtained: -0.8129\n",
            "Current minimum: -0.8291\n",
            "Iteration No: 18 started. Evaluating function at random point.\n",
            "Iteration No: 18 ended. Evaluation done at random point.\n",
            "Time taken: 0.3204\n",
            "Function value obtained: -0.7872\n",
            "Current minimum: -0.8291\n",
            "Iteration No: 19 started. Evaluating function at random point.\n",
            "Iteration No: 19 ended. Evaluation done at random point.\n",
            "Time taken: 0.9375\n",
            "Function value obtained: -0.8050\n",
            "Current minimum: -0.8291\n",
            "Iteration No: 20 started. Evaluating function at random point.\n",
            "Iteration No: 20 ended. Evaluation done at random point.\n",
            "Time taken: 0.8538\n",
            "Function value obtained: -0.8244\n",
            "Current minimum: -0.8291\n",
            "Iteration No: 21 started. Evaluating function at random point.\n",
            "Iteration No: 21 ended. Evaluation done at random point.\n",
            "Time taken: 0.1066\n",
            "Function value obtained: -0.7841\n",
            "Current minimum: -0.8291\n",
            "Iteration No: 22 started. Evaluating function at random point.\n",
            "Iteration No: 22 ended. Evaluation done at random point.\n",
            "Time taken: 1.2744\n",
            "Function value obtained: -0.8002\n",
            "Current minimum: -0.8291\n",
            "Iteration No: 23 started. Evaluating function at random point.\n",
            "Iteration No: 23 ended. Evaluation done at random point.\n",
            "Time taken: 0.2276\n",
            "Function value obtained: -0.7683\n",
            "Current minimum: -0.8291\n",
            "Iteration No: 24 started. Evaluating function at random point.\n",
            "Iteration No: 24 ended. Evaluation done at random point.\n",
            "Time taken: 0.4198\n",
            "Function value obtained: -0.7878\n",
            "Current minimum: -0.8291\n",
            "Iteration No: 25 started. Evaluating function at random point.\n",
            "Iteration No: 25 ended. Evaluation done at random point.\n",
            "Time taken: 0.2391\n",
            "Function value obtained: -0.8018\n",
            "Current minimum: -0.8291\n",
            "Iteration No: 26 started. Evaluating function at random point.\n",
            "Iteration No: 26 ended. Evaluation done at random point.\n",
            "Time taken: 0.3152\n",
            "Function value obtained: -0.8054\n",
            "Current minimum: -0.8291\n",
            "Iteration No: 27 started. Evaluating function at random point.\n",
            "Iteration No: 27 ended. Evaluation done at random point.\n",
            "Time taken: 1.1868\n",
            "Function value obtained: -0.8135\n",
            "Current minimum: -0.8291\n",
            "Iteration No: 28 started. Evaluating function at random point.\n",
            "Iteration No: 28 ended. Evaluation done at random point.\n",
            "Time taken: 0.5178\n",
            "Function value obtained: -0.7910\n",
            "Current minimum: -0.8291\n",
            "Iteration No: 29 started. Evaluating function at random point.\n",
            "Iteration No: 29 ended. Evaluation done at random point.\n",
            "Time taken: 1.1719\n",
            "Function value obtained: -0.8284\n",
            "Current minimum: -0.8291\n",
            "Iteration No: 30 started. Evaluating function at random point.\n",
            "Iteration No: 30 ended. Evaluation done at random point.\n",
            "Time taken: 0.1419\n",
            "Function value obtained: -0.7801\n",
            "Current minimum: -0.8291\n",
            "Iteration No: 31 started. Evaluating function at random point.\n",
            "Iteration No: 31 ended. Evaluation done at random point.\n",
            "Time taken: 0.2604\n",
            "Function value obtained: -0.8121\n",
            "Current minimum: -0.8291\n",
            "Iteration No: 32 started. Evaluating function at random point.\n",
            "Iteration No: 32 ended. Evaluation done at random point.\n",
            "Time taken: 1.1001\n",
            "Function value obtained: -0.8263\n",
            "Current minimum: -0.8291\n",
            "Iteration No: 33 started. Evaluating function at random point.\n",
            "Iteration No: 33 ended. Evaluation done at random point.\n",
            "Time taken: 0.8218\n",
            "Function value obtained: -0.7892\n",
            "Current minimum: -0.8291\n",
            "Iteration No: 34 started. Evaluating function at random point.\n",
            "Iteration No: 34 ended. Evaluation done at random point.\n",
            "Time taken: 0.9214\n",
            "Function value obtained: -0.7928\n",
            "Current minimum: -0.8291\n",
            "Iteration No: 35 started. Evaluating function at random point.\n",
            "Iteration No: 35 ended. Evaluation done at random point.\n",
            "Time taken: 0.5050\n",
            "Function value obtained: -0.8200\n",
            "Current minimum: -0.8291\n",
            "Iteration No: 36 started. Evaluating function at random point.\n",
            "Iteration No: 36 ended. Evaluation done at random point.\n",
            "Time taken: 0.7908\n",
            "Function value obtained: -0.8259\n",
            "Current minimum: -0.8291\n",
            "Iteration No: 37 started. Evaluating function at random point.\n",
            "Iteration No: 37 ended. Evaluation done at random point.\n",
            "Time taken: 0.5660\n",
            "Function value obtained: -0.7691\n",
            "Current minimum: -0.8291\n",
            "Iteration No: 38 started. Evaluating function at random point.\n",
            "Iteration No: 38 ended. Evaluation done at random point.\n",
            "Time taken: 1.2962\n",
            "Function value obtained: -0.8204\n",
            "Current minimum: -0.8291\n",
            "Iteration No: 39 started. Evaluating function at random point.\n",
            "Iteration No: 39 ended. Evaluation done at random point.\n",
            "Time taken: 0.3565\n",
            "Function value obtained: -0.7642\n",
            "Current minimum: -0.8291\n",
            "Iteration No: 40 started. Evaluating function at random point.\n",
            "Iteration No: 40 ended. Evaluation done at random point.\n",
            "Time taken: 0.4129\n",
            "Function value obtained: -0.7794\n",
            "Current minimum: -0.8291\n",
            "Iteration No: 41 started. Evaluating function at random point.\n",
            "Iteration No: 41 ended. Evaluation done at random point.\n",
            "Time taken: 0.2164\n",
            "Function value obtained: -0.7967\n",
            "Current minimum: -0.8291\n",
            "Iteration No: 42 started. Evaluating function at random point.\n",
            "Iteration No: 42 ended. Evaluation done at random point.\n",
            "Time taken: 0.2038\n",
            "Function value obtained: -0.7829\n",
            "Current minimum: -0.8291\n",
            "Iteration No: 43 started. Evaluating function at random point.\n",
            "Iteration No: 43 ended. Evaluation done at random point.\n",
            "Time taken: 0.6530\n",
            "Function value obtained: -0.8222\n",
            "Current minimum: -0.8291\n",
            "Iteration No: 44 started. Evaluating function at random point.\n",
            "Iteration No: 44 ended. Evaluation done at random point.\n",
            "Time taken: 0.1716\n",
            "Function value obtained: -0.7810\n",
            "Current minimum: -0.8291\n",
            "Iteration No: 45 started. Evaluating function at random point.\n",
            "Iteration No: 45 ended. Evaluation done at random point.\n",
            "Time taken: 0.6222\n",
            "Function value obtained: -0.7972\n",
            "Current minimum: -0.8291\n",
            "Iteration No: 46 started. Evaluating function at random point.\n",
            "Iteration No: 46 ended. Evaluation done at random point.\n",
            "Time taken: 0.6474\n",
            "Function value obtained: -0.7779\n",
            "Current minimum: -0.8291\n",
            "Iteration No: 47 started. Evaluating function at random point.\n",
            "Iteration No: 47 ended. Evaluation done at random point.\n",
            "Time taken: 0.2750\n",
            "Function value obtained: -0.7522\n",
            "Current minimum: -0.8291\n",
            "Iteration No: 48 started. Evaluating function at random point.\n",
            "Iteration No: 48 ended. Evaluation done at random point.\n",
            "Time taken: 0.9348\n",
            "Function value obtained: -0.8210\n",
            "Current minimum: -0.8291\n",
            "Iteration No: 49 started. Evaluating function at random point.\n",
            "Iteration No: 49 ended. Evaluation done at random point.\n",
            "Time taken: 0.4153\n",
            "Function value obtained: -0.8002\n",
            "Current minimum: -0.8291\n",
            "Iteration No: 50 started. Evaluating function at random point.\n",
            "Iteration No: 50 ended. Evaluation done at random point.\n",
            "Time taken: 0.3863\n",
            "Function value obtained: -0.8175\n",
            "Current minimum: -0.8291\n",
            "Iteration No: 51 started. Evaluating function at random point.\n",
            "Iteration No: 51 ended. Evaluation done at random point.\n",
            "Time taken: 0.1027\n",
            "Function value obtained: -0.7757\n",
            "Current minimum: -0.8291\n",
            "Iteration No: 52 started. Evaluating function at random point.\n",
            "Iteration No: 52 ended. Evaluation done at random point.\n",
            "Time taken: 0.3635\n",
            "Function value obtained: -0.8032\n",
            "Current minimum: -0.8291\n",
            "Iteration No: 53 started. Evaluating function at random point.\n",
            "Iteration No: 53 ended. Evaluation done at random point.\n",
            "Time taken: 0.2072\n",
            "Function value obtained: -0.7436\n",
            "Current minimum: -0.8291\n",
            "Iteration No: 54 started. Evaluating function at random point.\n",
            "Iteration No: 54 ended. Evaluation done at random point.\n",
            "Time taken: 0.3709\n",
            "Function value obtained: -0.7749\n",
            "Current minimum: -0.8291\n",
            "Iteration No: 55 started. Evaluating function at random point.\n",
            "Iteration No: 55 ended. Evaluation done at random point.\n",
            "Time taken: 0.2936\n",
            "Function value obtained: -0.7870\n",
            "Current minimum: -0.8291\n",
            "Iteration No: 56 started. Evaluating function at random point.\n",
            "Iteration No: 56 ended. Evaluation done at random point.\n",
            "Time taken: 0.6218\n",
            "Function value obtained: -0.8283\n",
            "Current minimum: -0.8291\n",
            "Iteration No: 57 started. Evaluating function at random point.\n",
            "Iteration No: 57 ended. Evaluation done at random point.\n",
            "Time taken: 0.4965\n",
            "Function value obtained: -0.7935\n",
            "Current minimum: -0.8291\n",
            "Iteration No: 58 started. Evaluating function at random point.\n",
            "Iteration No: 58 ended. Evaluation done at random point.\n",
            "Time taken: 0.9262\n",
            "Function value obtained: -0.7986\n",
            "Current minimum: -0.8291\n",
            "Iteration No: 59 started. Evaluating function at random point.\n",
            "Iteration No: 59 ended. Evaluation done at random point.\n",
            "Time taken: 0.5012\n",
            "Function value obtained: -0.8139\n",
            "Current minimum: -0.8291\n",
            "Iteration No: 60 started. Evaluating function at random point.\n",
            "Iteration No: 60 ended. Evaluation done at random point.\n",
            "Time taken: 0.3753\n",
            "Function value obtained: -0.7952\n",
            "Current minimum: -0.8291\n",
            "Iteration No: 61 started. Evaluating function at random point.\n",
            "Iteration No: 61 ended. Evaluation done at random point.\n",
            "Time taken: 0.2309\n",
            "Function value obtained: -0.7602\n",
            "Current minimum: -0.8291\n",
            "Iteration No: 62 started. Evaluating function at random point.\n",
            "Iteration No: 62 ended. Evaluation done at random point.\n",
            "Time taken: 0.3685\n",
            "Function value obtained: -0.7901\n",
            "Current minimum: -0.8291\n",
            "Iteration No: 63 started. Evaluating function at random point.\n",
            "Iteration No: 63 ended. Evaluation done at random point.\n",
            "Time taken: 0.5507\n",
            "Function value obtained: -0.7973\n",
            "Current minimum: -0.8291\n",
            "Iteration No: 64 started. Evaluating function at random point.\n",
            "Iteration No: 64 ended. Evaluation done at random point.\n",
            "Time taken: 0.1829\n",
            "Function value obtained: -0.8215\n",
            "Current minimum: -0.8291\n",
            "Iteration No: 65 started. Evaluating function at random point.\n",
            "Iteration No: 65 ended. Evaluation done at random point.\n",
            "Time taken: 0.2466\n",
            "Function value obtained: -0.8039\n",
            "Current minimum: -0.8291\n",
            "Iteration No: 66 started. Evaluating function at random point.\n",
            "Iteration No: 66 ended. Evaluation done at random point.\n",
            "Time taken: 0.1167\n",
            "Function value obtained: -0.8018\n",
            "Current minimum: -0.8291\n",
            "Iteration No: 67 started. Evaluating function at random point.\n",
            "Iteration No: 67 ended. Evaluation done at random point.\n",
            "Time taken: 0.0787\n",
            "Function value obtained: -0.7545\n",
            "Current minimum: -0.8291\n",
            "Iteration No: 68 started. Evaluating function at random point.\n",
            "Iteration No: 68 ended. Evaluation done at random point.\n",
            "Time taken: 1.0174\n",
            "Function value obtained: -0.8044\n",
            "Current minimum: -0.8291\n",
            "Iteration No: 69 started. Evaluating function at random point.\n",
            "Iteration No: 69 ended. Evaluation done at random point.\n",
            "Time taken: 1.1596\n",
            "Function value obtained: -0.8210\n",
            "Current minimum: -0.8291\n",
            "Iteration No: 70 started. Evaluating function at random point.\n",
            "Iteration No: 70 ended. Evaluation done at random point.\n",
            "Time taken: 0.5140\n",
            "Function value obtained: -0.8232\n",
            "Current minimum: -0.8291\n",
            "Iteration No: 71 started. Evaluating function at random point.\n",
            "Iteration No: 71 ended. Evaluation done at random point.\n",
            "Time taken: 0.5305\n",
            "Function value obtained: -0.7881\n",
            "Current minimum: -0.8291\n",
            "Iteration No: 72 started. Evaluating function at random point.\n",
            "Iteration No: 72 ended. Evaluation done at random point.\n",
            "Time taken: 0.8271\n",
            "Function value obtained: -0.8287\n",
            "Current minimum: -0.8291\n",
            "Iteration No: 73 started. Evaluating function at random point.\n",
            "Iteration No: 73 ended. Evaluation done at random point.\n",
            "Time taken: 0.9087\n",
            "Function value obtained: -0.8286\n",
            "Current minimum: -0.8291\n",
            "Iteration No: 74 started. Evaluating function at random point.\n",
            "Iteration No: 74 ended. Evaluation done at random point.\n",
            "Time taken: 1.2349\n",
            "Function value obtained: -0.8193\n",
            "Current minimum: -0.8291\n",
            "Iteration No: 75 started. Evaluating function at random point.\n",
            "Iteration No: 75 ended. Evaluation done at random point.\n",
            "Time taken: 0.6318\n",
            "Function value obtained: -0.7692\n",
            "Current minimum: -0.8291\n",
            "Iteration No: 76 started. Evaluating function at random point.\n",
            "Iteration No: 76 ended. Evaluation done at random point.\n",
            "Time taken: 0.2772\n",
            "Function value obtained: -0.7748\n",
            "Current minimum: -0.8291\n",
            "Iteration No: 77 started. Evaluating function at random point.\n",
            "Iteration No: 77 ended. Evaluation done at random point.\n",
            "Time taken: 0.3034\n",
            "Function value obtained: -0.7835\n",
            "Current minimum: -0.8291\n",
            "Iteration No: 78 started. Evaluating function at random point.\n",
            "Iteration No: 78 ended. Evaluation done at random point.\n",
            "Time taken: 0.5966\n",
            "Function value obtained: -0.8006\n",
            "Current minimum: -0.8291\n",
            "Iteration No: 79 started. Evaluating function at random point.\n",
            "Iteration No: 79 ended. Evaluation done at random point.\n",
            "Time taken: 0.6609\n",
            "Function value obtained: -0.7815\n",
            "Current minimum: -0.8291\n",
            "Iteration No: 80 started. Evaluating function at random point.\n",
            "Iteration No: 80 ended. Evaluation done at random point.\n",
            "Time taken: 0.3561\n",
            "Function value obtained: -0.7678\n",
            "Current minimum: -0.8291\n",
            "Iteration No: 81 started. Evaluating function at random point.\n",
            "Iteration No: 81 ended. Evaluation done at random point.\n",
            "Time taken: 1.2417\n",
            "Function value obtained: -0.8200\n",
            "Current minimum: -0.8291\n",
            "Iteration No: 82 started. Evaluating function at random point.\n",
            "Iteration No: 82 ended. Evaluation done at random point.\n",
            "Time taken: 0.7034\n",
            "Function value obtained: -0.8133\n",
            "Current minimum: -0.8291\n",
            "Iteration No: 83 started. Evaluating function at random point.\n",
            "Iteration No: 83 ended. Evaluation done at random point.\n",
            "Time taken: 0.2680\n",
            "Function value obtained: -0.7705\n",
            "Current minimum: -0.8291\n",
            "Iteration No: 84 started. Evaluating function at random point.\n",
            "Iteration No: 84 ended. Evaluation done at random point.\n",
            "Time taken: 0.7268\n",
            "Function value obtained: -0.8038\n",
            "Current minimum: -0.8291\n",
            "Iteration No: 85 started. Evaluating function at random point.\n",
            "Iteration No: 85 ended. Evaluation done at random point.\n",
            "Time taken: 0.6048\n",
            "Function value obtained: -0.8067\n",
            "Current minimum: -0.8291\n",
            "Iteration No: 86 started. Evaluating function at random point.\n",
            "Iteration No: 86 ended. Evaluation done at random point.\n",
            "Time taken: 0.2180\n",
            "Function value obtained: -0.8083\n",
            "Current minimum: -0.8291\n",
            "Iteration No: 87 started. Evaluating function at random point.\n",
            "Iteration No: 87 ended. Evaluation done at random point.\n",
            "Time taken: 1.4099\n",
            "Function value obtained: -0.8155\n",
            "Current minimum: -0.8291\n",
            "Iteration No: 88 started. Evaluating function at random point.\n",
            "Iteration No: 88 ended. Evaluation done at random point.\n",
            "Time taken: 0.4181\n",
            "Function value obtained: -0.7870\n",
            "Current minimum: -0.8291\n",
            "Iteration No: 89 started. Evaluating function at random point.\n",
            "Iteration No: 89 ended. Evaluation done at random point.\n",
            "Time taken: 0.7239\n",
            "Function value obtained: -0.8119\n",
            "Current minimum: -0.8291\n",
            "Iteration No: 90 started. Evaluating function at random point.\n",
            "Iteration No: 90 ended. Evaluation done at random point.\n",
            "Time taken: 0.2621\n",
            "Function value obtained: -0.7795\n",
            "Current minimum: -0.8291\n",
            "Iteration No: 91 started. Evaluating function at random point.\n",
            "Iteration No: 91 ended. Evaluation done at random point.\n",
            "Time taken: 0.3754\n",
            "Function value obtained: -0.7657\n",
            "Current minimum: -0.8291\n",
            "Iteration No: 92 started. Evaluating function at random point.\n",
            "Iteration No: 92 ended. Evaluation done at random point.\n",
            "Time taken: 0.2409\n",
            "Function value obtained: -0.8207\n",
            "Current minimum: -0.8291\n",
            "Iteration No: 93 started. Evaluating function at random point.\n",
            "Iteration No: 93 ended. Evaluation done at random point.\n",
            "Time taken: 0.2955\n",
            "Function value obtained: -0.8037\n",
            "Current minimum: -0.8291\n",
            "Iteration No: 94 started. Evaluating function at random point.\n",
            "Iteration No: 94 ended. Evaluation done at random point.\n",
            "Time taken: 0.2762\n",
            "Function value obtained: -0.8154\n",
            "Current minimum: -0.8291\n",
            "Iteration No: 95 started. Evaluating function at random point.\n",
            "Iteration No: 95 ended. Evaluation done at random point.\n",
            "Time taken: 1.5692\n",
            "Function value obtained: -0.8200\n",
            "Current minimum: -0.8291\n",
            "Iteration No: 96 started. Evaluating function at random point.\n",
            "Iteration No: 96 ended. Evaluation done at random point.\n",
            "Time taken: 0.7813\n",
            "Function value obtained: -0.8151\n",
            "Current minimum: -0.8291\n",
            "Iteration No: 97 started. Evaluating function at random point.\n",
            "Iteration No: 97 ended. Evaluation done at random point.\n",
            "Time taken: 0.2315\n",
            "Function value obtained: -0.8037\n",
            "Current minimum: -0.8291\n",
            "Iteration No: 98 started. Evaluating function at random point.\n",
            "Iteration No: 98 ended. Evaluation done at random point.\n",
            "Time taken: 0.1924\n",
            "Function value obtained: -0.8028\n",
            "Current minimum: -0.8291\n",
            "Iteration No: 99 started. Evaluating function at random point.\n",
            "Iteration No: 99 ended. Evaluation done at random point.\n",
            "Time taken: 0.5708\n",
            "Function value obtained: -0.8189\n",
            "Current minimum: -0.8291\n",
            "Iteration No: 100 started. Evaluating function at random point.\n",
            "Iteration No: 100 ended. Evaluation done at random point.\n",
            "Time taken: 0.8130\n",
            "Function value obtained: -0.7879\n",
            "Current minimum: -0.8291\n"
          ],
          "name": "stdout"
        }
      ]
    },
    {
      "cell_type": "markdown",
      "metadata": {
        "id": "uCWd2-K37M85"
      },
      "source": [
        "Com nossa busca aleatória finalizada, conseguimos saber qual o melhor grupo de parâmetros que foi localizado com o seguinte comando:"
      ]
    },
    {
      "cell_type": "code",
      "metadata": {
        "colab": {
          "base_uri": "https://localhost:8080/"
        },
        "id": "_nitFrj2uUNs",
        "outputId": "171ef3f3-6cdc-4ad4-b66d-89f298d69ca1"
      },
      "source": [
        "'''\n",
        "Lembrando que nossos parâmetros estão na seguinte ordem:\n",
        "--> learning_rate = params[0]\n",
        "--> n_estimators = params[1]\n",
        "--> max_depth = params[2]\n",
        "--> subsample = params[3]\n",
        "--> colsample_bytree = params[4]\n",
        "'''\n",
        "\n",
        "resultado.x"
      ],
      "execution_count": 63,
      "outputs": [
        {
          "output_type": "execute_result",
          "data": {
            "text/plain": [
              "[0.08701981095758313, 970, 4, 0.24986343302014885, 0.216033667889368]"
            ]
          },
          "metadata": {
            "tags": []
          },
          "execution_count": 63
        }
      ]
    },
    {
      "cell_type": "markdown",
      "metadata": {
        "id": "3sQqZH_i75QM"
      },
      "source": [
        "Vamos analisar o modelo com o grupo de parâmetros que conseguimos na busca aleatória:"
      ]
    },
    {
      "cell_type": "code",
      "metadata": {
        "id": "nEpV409l74qt"
      },
      "source": [
        "#Modelo com algoritmo XGBClassifier com parâmetros da busca aleatória\n",
        "\n",
        "xboost = XGBClassifier(learning_rate=0.08,n_estimators=970,max_depth=4,subsample=0.24,colsample_bytree=0.21)\n",
        "xboost.fit(X_train, y_train)\n",
        "prev = xboost.predict_proba(X_test)[:]"
      ],
      "execution_count": 64,
      "outputs": []
    },
    {
      "cell_type": "code",
      "metadata": {
        "colab": {
          "base_uri": "https://localhost:8080/"
        },
        "id": "zUyhBnPt0554",
        "outputId": "3472d4f6-a5e8-4125-c62e-ab6b6d16a5d1"
      },
      "source": [
        "#Conferindo roc_auc_score com a busca aleatória\n",
        "\n",
        "#Grupo de parâmetros = [0.08701981095758313, 970, 4, 0.24986343302014885, 0.216033667889368]\n",
        "#Resultado = 0.825462572747341\n",
        "\n",
        "roc_auc_score(y_test,prev,multi_class='ovo')"
      ],
      "execution_count": 65,
      "outputs": [
        {
          "output_type": "execute_result",
          "data": {
            "text/plain": [
              "0.825462572747341"
            ]
          },
          "metadata": {
            "tags": []
          },
          "execution_count": 65
        }
      ]
    },
    {
      "cell_type": "markdown",
      "metadata": {
        "id": "yyMQCl_P8VOx"
      },
      "source": [
        "Aqui já notamos uma melhora do nosso modelo, ainda assim acredito que podemos fazer melhor utilizando a 'otimização bayesiana'"
      ]
    },
    {
      "cell_type": "markdown",
      "metadata": {
        "id": "GaQle3UO8kZw"
      },
      "source": [
        "**Bayesian Optimization**\n",
        "\n",
        "A Otimização Bayesiana é uma abordagem que utiliza o Teorema de Bayes para direcionar a busca a fim de encontrar o mínimo ou máximo de uma função objetivo."
      ]
    },
    {
      "cell_type": "code",
      "metadata": {
        "colab": {
          "base_uri": "https://localhost:8080/"
        },
        "id": "tqZ5ZBKYuUS-",
        "outputId": "fd6817df-85f7-46d2-8be9-215f113943a4"
      },
      "source": [
        "resultados_gp = gp_minimize(treinar_modelo, space, random_state=1, verbose=1, n_random_starts=10)"
      ],
      "execution_count": 66,
      "outputs": [
        {
          "output_type": "stream",
          "text": [
            "Iteration No: 1 started. Evaluating function at random point.\n",
            "Iteration No: 1 ended. Evaluation done at random point.\n",
            "Time taken: 0.5360\n",
            "Function value obtained: -0.8349\n",
            "Current minimum: -0.8349\n",
            "Iteration No: 2 started. Evaluating function at random point.\n",
            "Iteration No: 2 ended. Evaluation done at random point.\n",
            "Time taken: 0.6171\n",
            "Function value obtained: -0.8071\n",
            "Current minimum: -0.8349\n",
            "Iteration No: 3 started. Evaluating function at random point.\n",
            "Iteration No: 3 ended. Evaluation done at random point.\n",
            "Time taken: 0.5531\n",
            "Function value obtained: -0.7840\n",
            "Current minimum: -0.8349\n",
            "Iteration No: 4 started. Evaluating function at random point.\n",
            "Iteration No: 4 ended. Evaluation done at random point.\n",
            "Time taken: 0.5735\n",
            "Function value obtained: -0.8296\n",
            "Current minimum: -0.8349\n",
            "Iteration No: 5 started. Evaluating function at random point.\n",
            "Iteration No: 5 ended. Evaluation done at random point.\n",
            "Time taken: 0.5377\n",
            "Function value obtained: -0.8001\n",
            "Current minimum: -0.8349\n",
            "Iteration No: 6 started. Evaluating function at random point.\n",
            "Iteration No: 6 ended. Evaluation done at random point.\n",
            "Time taken: 0.5737\n",
            "Function value obtained: -0.8157\n",
            "Current minimum: -0.8349\n",
            "Iteration No: 7 started. Evaluating function at random point.\n",
            "Iteration No: 7 ended. Evaluation done at random point.\n",
            "Time taken: 0.5327\n",
            "Function value obtained: -0.8005\n",
            "Current minimum: -0.8349\n",
            "Iteration No: 8 started. Evaluating function at random point.\n",
            "Iteration No: 8 ended. Evaluation done at random point.\n",
            "Time taken: 0.6395\n",
            "Function value obtained: -0.7668\n",
            "Current minimum: -0.8349\n",
            "Iteration No: 9 started. Evaluating function at random point.\n",
            "Iteration No: 9 ended. Evaluation done at random point.\n",
            "Time taken: 0.2427\n",
            "Function value obtained: -0.7820\n",
            "Current minimum: -0.8349\n",
            "Iteration No: 10 started. Evaluating function at random point.\n",
            "Iteration No: 10 ended. Evaluation done at random point.\n",
            "Time taken: 0.7314\n",
            "Function value obtained: -0.7851\n",
            "Current minimum: -0.8349\n",
            "Iteration No: 11 started. Searching for the next optimal point.\n",
            "Iteration No: 11 ended. Search finished for the next optimal point.\n",
            "Time taken: 0.7395\n",
            "Function value obtained: -0.8365\n",
            "Current minimum: -0.8365\n",
            "Iteration No: 12 started. Searching for the next optimal point.\n",
            "Iteration No: 12 ended. Search finished for the next optimal point.\n",
            "Time taken: 1.0234\n",
            "Function value obtained: -0.8215\n",
            "Current minimum: -0.8365\n",
            "Iteration No: 13 started. Searching for the next optimal point.\n",
            "Iteration No: 13 ended. Search finished for the next optimal point.\n",
            "Time taken: 0.9977\n",
            "Function value obtained: -0.8192\n",
            "Current minimum: -0.8365\n",
            "Iteration No: 14 started. Searching for the next optimal point.\n",
            "Iteration No: 14 ended. Search finished for the next optimal point.\n",
            "Time taken: 0.6835\n",
            "Function value obtained: -0.8365\n",
            "Current minimum: -0.8365\n",
            "Iteration No: 15 started. Searching for the next optimal point.\n",
            "Iteration No: 15 ended. Search finished for the next optimal point.\n",
            "Time taken: 0.6816\n",
            "Function value obtained: -0.8365\n",
            "Current minimum: -0.8365\n",
            "Iteration No: 16 started. Searching for the next optimal point.\n",
            "Iteration No: 16 ended. Search finished for the next optimal point.\n",
            "Time taken: 2.1366\n",
            "Function value obtained: -0.8165\n",
            "Current minimum: -0.8365\n",
            "Iteration No: 17 started. Searching for the next optimal point.\n",
            "Iteration No: 17 ended. Search finished for the next optimal point.\n",
            "Time taken: 0.7080\n",
            "Function value obtained: -0.8068\n",
            "Current minimum: -0.8365\n",
            "Iteration No: 18 started. Searching for the next optimal point.\n",
            "Iteration No: 18 ended. Search finished for the next optimal point.\n",
            "Time taken: 1.3780\n",
            "Function value obtained: -0.8195\n",
            "Current minimum: -0.8365\n",
            "Iteration No: 19 started. Searching for the next optimal point.\n",
            "Iteration No: 19 ended. Search finished for the next optimal point.\n",
            "Time taken: 0.7464\n",
            "Function value obtained: -0.7846\n",
            "Current minimum: -0.8365\n",
            "Iteration No: 20 started. Searching for the next optimal point.\n",
            "Iteration No: 20 ended. Search finished for the next optimal point.\n",
            "Time taken: 0.7812\n",
            "Function value obtained: -0.7313\n",
            "Current minimum: -0.8365\n",
            "Iteration No: 21 started. Searching for the next optimal point.\n",
            "Iteration No: 21 ended. Search finished for the next optimal point.\n",
            "Time taken: 0.8464\n",
            "Function value obtained: -0.8167\n",
            "Current minimum: -0.8365\n",
            "Iteration No: 22 started. Searching for the next optimal point.\n",
            "Iteration No: 22 ended. Search finished for the next optimal point.\n",
            "Time taken: 1.1647\n",
            "Function value obtained: -0.8334\n",
            "Current minimum: -0.8365\n",
            "Iteration No: 23 started. Searching for the next optimal point.\n",
            "Iteration No: 23 ended. Search finished for the next optimal point.\n",
            "Time taken: 0.6725\n",
            "Function value obtained: -0.8257\n",
            "Current minimum: -0.8365\n",
            "Iteration No: 24 started. Searching for the next optimal point.\n",
            "Iteration No: 24 ended. Search finished for the next optimal point.\n",
            "Time taken: 0.9895\n",
            "Function value obtained: -0.7911\n",
            "Current minimum: -0.8365\n",
            "Iteration No: 25 started. Searching for the next optimal point.\n",
            "Iteration No: 25 ended. Search finished for the next optimal point.\n",
            "Time taken: 1.3849\n",
            "Function value obtained: -0.8259\n",
            "Current minimum: -0.8365\n",
            "Iteration No: 26 started. Searching for the next optimal point.\n",
            "Iteration No: 26 ended. Search finished for the next optimal point.\n",
            "Time taken: 1.0021\n",
            "Function value obtained: -0.7761\n",
            "Current minimum: -0.8365\n",
            "Iteration No: 27 started. Searching for the next optimal point.\n",
            "Iteration No: 27 ended. Search finished for the next optimal point.\n",
            "Time taken: 0.7709\n",
            "Function value obtained: -0.8310\n",
            "Current minimum: -0.8365\n",
            "Iteration No: 28 started. Searching for the next optimal point.\n",
            "Iteration No: 28 ended. Search finished for the next optimal point.\n",
            "Time taken: 0.7524\n",
            "Function value obtained: -0.8198\n",
            "Current minimum: -0.8365\n",
            "Iteration No: 29 started. Searching for the next optimal point.\n",
            "Iteration No: 29 ended. Search finished for the next optimal point.\n",
            "Time taken: 1.5188\n",
            "Function value obtained: -0.8266\n",
            "Current minimum: -0.8365\n",
            "Iteration No: 30 started. Searching for the next optimal point.\n",
            "Iteration No: 30 ended. Search finished for the next optimal point.\n",
            "Time taken: 1.0759\n",
            "Function value obtained: -0.8321\n",
            "Current minimum: -0.8365\n",
            "Iteration No: 31 started. Searching for the next optimal point.\n",
            "Iteration No: 31 ended. Search finished for the next optimal point.\n",
            "Time taken: 1.1081\n",
            "Function value obtained: -0.8318\n",
            "Current minimum: -0.8365\n",
            "Iteration No: 32 started. Searching for the next optimal point.\n",
            "Iteration No: 32 ended. Search finished for the next optimal point.\n",
            "Time taken: 1.3667\n",
            "Function value obtained: -0.8334\n",
            "Current minimum: -0.8365\n",
            "Iteration No: 33 started. Searching for the next optimal point.\n",
            "Iteration No: 33 ended. Search finished for the next optimal point.\n",
            "Time taken: 1.5729\n",
            "Function value obtained: -0.8271\n",
            "Current minimum: -0.8365\n",
            "Iteration No: 34 started. Searching for the next optimal point.\n",
            "Iteration No: 34 ended. Search finished for the next optimal point.\n",
            "Time taken: 1.0833\n",
            "Function value obtained: -0.8344\n",
            "Current minimum: -0.8365\n",
            "Iteration No: 35 started. Searching for the next optimal point.\n",
            "Iteration No: 35 ended. Search finished for the next optimal point.\n",
            "Time taken: 0.7398\n",
            "Function value obtained: -0.7822\n",
            "Current minimum: -0.8365\n",
            "Iteration No: 36 started. Searching for the next optimal point.\n",
            "Iteration No: 36 ended. Search finished for the next optimal point.\n",
            "Time taken: 1.2415\n",
            "Function value obtained: -0.7793\n",
            "Current minimum: -0.8365\n",
            "Iteration No: 37 started. Searching for the next optimal point.\n",
            "Iteration No: 37 ended. Search finished for the next optimal point.\n",
            "Time taken: 1.6392\n",
            "Function value obtained: -0.8336\n",
            "Current minimum: -0.8365\n",
            "Iteration No: 38 started. Searching for the next optimal point.\n",
            "Iteration No: 38 ended. Search finished for the next optimal point.\n",
            "Time taken: 1.0842\n",
            "Function value obtained: -0.7798\n",
            "Current minimum: -0.8365\n",
            "Iteration No: 39 started. Searching for the next optimal point.\n",
            "Iteration No: 39 ended. Search finished for the next optimal point.\n",
            "Time taken: 2.4407\n",
            "Function value obtained: -0.8330\n",
            "Current minimum: -0.8365\n",
            "Iteration No: 40 started. Searching for the next optimal point.\n",
            "Iteration No: 40 ended. Search finished for the next optimal point.\n",
            "Time taken: 1.0540\n",
            "Function value obtained: -0.8344\n",
            "Current minimum: -0.8365\n",
            "Iteration No: 41 started. Searching for the next optimal point.\n",
            "Iteration No: 41 ended. Search finished for the next optimal point.\n",
            "Time taken: 0.9298\n",
            "Function value obtained: -0.8081\n",
            "Current minimum: -0.8365\n",
            "Iteration No: 42 started. Searching for the next optimal point.\n",
            "Iteration No: 42 ended. Search finished for the next optimal point.\n",
            "Time taken: 1.7245\n",
            "Function value obtained: -0.7479\n",
            "Current minimum: -0.8365\n",
            "Iteration No: 43 started. Searching for the next optimal point.\n",
            "Iteration No: 43 ended. Search finished for the next optimal point.\n",
            "Time taken: 1.8170\n",
            "Function value obtained: -0.8314\n",
            "Current minimum: -0.8365\n",
            "Iteration No: 44 started. Searching for the next optimal point.\n",
            "Iteration No: 44 ended. Search finished for the next optimal point.\n",
            "Time taken: 2.1522\n",
            "Function value obtained: -0.8238\n",
            "Current minimum: -0.8365\n",
            "Iteration No: 45 started. Searching for the next optimal point.\n",
            "Iteration No: 45 ended. Search finished for the next optimal point.\n",
            "Time taken: 1.8405\n",
            "Function value obtained: -0.8301\n",
            "Current minimum: -0.8365\n",
            "Iteration No: 46 started. Searching for the next optimal point.\n",
            "Iteration No: 46 ended. Search finished for the next optimal point.\n",
            "Time taken: 1.1183\n",
            "Function value obtained: -0.8325\n",
            "Current minimum: -0.8365\n",
            "Iteration No: 47 started. Searching for the next optimal point.\n",
            "Iteration No: 47 ended. Search finished for the next optimal point.\n",
            "Time taken: 1.6721\n",
            "Function value obtained: -0.8311\n",
            "Current minimum: -0.8365\n",
            "Iteration No: 48 started. Searching for the next optimal point.\n",
            "Iteration No: 48 ended. Search finished for the next optimal point.\n",
            "Time taken: 1.6190\n",
            "Function value obtained: -0.8329\n",
            "Current minimum: -0.8365\n",
            "Iteration No: 49 started. Searching for the next optimal point.\n",
            "Iteration No: 49 ended. Search finished for the next optimal point.\n",
            "Time taken: 2.5437\n",
            "Function value obtained: -0.8363\n",
            "Current minimum: -0.8365\n",
            "Iteration No: 50 started. Searching for the next optimal point.\n",
            "Iteration No: 50 ended. Search finished for the next optimal point.\n",
            "Time taken: 2.5248\n",
            "Function value obtained: -0.8311\n",
            "Current minimum: -0.8365\n",
            "Iteration No: 51 started. Searching for the next optimal point.\n",
            "Iteration No: 51 ended. Search finished for the next optimal point.\n",
            "Time taken: 2.3775\n",
            "Function value obtained: -0.8053\n",
            "Current minimum: -0.8365\n",
            "Iteration No: 52 started. Searching for the next optimal point.\n",
            "Iteration No: 52 ended. Search finished for the next optimal point.\n",
            "Time taken: 1.6914\n",
            "Function value obtained: -0.8300\n",
            "Current minimum: -0.8365\n",
            "Iteration No: 53 started. Searching for the next optimal point.\n",
            "Iteration No: 53 ended. Search finished for the next optimal point.\n",
            "Time taken: 1.8843\n",
            "Function value obtained: -0.8328\n",
            "Current minimum: -0.8365\n",
            "Iteration No: 54 started. Searching for the next optimal point.\n",
            "Iteration No: 54 ended. Search finished for the next optimal point.\n",
            "Time taken: 1.1018\n",
            "Function value obtained: -0.7260\n",
            "Current minimum: -0.8365\n",
            "Iteration No: 55 started. Searching for the next optimal point.\n",
            "Iteration No: 55 ended. Search finished for the next optimal point.\n",
            "Time taken: 1.3177\n",
            "Function value obtained: -0.7955\n",
            "Current minimum: -0.8365\n",
            "Iteration No: 56 started. Searching for the next optimal point.\n",
            "Iteration No: 56 ended. Search finished for the next optimal point.\n",
            "Time taken: 2.1468\n",
            "Function value obtained: -0.8246\n",
            "Current minimum: -0.8365\n",
            "Iteration No: 57 started. Searching for the next optimal point.\n",
            "Iteration No: 57 ended. Search finished for the next optimal point.\n",
            "Time taken: 1.5848\n",
            "Function value obtained: -0.8313\n",
            "Current minimum: -0.8365\n",
            "Iteration No: 58 started. Searching for the next optimal point.\n",
            "Iteration No: 58 ended. Search finished for the next optimal point.\n",
            "Time taken: 1.5081\n",
            "Function value obtained: -0.8063\n",
            "Current minimum: -0.8365\n",
            "Iteration No: 59 started. Searching for the next optimal point.\n",
            "Iteration No: 59 ended. Search finished for the next optimal point.\n",
            "Time taken: 1.2393\n",
            "Function value obtained: -0.8250\n",
            "Current minimum: -0.8365\n",
            "Iteration No: 60 started. Searching for the next optimal point.\n",
            "Iteration No: 60 ended. Search finished for the next optimal point.\n",
            "Time taken: 1.0640\n",
            "Function value obtained: -0.7871\n",
            "Current minimum: -0.8365\n",
            "Iteration No: 61 started. Searching for the next optimal point.\n",
            "Iteration No: 61 ended. Search finished for the next optimal point.\n",
            "Time taken: 1.2169\n",
            "Function value obtained: -0.8365\n",
            "Current minimum: -0.8365\n",
            "Iteration No: 62 started. Searching for the next optimal point.\n",
            "Iteration No: 62 ended. Search finished for the next optimal point.\n",
            "Time taken: 2.0792\n",
            "Function value obtained: -0.8348\n",
            "Current minimum: -0.8365\n",
            "Iteration No: 63 started. Searching for the next optimal point.\n",
            "Iteration No: 63 ended. Search finished for the next optimal point.\n",
            "Time taken: 2.7615\n",
            "Function value obtained: -0.8343\n",
            "Current minimum: -0.8365\n",
            "Iteration No: 64 started. Searching for the next optimal point.\n",
            "Iteration No: 64 ended. Search finished for the next optimal point.\n",
            "Time taken: 2.2306\n",
            "Function value obtained: -0.8294\n",
            "Current minimum: -0.8365\n",
            "Iteration No: 65 started. Searching for the next optimal point.\n",
            "Iteration No: 65 ended. Search finished for the next optimal point.\n",
            "Time taken: 3.0404\n",
            "Function value obtained: -0.8244\n",
            "Current minimum: -0.8365\n",
            "Iteration No: 66 started. Searching for the next optimal point.\n",
            "Iteration No: 66 ended. Search finished for the next optimal point.\n",
            "Time taken: 2.6349\n",
            "Function value obtained: -0.8238\n",
            "Current minimum: -0.8365\n",
            "Iteration No: 67 started. Searching for the next optimal point.\n",
            "Iteration No: 67 ended. Search finished for the next optimal point.\n",
            "Time taken: 1.6412\n",
            "Function value obtained: -0.7510\n",
            "Current minimum: -0.8365\n",
            "Iteration No: 68 started. Searching for the next optimal point.\n",
            "Iteration No: 68 ended. Search finished for the next optimal point.\n",
            "Time taken: 1.3800\n",
            "Function value obtained: -0.7372\n",
            "Current minimum: -0.8365\n",
            "Iteration No: 69 started. Searching for the next optimal point.\n",
            "Iteration No: 69 ended. Search finished for the next optimal point.\n",
            "Time taken: 2.8734\n",
            "Function value obtained: -0.8336\n",
            "Current minimum: -0.8365\n",
            "Iteration No: 70 started. Searching for the next optimal point.\n",
            "Iteration No: 70 ended. Search finished for the next optimal point.\n",
            "Time taken: 1.7705\n",
            "Function value obtained: -0.8345\n",
            "Current minimum: -0.8365\n",
            "Iteration No: 71 started. Searching for the next optimal point.\n",
            "Iteration No: 71 ended. Search finished for the next optimal point.\n",
            "Time taken: 1.3868\n",
            "Function value obtained: -0.8365\n",
            "Current minimum: -0.8365\n",
            "Iteration No: 72 started. Searching for the next optimal point.\n",
            "Iteration No: 72 ended. Search finished for the next optimal point.\n",
            "Time taken: 2.9123\n",
            "Function value obtained: -0.8354\n",
            "Current minimum: -0.8365\n",
            "Iteration No: 73 started. Searching for the next optimal point.\n",
            "Iteration No: 73 ended. Search finished for the next optimal point.\n",
            "Time taken: 1.6823\n",
            "Function value obtained: -0.8231\n",
            "Current minimum: -0.8365\n",
            "Iteration No: 74 started. Searching for the next optimal point.\n",
            "Iteration No: 74 ended. Search finished for the next optimal point.\n",
            "Time taken: 1.9696\n",
            "Function value obtained: -0.8301\n",
            "Current minimum: -0.8365\n",
            "Iteration No: 75 started. Searching for the next optimal point.\n",
            "Iteration No: 75 ended. Search finished for the next optimal point.\n",
            "Time taken: 1.4858\n",
            "Function value obtained: -0.8326\n",
            "Current minimum: -0.8365\n",
            "Iteration No: 76 started. Searching for the next optimal point.\n",
            "Iteration No: 76 ended. Search finished for the next optimal point.\n",
            "Time taken: 1.5239\n",
            "Function value obtained: -0.8364\n",
            "Current minimum: -0.8365\n",
            "Iteration No: 77 started. Searching for the next optimal point.\n",
            "Iteration No: 77 ended. Search finished for the next optimal point.\n",
            "Time taken: 1.3898\n",
            "Function value obtained: -0.8365\n",
            "Current minimum: -0.8365\n",
            "Iteration No: 78 started. Searching for the next optimal point.\n",
            "Iteration No: 78 ended. Search finished for the next optimal point.\n",
            "Time taken: 1.6425\n",
            "Function value obtained: -0.8092\n",
            "Current minimum: -0.8365\n",
            "Iteration No: 79 started. Searching for the next optimal point.\n",
            "Iteration No: 79 ended. Search finished for the next optimal point.\n",
            "Time taken: 2.6745\n",
            "Function value obtained: -0.8327\n",
            "Current minimum: -0.8365\n",
            "Iteration No: 80 started. Searching for the next optimal point.\n",
            "Iteration No: 80 ended. Search finished for the next optimal point.\n",
            "Time taken: 1.6788\n",
            "Function value obtained: -0.7867\n",
            "Current minimum: -0.8365\n",
            "Iteration No: 81 started. Searching for the next optimal point.\n",
            "Iteration No: 81 ended. Search finished for the next optimal point.\n",
            "Time taken: 1.3478\n",
            "Function value obtained: -0.7354\n",
            "Current minimum: -0.8365\n",
            "Iteration No: 82 started. Searching for the next optimal point.\n",
            "Iteration No: 82 ended. Search finished for the next optimal point.\n",
            "Time taken: 1.4967\n",
            "Function value obtained: -0.8362\n",
            "Current minimum: -0.8365\n",
            "Iteration No: 83 started. Searching for the next optimal point.\n",
            "Iteration No: 83 ended. Search finished for the next optimal point.\n",
            "Time taken: 1.4517\n",
            "Function value obtained: -0.8331\n",
            "Current minimum: -0.8365\n",
            "Iteration No: 84 started. Searching for the next optimal point.\n",
            "Iteration No: 84 ended. Search finished for the next optimal point.\n",
            "Time taken: 1.4599\n",
            "Function value obtained: -0.8052\n",
            "Current minimum: -0.8365\n",
            "Iteration No: 85 started. Searching for the next optimal point.\n",
            "Iteration No: 85 ended. Search finished for the next optimal point.\n",
            "Time taken: 1.6835\n",
            "Function value obtained: -0.8344\n",
            "Current minimum: -0.8365\n",
            "Iteration No: 86 started. Searching for the next optimal point.\n",
            "Iteration No: 86 ended. Search finished for the next optimal point.\n",
            "Time taken: 1.6444\n",
            "Function value obtained: -0.8365\n",
            "Current minimum: -0.8365\n",
            "Iteration No: 87 started. Searching for the next optimal point.\n",
            "Iteration No: 87 ended. Search finished for the next optimal point.\n",
            "Time taken: 2.1251\n",
            "Function value obtained: -0.8334\n",
            "Current minimum: -0.8365\n",
            "Iteration No: 88 started. Searching for the next optimal point.\n",
            "Iteration No: 88 ended. Search finished for the next optimal point.\n",
            "Time taken: 1.6773\n",
            "Function value obtained: -0.8365\n",
            "Current minimum: -0.8365\n",
            "Iteration No: 89 started. Searching for the next optimal point.\n",
            "Iteration No: 89 ended. Search finished for the next optimal point.\n",
            "Time taken: 2.1074\n",
            "Function value obtained: -0.8287\n",
            "Current minimum: -0.8365\n",
            "Iteration No: 90 started. Searching for the next optimal point.\n",
            "Iteration No: 90 ended. Search finished for the next optimal point.\n",
            "Time taken: 2.8342\n",
            "Function value obtained: -0.8328\n",
            "Current minimum: -0.8365\n",
            "Iteration No: 91 started. Searching for the next optimal point.\n",
            "Iteration No: 91 ended. Search finished for the next optimal point.\n",
            "Time taken: 1.9428\n",
            "Function value obtained: -0.8344\n",
            "Current minimum: -0.8365\n",
            "Iteration No: 92 started. Searching for the next optimal point.\n",
            "Iteration No: 92 ended. Search finished for the next optimal point.\n",
            "Time taken: 3.3532\n",
            "Function value obtained: -0.8304\n",
            "Current minimum: -0.8365\n",
            "Iteration No: 93 started. Searching for the next optimal point.\n",
            "Iteration No: 93 ended. Search finished for the next optimal point.\n",
            "Time taken: 1.8928\n",
            "Function value obtained: -0.8363\n",
            "Current minimum: -0.8365\n",
            "Iteration No: 94 started. Searching for the next optimal point.\n",
            "Iteration No: 94 ended. Search finished for the next optimal point.\n",
            "Time taken: 2.4382\n",
            "Function value obtained: -0.8334\n",
            "Current minimum: -0.8365\n",
            "Iteration No: 95 started. Searching for the next optimal point.\n",
            "Iteration No: 95 ended. Search finished for the next optimal point.\n",
            "Time taken: 1.8341\n",
            "Function value obtained: -0.8296\n",
            "Current minimum: -0.8365\n",
            "Iteration No: 96 started. Searching for the next optimal point.\n",
            "Iteration No: 96 ended. Search finished for the next optimal point.\n",
            "Time taken: 1.9090\n",
            "Function value obtained: -0.8336\n",
            "Current minimum: -0.8365\n",
            "Iteration No: 97 started. Searching for the next optimal point.\n",
            "Iteration No: 97 ended. Search finished for the next optimal point.\n",
            "Time taken: 3.4242\n",
            "Function value obtained: -0.8358\n",
            "Current minimum: -0.8365\n",
            "Iteration No: 98 started. Searching for the next optimal point.\n",
            "Iteration No: 98 ended. Search finished for the next optimal point.\n",
            "Time taken: 3.5766\n",
            "Function value obtained: -0.8365\n",
            "Current minimum: -0.8365\n",
            "Iteration No: 99 started. Searching for the next optimal point.\n",
            "Iteration No: 99 ended. Search finished for the next optimal point.\n",
            "Time taken: 3.6300\n",
            "Function value obtained: -0.8355\n",
            "Current minimum: -0.8365\n",
            "Iteration No: 100 started. Searching for the next optimal point.\n",
            "Iteration No: 100 ended. Search finished for the next optimal point.\n",
            "Time taken: 2.0131\n",
            "Function value obtained: -0.8365\n",
            "Current minimum: -0.8365\n"
          ],
          "name": "stdout"
        }
      ]
    },
    {
      "cell_type": "markdown",
      "metadata": {
        "id": "ZKsmxm39_Vw7"
      },
      "source": [
        "Com nossa otimização bayesiana finalizada, conseguimos saber qual o melhor grupo de parâmetros que foi localizado com o seguinte comando:"
      ]
    },
    {
      "cell_type": "code",
      "metadata": {
        "colab": {
          "base_uri": "https://localhost:8080/"
        },
        "id": "laBxvf4HuUVv",
        "outputId": "70444d32-689e-4406-c643-040b289ac012"
      },
      "source": [
        "'''\n",
        "Lembrando que nossos parâmetros estão na seguinte ordem:\n",
        "--> learning_rate = params[0]\n",
        "--> n_estimators = params[1]\n",
        "--> max_depth = params[2]\n",
        "--> subsample = params[3]\n",
        "--> colsample_bytree = params[4]\n",
        "'''\n",
        "resultados_gp.x"
      ],
      "execution_count": 67,
      "outputs": [
        {
          "output_type": "execute_result",
          "data": {
            "text/plain": [
              "[0.1, 100, 5, 1.0, 1.0]"
            ]
          },
          "metadata": {
            "tags": []
          },
          "execution_count": 67
        }
      ]
    },
    {
      "cell_type": "markdown",
      "metadata": {
        "id": "e26Eja5t__pC"
      },
      "source": [
        "Vamos analisar o modelo com o grupo de parâmetros que conseguimos na otimização bayesiana:"
      ]
    },
    {
      "cell_type": "code",
      "metadata": {
        "id": "JQdGMPEs8_wc"
      },
      "source": [
        "#Modelo com algoritmo XGBClassifier depois da busca aleatória + Bayesian Optimization\n",
        "\n",
        "xboost = XGBClassifier(learning_rate=0.1,n_estimators=100,max_depth=5,subsample=1,colsample_bytree=1)\n",
        "xboost.fit(X_train, y_train)\n",
        "prev = xboost.predict_proba(X_test)\n",
        "prev1 = xboost.predict(X_test)"
      ],
      "execution_count": 151,
      "outputs": []
    },
    {
      "cell_type": "code",
      "metadata": {
        "colab": {
          "base_uri": "https://localhost:8080/"
        },
        "id": "rv4krmMG2j5w",
        "outputId": "67ce416e-a8e4-41c8-ad59-9b6882a623f4"
      },
      "source": [
        "#Conferindo roc_auc_score depois da busca aleatória + Bayesian Optimization\n",
        "\n",
        "#Grupo de parâmetros = [0.1, 100, 5, 1.0, 1.0]\n",
        "#Resultado = 0.8314740116395746\n",
        "\n",
        "roc_auc_score(y_test,prev,multi_class='ovo')"
      ],
      "execution_count": 152,
      "outputs": [
        {
          "output_type": "execute_result",
          "data": {
            "text/plain": [
              "0.8314614987409105"
            ]
          },
          "metadata": {
            "tags": []
          },
          "execution_count": 152
        }
      ]
    },
    {
      "cell_type": "markdown",
      "metadata": {
        "id": "YQACrzc7Dw9t"
      },
      "source": [
        "Graças a otimização, nosso modelo saiu de uma 'roc_auc_score' de 0.8197, para uma 'roc_auc_score' de 0.8364.\n",
        "\n",
        "Lembrando que para essa métrica quanto mais próximo de 1, melhor é o nosso modelo!"
      ]
    },
    {
      "cell_type": "markdown",
      "metadata": {
        "id": "aQHouifTN5uN"
      },
      "source": [
        "# **Avaliação dos modelos**"
      ]
    },
    {
      "cell_type": "markdown",
      "metadata": {
        "id": "MuPoaH7AREyy"
      },
      "source": [
        "Começando pelo relatório de classificação nós temos as seguintes métricas:\n"
      ]
    },
    {
      "cell_type": "markdown",
      "metadata": {
        "id": "Xh7xRZywEtc3"
      },
      "source": [
        "<font color=blue>>> Recall / Sensibilidade</font>\n",
        "    - Medida que nos mostra quão bom o modelo é para prever/detectar positivos\n",
        "\n",
        "<font color=blue>>> Precisão</font>\n",
        "    - Medida que nos ajuda a responder a seguinte pergunta: Dos classificados como positivos, quantos são realmente positivos?\n",
        "\n",
        "<font color=blue>>> f1-score</font>\n",
        "    - Nos mostra o balanço entre a precisão e o recall de nosso modelo, quanto mais próximo de 1 melhor"
      ]
    },
    {
      "cell_type": "code",
      "metadata": {
        "colab": {
          "base_uri": "https://localhost:8080/",
          "height": 282
        },
        "id": "lwG27Zp_uUtA",
        "outputId": "4e90c346-ec77-40b6-b8a8-2422a8c51658"
      },
      "source": [
        "#Relatório de classificação\n",
        "\n",
        "report_df = pd.DataFrame(classification_report(y_test,prev1, output_dict=True)). T\n",
        "report_df = report_df.drop(columns=['support'])\n",
        "\n",
        "sns.heatmap(report_df,cmap='magma',linecolor='white',linewidths=0.5,annot=True)"
      ],
      "execution_count": 155,
      "outputs": [
        {
          "output_type": "execute_result",
          "data": {
            "text/plain": [
              "<matplotlib.axes._subplots.AxesSubplot at 0x7f7dca975a50>"
            ]
          },
          "metadata": {
            "tags": []
          },
          "execution_count": 155
        },
        {
          "output_type": "display_data",
          "data": {
            "image/png": "[encoded data removed]",
            "text/plain": [
              "<Figure size 432x288 with 2 Axes>"
            ]
          },
          "metadata": {
            "tags": []
          }
        }
      ]
    },
    {
      "cell_type": "markdown",
      "metadata": {
        "id": "epsdP2UuRN5k"
      },
      "source": [
        "Também temos a matriz de confusão como métrica, ela nos mostra as frequências de classificação para cada classe do modelo"
      ]
    },
    {
      "cell_type": "markdown",
      "metadata": {
        "id": "pJEFAmBZNTkU"
      },
      "source": [
        "**Matriz de confusão**"
      ]
    },
    {
      "cell_type": "code",
      "metadata": {
        "id": "MCfSaNa2uU22"
      },
      "source": [
        "#Matriz de confusão\n",
        "recozimento = report_df.index[:-3]\n",
        "matriz = confusion_matrix(y_test,prev1)\n",
        "matriz = pd.DataFrame(matriz, index=recozimento.values,columns=recozimento.values)\n",
        "matriz = matriz/matriz.sum(axis=1)[:,np.newaxis] #Normalização em linha (recall)"
      ],
      "execution_count": 143,
      "outputs": []
    },
    {
      "cell_type": "code",
      "metadata": {
        "colab": {
          "base_uri": "https://localhost:8080/",
          "height": 282
        },
        "id": "twa3FOL8uVhD",
        "outputId": "93c5028d-0176-42be-8dd6-551fe5d78e1f"
      },
      "source": [
        "#Plot matriz de confusão\n",
        "sns.heatmap(matriz,cmap='magma',linecolor='white',linewidths=0.3,annot=True,fmt='.0%',cbar=False,square=True)"
      ],
      "execution_count": 154,
      "outputs": [
        {
          "output_type": "execute_result",
          "data": {
            "text/plain": [
              "<matplotlib.axes._subplots.AxesSubplot at 0x7f7dca990510>"
            ]
          },
          "metadata": {
            "tags": []
          },
          "execution_count": 154
        },
        {
          "output_type": "display_data",
          "data": {
            "image/png": "[encoded data removed]",
            "text/plain": [
              "<Figure size 432x288 with 1 Axes>"
            ]
          },
          "metadata": {
            "tags": []
          }
        }
      ]
    },
    {
      "cell_type": "markdown",
      "metadata": {
        "id": "E62E-aR5SGcg"
      },
      "source": [
        "Por último e não menos importante, também podemos saber a acurácia dos nossos modelos com o seguinte comando:"
      ]
    },
    {
      "cell_type": "code",
      "metadata": {
        "colab": {
          "base_uri": "https://localhost:8080/"
        },
        "id": "K0xRxEumOyCn",
        "outputId": "bf1deade-8655-4699-aac5-c7a196c98557"
      },
      "source": [
        "#Acurácia -> Diz quanto o modelo acertou de acordo com as previsões possíveis\n",
        "\n",
        "acc = accuracy_score(y_test,prev1)\n",
        "print(\"Acurácia: %2f%%\" % (acc*100.00))"
      ],
      "execution_count": 153,
      "outputs": [
        {
          "output_type": "stream",
          "text": [
            "Acurácia: 79.835391%\n"
          ],
          "name": "stdout"
        }
      ]
    },
    {
      "cell_type": "markdown",
      "metadata": {
        "id": "YpPFGF0ESfXT"
      },
      "source": [
        "Com as métricas que foram utilizadas para avaliação, podemos concluir que nosso modelo possui facilidade em prever recozimentos do tipo 'ideal' e 'ruim', com uma taxa de recall acima de 89%. Em contrapartida ele sofre nas classificações de recozimento 'mediano', a matriz de confusão prova isso visualmente. \n",
        "\n",
        "Esse resultado tem muita ligação com a quantidade de valores missing e talvez com o período que estamos trabalhando (Agosto/2020), seria recomendado um estudo mais aprofundado com amostras mais completas e também mais dados de períodos distintos.\n",
        "\n",
        "Tendo em vista todas essas circustâncias, penso que o modelo que foi gerado teve um bom resultado!"
      ]
    },
    {
      "cell_type": "code",
      "metadata": {
        "colab": {
          "base_uri": "https://localhost:8080/",
          "height": 302
        },
        "id": "2BOThKrIWjLr",
        "outputId": "0cb926c7-09ae-44c5-b2bc-c7e0e4c9349c"
      },
      "source": [
        "from IPython.display import Image\n",
        "Image(url='https://media.giphy.com/media/L2xcBudpN3nXTfV8ya/giphy.gif')"
      ],
      "execution_count": 160,
      "outputs": [
        {
          "output_type": "execute_result",
          "data": {
            "text/html": [
              "<img src=\"https://media.giphy.com/media/L2xcBudpN3nXTfV8ya/giphy.gif\"/>"
            ],
            "text/plain": [
              "<IPython.core.display.Image object>"
            ]
          },
          "metadata": {
            "tags": []
          },
          "execution_count": 160
        }
      ]
    },
    {
      "cell_type": "markdown",
      "metadata": {
        "id": "28z_-kUMVM6U"
      },
      "source": [
        "**Novos processos de recozimento**\n",
        "\n",
        "Feito nosso modelo de machine learning, agora é hora de aplicarmos o mesmo em nossos dados de teste e predizer o resultado de novos processos de recozimento"
      ]
    },
    {
      "cell_type": "code",
      "metadata": {
        "id": "WkBVhFzdj9Ft"
      },
      "source": [
        "#Definindo variáveis de entrada\n",
        "X_prev = test[variaveis_entrada].values"
      ],
      "execution_count": 157,
      "outputs": []
    },
    {
      "cell_type": "markdown",
      "metadata": {
        "id": "4QhjgZ6vV04K"
      },
      "source": [
        "Aplicando LabelEncoder nos dados de teste:"
      ]
    },
    {
      "cell_type": "code",
      "metadata": {
        "id": "gHUsh2Zvl9P8"
      },
      "source": [
        "X_prev[:,4] = label_encoder_shape.fit_transform(X_prev[:,4])\n",
        "X_prev[:,8] = label_encoder_product.fit_transform(X_prev[:,8])\n",
        "X_prev[:,9] = label_encoder_steel.fit_transform(X_prev[:,9])\n",
        "X_prev[:,10] = label_encoder_surfacequality.fit_transform(X_prev[:,10])\n",
        "X_prev[:,11] = label_encoder_condition.fit_transform(X_prev[:,11])\n",
        "X_prev[:,12] = label_encoder_fomability.fit_transform(X_prev[:,12])\n",
        "X_prev[:,13] = label_encoder_bw.fit_transform(X_prev[:,13])\n",
        "X_prev[:,14] = label_encoder_bl.fit_transform(X_prev[:,14])\n",
        "X_prev[:,15] = label_encoder_temper_rolling.fit_transform(X_prev[:,15])\n",
        "X_prev[:,16] = label_encoder_bf.fit_transform(X_prev[:,16])\n",
        "X_prev[:,17] = label_encoder_family.fit_transform(X_prev[:,17])\n",
        "X_prev[:,18] = label_encoder_nonageing.fit_transform(X_prev[:,18])"
      ],
      "execution_count": 159,
      "outputs": []
    },
    {
      "cell_type": "markdown",
      "metadata": {
        "id": "B9cJixrVWLxN"
      },
      "source": [
        "Aplicando nosso modelo nos novos processos de recozimento:"
      ]
    },
    {
      "cell_type": "code",
      "metadata": {
        "id": "ub4FMB7ilVIc"
      },
      "source": [
        "#Aplicando modelo em teste\n",
        "p = xboost.predict(X_prev)"
      ],
      "execution_count": 161,
      "outputs": []
    },
    {
      "cell_type": "code",
      "metadata": {
        "id": "N2ciIpBHmgjc"
      },
      "source": [
        "#Criando uma nova coluna no dataset de teste com a variável target\n",
        "test['recozimento'] = p"
      ],
      "execution_count": 162,
      "outputs": []
    },
    {
      "cell_type": "code",
      "metadata": {
        "colab": {
          "base_uri": "https://localhost:8080/",
          "height": 241
        },
        "id": "tmBESkBTmkTL",
        "outputId": "30925556-f4c8-4400-aae0-3683cc30d5f9"
      },
      "source": [
        "#Visualização do dataset com o resultado dos processos de recozimento\n",
        "test.head()"
      ],
      "execution_count": 164,
      "outputs": [
        {
          "output_type": "execute_result",
          "data": {
            "text/html": [
              "<div>\n",
              "<style scoped>\n",
              "    .dataframe tbody tr th:only-of-type {\n",
              "        vertical-align: middle;\n",
              "    }\n",
              "\n",
              "    .dataframe tbody tr th {\n",
              "        vertical-align: top;\n",
              "    }\n",
              "\n",
              "    .dataframe thead th {\n",
              "        text-align: right;\n",
              "    }\n",
              "</style>\n",
              "<table border=\"1\" class=\"dataframe\">\n",
              "  <thead>\n",
              "    <tr style=\"text-align: right;\">\n",
              "      <th></th>\n",
              "      <th>family</th>\n",
              "      <th>product-type</th>\n",
              "      <th>steel</th>\n",
              "      <th>carbon</th>\n",
              "      <th>hardness</th>\n",
              "      <th>temper_rolling</th>\n",
              "      <th>condition</th>\n",
              "      <th>formability</th>\n",
              "      <th>strength</th>\n",
              "      <th>non-ageing</th>\n",
              "      <th>surface-finish</th>\n",
              "      <th>surface-quality</th>\n",
              "      <th>enamelability</th>\n",
              "      <th>bc</th>\n",
              "      <th>bf</th>\n",
              "      <th>bt</th>\n",
              "      <th>bw/me</th>\n",
              "      <th>bl</th>\n",
              "      <th>m</th>\n",
              "      <th>chrom</th>\n",
              "      <th>phos</th>\n",
              "      <th>cbond</th>\n",
              "      <th>marvi</th>\n",
              "      <th>exptl</th>\n",
              "      <th>ferro</th>\n",
              "      <th>corr</th>\n",
              "      <th>blue/bright/varn/clean</th>\n",
              "      <th>lustre</th>\n",
              "      <th>jurofm</th>\n",
              "      <th>s</th>\n",
              "      <th>p</th>\n",
              "      <th>shape</th>\n",
              "      <th>thick</th>\n",
              "      <th>width</th>\n",
              "      <th>len</th>\n",
              "      <th>oil</th>\n",
              "      <th>bore</th>\n",
              "      <th>packing</th>\n",
              "      <th>id</th>\n",
              "      <th>recozimento</th>\n",
              "    </tr>\n",
              "  </thead>\n",
              "  <tbody>\n",
              "    <tr>\n",
              "      <th>0</th>\n",
              "      <td>TN</td>\n",
              "      <td>C</td>\n",
              "      <td>K</td>\n",
              "      <td>55</td>\n",
              "      <td>0</td>\n",
              "      <td>T</td>\n",
              "      <td>S</td>\n",
              "      <td>2.0</td>\n",
              "      <td>0</td>\n",
              "      <td>N</td>\n",
              "      <td>NaN</td>\n",
              "      <td>E</td>\n",
              "      <td>NaN</td>\n",
              "      <td>NaN</td>\n",
              "      <td>Y</td>\n",
              "      <td>NaN</td>\n",
              "      <td>M</td>\n",
              "      <td>Y</td>\n",
              "      <td>NaN</td>\n",
              "      <td>NaN</td>\n",
              "      <td>NaN</td>\n",
              "      <td>NaN</td>\n",
              "      <td>NaN</td>\n",
              "      <td>NaN</td>\n",
              "      <td>NaN</td>\n",
              "      <td>NaN</td>\n",
              "      <td>NaN</td>\n",
              "      <td>NaN</td>\n",
              "      <td>NaN</td>\n",
              "      <td>NaN</td>\n",
              "      <td>NaN</td>\n",
              "      <td>COIL</td>\n",
              "      <td>2.200</td>\n",
              "      <td>900.0</td>\n",
              "      <td>0</td>\n",
              "      <td>NaN</td>\n",
              "      <td>0</td>\n",
              "      <td>NaN</td>\n",
              "      <td>1</td>\n",
              "      <td>mediano</td>\n",
              "    </tr>\n",
              "    <tr>\n",
              "      <th>1</th>\n",
              "      <td>TN</td>\n",
              "      <td>C</td>\n",
              "      <td>K</td>\n",
              "      <td>45</td>\n",
              "      <td>0</td>\n",
              "      <td>T</td>\n",
              "      <td>S</td>\n",
              "      <td>2.0</td>\n",
              "      <td>0</td>\n",
              "      <td>N</td>\n",
              "      <td>NaN</td>\n",
              "      <td>E</td>\n",
              "      <td>NaN</td>\n",
              "      <td>NaN</td>\n",
              "      <td>Y</td>\n",
              "      <td>NaN</td>\n",
              "      <td>B</td>\n",
              "      <td>Y</td>\n",
              "      <td>NaN</td>\n",
              "      <td>NaN</td>\n",
              "      <td>NaN</td>\n",
              "      <td>NaN</td>\n",
              "      <td>NaN</td>\n",
              "      <td>NaN</td>\n",
              "      <td>NaN</td>\n",
              "      <td>NaN</td>\n",
              "      <td>NaN</td>\n",
              "      <td>NaN</td>\n",
              "      <td>NaN</td>\n",
              "      <td>NaN</td>\n",
              "      <td>NaN</td>\n",
              "      <td>COIL</td>\n",
              "      <td>1.090</td>\n",
              "      <td>610.0</td>\n",
              "      <td>0</td>\n",
              "      <td>NaN</td>\n",
              "      <td>0</td>\n",
              "      <td>NaN</td>\n",
              "      <td>2</td>\n",
              "      <td>mediano</td>\n",
              "    </tr>\n",
              "    <tr>\n",
              "      <th>2</th>\n",
              "      <td>TN</td>\n",
              "      <td>C</td>\n",
              "      <td>R</td>\n",
              "      <td>0</td>\n",
              "      <td>0</td>\n",
              "      <td>T</td>\n",
              "      <td>S</td>\n",
              "      <td>3.0</td>\n",
              "      <td>0</td>\n",
              "      <td>N</td>\n",
              "      <td>NaN</td>\n",
              "      <td>E</td>\n",
              "      <td>NaN</td>\n",
              "      <td>NaN</td>\n",
              "      <td>Y</td>\n",
              "      <td>NaN</td>\n",
              "      <td>B</td>\n",
              "      <td>Y</td>\n",
              "      <td>NaN</td>\n",
              "      <td>NaN</td>\n",
              "      <td>NaN</td>\n",
              "      <td>NaN</td>\n",
              "      <td>NaN</td>\n",
              "      <td>NaN</td>\n",
              "      <td>NaN</td>\n",
              "      <td>NaN</td>\n",
              "      <td>NaN</td>\n",
              "      <td>NaN</td>\n",
              "      <td>NaN</td>\n",
              "      <td>NaN</td>\n",
              "      <td>NaN</td>\n",
              "      <td>SHEET</td>\n",
              "      <td>1.599</td>\n",
              "      <td>150.0</td>\n",
              "      <td>762</td>\n",
              "      <td>NaN</td>\n",
              "      <td>0</td>\n",
              "      <td>NaN</td>\n",
              "      <td>3</td>\n",
              "      <td>ruim</td>\n",
              "    </tr>\n",
              "    <tr>\n",
              "      <th>3</th>\n",
              "      <td>TN</td>\n",
              "      <td>C</td>\n",
              "      <td>A</td>\n",
              "      <td>0</td>\n",
              "      <td>0</td>\n",
              "      <td>T</td>\n",
              "      <td>S</td>\n",
              "      <td>2.0</td>\n",
              "      <td>0</td>\n",
              "      <td>N</td>\n",
              "      <td>NaN</td>\n",
              "      <td>G</td>\n",
              "      <td>NaN</td>\n",
              "      <td>NaN</td>\n",
              "      <td>Y</td>\n",
              "      <td>NaN</td>\n",
              "      <td>B</td>\n",
              "      <td>Y</td>\n",
              "      <td>NaN</td>\n",
              "      <td>NaN</td>\n",
              "      <td>NaN</td>\n",
              "      <td>NaN</td>\n",
              "      <td>NaN</td>\n",
              "      <td>NaN</td>\n",
              "      <td>NaN</td>\n",
              "      <td>NaN</td>\n",
              "      <td>NaN</td>\n",
              "      <td>NaN</td>\n",
              "      <td>NaN</td>\n",
              "      <td>NaN</td>\n",
              "      <td>NaN</td>\n",
              "      <td>COIL</td>\n",
              "      <td>0.400</td>\n",
              "      <td>20.0</td>\n",
              "      <td>0</td>\n",
              "      <td>NaN</td>\n",
              "      <td>0</td>\n",
              "      <td>NaN</td>\n",
              "      <td>4</td>\n",
              "      <td>ruim</td>\n",
              "    </tr>\n",
              "    <tr>\n",
              "      <th>4</th>\n",
              "      <td>TN</td>\n",
              "      <td>C</td>\n",
              "      <td>R</td>\n",
              "      <td>0</td>\n",
              "      <td>0</td>\n",
              "      <td>T</td>\n",
              "      <td>S</td>\n",
              "      <td>2.0</td>\n",
              "      <td>0</td>\n",
              "      <td>N</td>\n",
              "      <td>NaN</td>\n",
              "      <td>E</td>\n",
              "      <td>NaN</td>\n",
              "      <td>NaN</td>\n",
              "      <td>Y</td>\n",
              "      <td>Y</td>\n",
              "      <td>B</td>\n",
              "      <td>Y</td>\n",
              "      <td>NaN</td>\n",
              "      <td>NaN</td>\n",
              "      <td>NaN</td>\n",
              "      <td>NaN</td>\n",
              "      <td>NaN</td>\n",
              "      <td>NaN</td>\n",
              "      <td>NaN</td>\n",
              "      <td>NaN</td>\n",
              "      <td>NaN</td>\n",
              "      <td>NaN</td>\n",
              "      <td>NaN</td>\n",
              "      <td>NaN</td>\n",
              "      <td>NaN</td>\n",
              "      <td>COIL</td>\n",
              "      <td>0.699</td>\n",
              "      <td>1320.0</td>\n",
              "      <td>0</td>\n",
              "      <td>NaN</td>\n",
              "      <td>0</td>\n",
              "      <td>NaN</td>\n",
              "      <td>5</td>\n",
              "      <td>ruim</td>\n",
              "    </tr>\n",
              "  </tbody>\n",
              "</table>\n",
              "</div>"
            ],
            "text/plain": [
              "  family product-type steel  carbon  ...  bore packing id recozimento\n",
              "0     TN            C     K      55  ...     0     NaN  1     mediano\n",
              "1     TN            C     K      45  ...     0     NaN  2     mediano\n",
              "2     TN            C     R       0  ...     0     NaN  3        ruim\n",
              "3     TN            C     A       0  ...     0     NaN  4        ruim\n",
              "4     TN            C     R       0  ...     0     NaN  5        ruim\n",
              "\n",
              "[5 rows x 40 columns]"
            ]
          },
          "metadata": {
            "tags": []
          },
          "execution_count": 164
        }
      ]
    },
    {
      "cell_type": "code",
      "metadata": {
        "id": "wXq_qW-lXsUa"
      },
      "source": [
        "#Passando os dados para csv\n",
        "test.to_csv(\"Modelo_recozimento.csv\",header=True)"
      ],
      "execution_count": 166,
      "outputs": []
    },
    {
      "cell_type": "markdown",
      "metadata": {
        "id": "oDbvTpbxYAIR"
      },
      "source": [
        "Mas e aí, qual foi o resultado dos novos processos de recozimento?\n",
        "\n",
        "Já vimos como podemos responder a essa pergunta, o gráfico abaixo pode nos ajudar:"
      ]
    },
    {
      "cell_type": "code",
      "metadata": {
        "colab": {
          "base_uri": "https://localhost:8080/",
          "height": 350
        },
        "id": "dAI8X8-rmSuD",
        "outputId": "55074023-4212-470f-f58c-2b9188a09d6c"
      },
      "source": [
        "#Resultados dos processos de recozimento\n",
        "plt.figure(figsize=(10,5))\n",
        "sns.set_style('whitegrid')\n",
        "sns.countplot(x='recozimento',data=test,palette='mako');\n",
        "plt.title(\"Resultado dos novos processos de recozimento\");\n",
        "plt.xlabel(\"Recozimento\");\n",
        "plt.ylabel(\"Processos\");"
      ],
      "execution_count": 167,
      "outputs": [
        {
          "output_type": "display_data",
          "data": {
            "image/png": "[encoded data removed]",
            "text/plain": [
              "<Figure size 720x360 with 1 Axes>"
            ]
          },
          "metadata": {
            "tags": []
          }
        }
      ]
    },
    {
      "cell_type": "code",
      "metadata": {
        "colab": {
          "base_uri": "https://localhost:8080/"
        },
        "id": "l5pB0rnqYl1B",
        "outputId": "4244ae0b-b871-4389-d846-de95d9ad9cfd"
      },
      "source": [
        "test['recozimento'].value_counts()"
      ],
      "execution_count": 169,
      "outputs": [
        {
          "output_type": "execute_result",
          "data": {
            "text/plain": [
              "ruim       61\n",
              "ideal      17\n",
              "mediano    12\n",
              "Name: recozimento, dtype: int64"
            ]
          },
          "metadata": {
            "tags": []
          },
          "execution_count": 169
        }
      ]
    },
    {
      "cell_type": "markdown",
      "metadata": {
        "id": "1DsQ4avFY2iv"
      },
      "source": [
        "Acima temos os resultados dos novos processos de recozimento e vale lembrar que estamos falando de 90 processos.\n",
        "\n",
        "De acordo com a amostra o número de recozimentos 'ruim' foi novamente superior aos de 'ideal' e 'mediano', com a tabela ficando assim:\n",
        "- Recozimentos '**ruim**': 61 processos, representando aproximadamente 67,77% dos nossos dados. \n",
        "- Recozimentos '**medianos**': 12 processos, representando aproximadamente 13,33% dos nossos dados.\n",
        "- Recozimentos '**ideal**': 17 processos, representando aproximadamente 18,9% dos nossos dados."
      ]
    },
    {
      "cell_type": "markdown",
      "metadata": {
        "id": "P5knycYvYvs_"
      },
      "source": [
        "**Conclusão**\n",
        "\n",
        "Através deste estudo, quis trazer ao conhecimento fatos acerca de um dos processos de recozimento com a utilização de diversas visualizações de dados, a fim de deixar o entendimento mais transparente e direto. Algo que também está no escopo deste estudo foi a criação de um modelo de machine learning, passando por processos de tratamentos de dados, modelagem, otimização, avaliação e por fim a submissão do nosso modelo em dados de teste.\n",
        "\n",
        "Obviamente, como todos os estudos, este não é uma exceção e poderá ser sempre refinado, ainda assim, este sempre estará aberto para novas ideias, feedbacks e ferramentas a serem implementadas.\n",
        "\n",
        "Os principais resultados que visualizamos aqui é que os processos de recozimento em Agosto/2020 não obtiveram tantos sucessos. Aprendemos que variáveis como tipo de aço, largura da peça, força, dureza e formato tem uma relação direta com o resultado final do recozimento. Além disso, a quantidade de dados missing no conjunto de dados é muito grande, isso acaba afetando de forma direta nossos modelos de machine learning, por este motivo seria recomendável um estudo mais aprofundado para elaborar planos de ações tanto pra melhorar a qualidade das peças, quanto do resultado final dos recozimentos.\n"
      ]
    }
  ]
}